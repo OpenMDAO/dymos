{
 "cells": [
  {
   "cell_type": "code",
   "execution_count": null,
   "metadata": {
    "tags": [
     "active-ipynb",
     "remove-input",
     "remove-output"
    ]
   },
   "outputs": [],
   "source": [
    "try:\n",
    "    import openmdao.api as om\n",
    "    import dymos as dm\n",
    "except ImportError:\n",
    "    !python -m pip install openmdao[notebooks]\n",
    "    !python -m pip install dymos[docs]\n",
    "    import openmdao.api as om\n",
    "    import dymos as dm"
   ]
  },
  {
   "cell_type": "markdown",
   "metadata": {},
   "source": [
    "# Contributing to Dymos\n",
    "\n",
    "Dymos is open-source software and the developers welcome collaboration with the community on finding and fixing bugs or requesting and implementing new features.\n",
    "\n",
    "## Found a bug in Dymos?\n",
    "\n",
    "If you believe you've found a bug in Dymos, [submit a new issue](https://github.com/OpenMDAO/dymos/issues).\n",
    "If at all possible, please include a functional code example which demonstrates the issue (the expected behavior vs. the actual behavior).\n",
    "\n",
    "## Fixed a bug in Dymos?\n",
    "\n",
    "If you believe you have a fix for an existing bug in Dymos, please submit the fix as [pull request](https://github.com/OpenMDAO/dymos/pulls).\n",
    "Under the \"related issues\" section of the pull request template, include the issue resolved by the pull request using Github's [referencing syntax](https://help.github.com/en/github/managing-your-work-on-github/linking-a-pull-request-to-an-issue).\n",
    "When submitting a bug-fix pull request, please include a [unit test](https://docs.python.org/3.8/library/unittest.html) that demonstrates the corrected behavior.\n",
    "This will prevent regressions in the future.\n",
    "\n",
    "## Need new functionality in Dymos?\n",
    "\n",
    "If you would like to have new functionality that currently doesn't exist in Dymos, please submit your request via [the Dymos issues on Github](https://github.com/OpenMDAO/dymos/issues).\n",
    "The Dymos development team is small and we can't promise that we'll add every requested capability, but we'll happily have a discussion and try to accommodate reasonable requests that fit within the goals of the library."
   ]
  },
  {
   "cell_type": "markdown",
   "metadata": {},
   "source": [
    "## Adding new examples\n",
    "\n",
    "Adding new examples are a great way to contribute to Dymos.\n",
    "They're a great introduction to the Dymos development process, and examples provide a great way for users to learn to apply Dymos in new applications.\n",
    "Submit new examples via [the Dymos issues on Github](https://github.com/OpenMDAO/dymos/issues).\n",
    "New examples should do the following:\n",
    "\n",
    "- Include a new directory under the `dymos/examples` directory.\n",
    "- A unittest should be included in a `doc` subfolder within the example directory.\n",
    "- The unittest method should be self-contained (it should include all imports necessary to run the example).\n",
    "- If you want to include output and/or plots from the example in the documentation (highly recommended), decorate the test with the `@dymos.utils.doc_utils.save_for_docs` decorator.  This will save the text and plot outputs from the test for inclusion in the Dymos documentation.\n",
    "- A new markdown file should be added under `mkdocs/docs/examples/<example name>` within the Dymos repository.\n",
    "\n",
    "The Dymos docs are built on [JupyterBook](https://jupyterbook.org/intro.html) which allows users to run any page of the documentation by opening it in colab as a [Jupyter Notebook](https://jupyter.org). For those wanting to contribute, they are able to contribute by writing their own Jupyter Notebooks. Below are some important ways on how to build notebooks for Dymos.\n",
    "\n",
    "## Notebook Creation\n",
    "\n",
    "**Header**\n",
    "\n",
    "At the begining of every notebook, we require (without exception) to have the following code cell at the top of every notebook with the three tags: `active-ipynb`, `remove-input`, `remove-output`. Tags can be added at the top of the notebook menu by going to `View` -> `Cell Toolbar` -> `Tags`. "
   ]
  },
  {
   "cell_type": "code",
   "execution_count": null,
   "metadata": {
    "tags": [
     "active-ipynb",
     "remove-input",
     "remove-output"
    ]
   },
   "outputs": [],
   "source": [
    "try:\n",
    "    import openmdao.api as om\n",
    "    import dymos as dm\n",
    "except ModuleNotFoundError:\n",
    "    !python -m pip install openmdao[notebooks]\n",
    "    !python -m pip install dymos[docs]\n",
    "    import openmdao.api as om\n",
    "    import dymos as dm"
   ]
  },
  {
   "cell_type": "markdown",
   "metadata": {},
   "source": [
    "**Adding Code Examples**\n",
    "\n",
    "If you want to add a block of code, for example, simply add it to a code block like we have below."
   ]
  },
  {
   "cell_type": "code",
   "execution_count": null,
   "metadata": {
    "tags": [
     "remove-input",
     "hide-output"
    ]
   },
   "outputs": [],
   "source": [
    "om.display_source(\"dymos.examples.brachistochrone.doc.brachistochrone_ode\")"
   ]
  },
  {
   "cell_type": "code",
   "execution_count": null,
   "metadata": {},
   "outputs": [],
   "source": [
    "import numpy as np\n",
    "import openmdao.api as om\n",
    "from dymos.examples.brachistochrone.doc.brachistochrone_ode import BrachistochroneODE\n",
    "\n",
    "num_nodes = 5\n",
    "\n",
    "p = om.Problem(model=om.Group())\n",
    "\n",
    "ivc = p.model.add_subsystem('vars', om.IndepVarComp())\n",
    "ivc.add_output('v', shape=(num_nodes,), units='m/s')\n",
    "ivc.add_output('theta', shape=(num_nodes,), units='deg')\n",
    "\n",
    "p.model.add_subsystem('ode', BrachistochroneODE(num_nodes=num_nodes))\n",
    "\n",
    "p.model.connect('vars.v', 'ode.v')\n",
    "p.model.connect('vars.theta', 'ode.theta')\n",
    "\n",
    "p.setup(force_alloc_complex=True)\n",
    "\n",
    "p.set_val('vars.v', 10*np.random.random(num_nodes))\n",
    "p.set_val('vars.theta', 10*np.random.uniform(1, 179, num_nodes))\n",
    "\n",
    "p.run_model()\n",
    "cpd = p.check_partials(method='cs', compact_print=True)"
   ]
  },
  {
   "cell_type": "markdown",
   "metadata": {},
   "source": [
    "There should be a unit test associated with the code and it needs to be below the test. To keep the docs clean for users, we require that all tests be hidden (with few exceptions) using the tags `remove-input` and `remove-output`.\n",
    "\n",
    "- On the off chance you want to show the assert, use the tag `allow_assert`. \n",
    "- If your output is unusually long, use the tag `output_scroll` to make the output scrollable.\n",
    "\n",
    "Below is an assert test of the code above."
   ]
  },
  {
   "cell_type": "code",
   "execution_count": null,
   "metadata": {
    "tags": [
     "allow-assert"
    ]
   },
   "outputs": [],
   "source": [
    "from dymos.utils.testing_utils import assert_check_partials\n",
    "\n",
    "assert_check_partials(cpd)"
   ]
  },
  {
   "cell_type": "markdown",
   "metadata": {},
   "source": [
    "**Showing Source Code**\n",
    "\n",
    "If you want to show the source code of a particular class, there is a utility function from OpenMDAO to help you. Use `om.display_source()` to display your code. Example below:\n",
    "\n",
    "```{Note}\n",
    "This should include the tag `remove-input` to keep the docs clean\n",
    "```"
   ]
  },
  {
   "cell_type": "code",
   "execution_count": null,
   "metadata": {},
   "outputs": [],
   "source": [
    "om.display_source(\"dymos.examples.brachistochrone.brachistochrone_ode\")"
   ]
  },
  {
   "cell_type": "markdown",
   "metadata": {},
   "source": [
    "**Citing**\n",
    "If you want to cite a journal, article, book, etc, simply add ```{cite}`youbibtextname` ``` next to what you want to cite. Add your citiation to `reference.bib` so that keyword will be picked up by JupyterBook. Below is an example of a Bibtex citation, that citation applied, and then a reference section with a filter to compile a list of the references mentioned in this notebook.\n",
    "\n",
    "```\n",
    "@inproceedings{gray2010openmdao,\n",
    "  title={OpenMDAO: An open source framework for multidisciplinary analysis and optimization},\n",
    "  author={Gray, Justin and Moore, Kenneth and Naylor, Bret},\n",
    "  booktitle={13th AIAA/ISSMO Multidisciplinary Analysis Optimization Conference},\n",
    "  pages={9101},\n",
    "  year={2010}\n",
    "}\n",
    "```"
   ]
  },
  {
   "cell_type": "markdown",
   "metadata": {},
   "source": [
    "Grey {cite}`gray2010openmdao`"
   ]
  },
  {
   "cell_type": "markdown",
   "metadata": {},
   "source": [
    "### References\n",
    "\n",
    "```{bibliography}\n",
    ":filter: docname in docnames\n",
    "```"
   ]
  },
  {
   "cell_type": "markdown",
   "metadata": {},
   "source": [
    "**Building Docs**\n",
    "\n",
    "When you want to build the docs, run the following line from the top level of the Dymos folder: `jupyter-book build docs/`"
   ]
  },
  {
   "cell_type": "markdown",
   "metadata": {},
   "source": [
    "## Running Tests\n",
    "\n",
    "Dymos tests can be run with any test runner such as [nosetests](https://nose.readthedocs.io/en/latest/) or [pytest](https://docs.pytest.org/en/stable/).\n",
    "However, due to some MPI-specific tests in our examples, we prefer our [testflo](https://github.com/OpenMDAO/testflo) package.\n",
    "The testflo utility can be installed using\n",
    "\n",
    "```\n",
    "python -m pip install testflo\n",
    "```\n",
    "\n",
    "Testflo can be invoked from the top-level Dymos directory with:\n",
    "\n",
    "```\n",
    "testflo .\n",
    "```\n",
    "\n",
    "With pyoptsparse correctly installed and things working correctly, the tests should conclude after several minutes with a message like the following:\n",
    "The lack of MPI capability or pyoptsparse will cause additional tests to be skipped.\n",
    "\n",
    "```\n",
    "The following tests were skipped:\n",
    "test_command_line.py:TestCommandLine.test_ex_brachistochrone_reset_grid\n",
    "\n",
    "\n",
    "OK\n",
    "\n",
    "\n",
    "Passed:  450\n",
    "Failed:  0\n",
    "Skipped: 1\n",
    "\n",
    "Ran 451 tests using 2 processes\n",
    "```"
   ]
  }
 ],
 "metadata": {
  "celltoolbar": "Tags",
  "jupytext": {
   "cell_metadata_filter": "-all",
   "notebook_metadata_filter": "-all",
   "text_representation": {
    "extension": ".md",
    "format_name": "markdown"
   }
  },
  "kernelspec": {
   "display_name": "Python 3",
   "language": "python",
   "name": "python3"
  },
  "language_info": {
   "codemirror_mode": {
    "name": "ipython",
    "version": 3
   },
   "file_extension": ".py",
   "mimetype": "text/x-python",
   "name": "python",
   "nbconvert_exporter": "python",
   "pygments_lexer": "ipython3",
   "version": "3.8.3"
  }
 },
 "nbformat": 4,
 "nbformat_minor": 4
}
