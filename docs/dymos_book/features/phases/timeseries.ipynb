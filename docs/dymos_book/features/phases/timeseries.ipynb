{
 "cells": [
  {
   "cell_type": "code",
   "execution_count": null,
   "metadata": {
    "tags": [
     "active-ipynb",
     "remove-input",
     "remove-output"
    ]
   },
   "outputs": [],
   "source": [
    "# This cell is mandatory in all Dymos documentation notebooks.\n",
    "missing_packages = []\n",
    "try:\n",
    "    import openmdao.api as om\n",
    "except ImportError:\n",
    "    if 'google.colab' in str(get_ipython()):\n",
    "        !python -m pip install openmdao[notebooks]\n",
    "    else:\n",
    "        missing_packages.append('openmdao')\n",
    "try:\n",
    "    import dymos as dm\n",
    "except ImportError:\n",
    "    if 'google.colab' in str(get_ipython()):\n",
    "        !python -m pip install dymos\n",
    "    else:\n",
    "        missing_packages.append('dymos')\n",
    "try:\n",
    "    import pyoptsparse\n",
    "except ImportError:\n",
    "    if 'google.colab' in str(get_ipython()):\n",
    "        !pip install -q condacolab\n",
    "        import condacolab\n",
    "        condacolab.install_miniconda()\n",
    "        !conda install -c conda-forge pyoptsparse\n",
    "    else:\n",
    "        missing_packages.append('pyoptsparse')\n",
    "if missing_packages:\n",
    "    raise EnvironmentError('This notebook requires the following packages '\n",
    "                           'please install them and restart this notebook\\'s runtime: {\",\".join(missing_packages)}')"
   ]
  },
  {
   "cell_type": "markdown",
   "metadata": {},
   "source": [
    "# Timeseries Outputs\n",
    "\n",
    "Different optimal control transcriptions work in different ways.\n",
    "The Radau Pseudospectral transcription keeps a contiguous vector of state values at all nodes.\n",
    "The Gauss Lobatto transcription keeps two separate continuous vectors; one at the discretization nodes and the other at the collocation nodes.\n",
    "Retrieving a timeseries values of output values is thus transcription dependent.\n",
    "\n",
    "In order to make obtaining the timeseries output of a phase easier, each phase provides a timeseries component which collects and outputs the appropriate timeseries data.\n",
    "For the pseudospectral transcriptions, timeseries outputs are provided at all nodes.\n",
    "By default, the timeseries output will include the following variables for every problem.\n",
    "\n",
    "## Paths to timeseries outputs in Dymos\n",
    "\n",
    "|Path                                                          | Description                                         |\n",
    "|--------------------------------------------------------------|-----------------------------------------------------|\n",
    "|``<phase path>.timeseries.time``                              |Current time value                                   |\n",
    "|``<phase path>.timeseries.time_phase``                        |Current phase elapsed time                           |\n",
    "|``<phase path>.timeseries.<x>``                        |Value of state variable named x                      |\n",
    "|``<phase path>.timeseries.<u>``                      |Value of control variable named u                    |\n",
    "|``<phase path>.timeseries.<u>_rate``            |Time derivative of control named u                   |\n",
    "|``<phase path>.timeseries.<u>_rate2``           |Second time derivative of control named u            |\n",
    "|``<phase path>.timeseries.<p>``           |Value of polynomial control variable named u         |\n",
    "|``<phase path>.timeseries.<p>_rate`` |Time derivative of polynomial control named u        |\n",
    "|``<phase path>.timeseries.<p>_rate2``|Second time derivative of polynomial control named u |\n",
    "|``<phase path>.timeseries.<d>``                    |Value of parameter named d                           |\n",
    "\n",
    "## Adding additional timeseries outputs\n",
    "\n",
    "In addition to these default values, any output of the ODE can be added to the timeseries output\n",
    "using the ``add_timeseries_output`` method on Phase.  These outputs are available as\n",
    "``<phase path>.timeseries.<output name>``.  A glob pattern can be used with ``add_timeseries_output``\n",
    "to add multiple outputs to the timeseries simultaneously.  For instance, just passing '*' as the variable\n",
    "name will add all dynamic outputs of the ODE to the timeseries.\n",
    "\n",
    "Dymos will ignore any ODE outputs that are not sized such that the first dimension is the same as the\n",
    "number of nodes in the ODE.  That is, if the output variable doesn't appear to be dynamic, it will not\n",
    "be included in the timeseries outputs.\n",
    "\n",
    "```{eval-rst}\n",
    "    .. automethod:: dymos.Phase.add_timeseries_output\n",
    "        :noindex:\n",
    "```\n",
    "\n",
    "## Interpolated Timeseries Outputs\n",
    "\n",
    "Sometimes a user may want to interpolate the results of a phase onto a different grid.  This is particularly\n",
    "useful in the context of [tandem phases](examples:brachistochrone_tandem_phases).  Additional timeseries may be added to a phase using the ``add_timeseries`` method.  By default all timeseries will provide times, states, controls, and parameters on the specified output grid.  Adding other variables is accomplished using the\n",
    "``timeseries`` argument in the ``add_timeseries_output`` method.\n",
    "\n",
    "```{eval-rst}\n",
    "    .. automethod:: dymos.Phase.add_timeseries\n",
    "        :noindex:\n",
    "```"
   ]
  }
 ],
 "metadata": {
  "jupytext": {
   "cell_metadata_filter": "-all",
   "notebook_metadata_filter": "-all",
   "text_representation": {
    "extension": ".md",
    "format_name": "markdown"
   }
  },
  "kernelspec": {
   "display_name": "Python 3 (ipykernel)",
   "language": "python",
   "name": "python3"
  },
  "language_info": {
   "codemirror_mode": {
    "name": "ipython",
    "version": 3
   },
   "file_extension": ".py",
   "mimetype": "text/x-python",
   "name": "python",
   "nbconvert_exporter": "python",
   "pygments_lexer": "ipython3",
   "version": "3.10.5"
  }
 },
 "nbformat": 4,
 "nbformat_minor": 4
}
