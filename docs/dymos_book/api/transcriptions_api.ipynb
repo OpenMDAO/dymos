{
 "cells": [
  {
   "cell_type": "code",
   "execution_count": null,
   "metadata": {
    "tags": [
     "active-ipynb",
     "remove-input",
     "remove-output"
    ]
   },
   "outputs": [],
   "source": [
    "# This cell is mandatory in all Dymos documentation notebooks.\n",
    "missing_packages = []\n",
    "try:\n",
    "    import openmdao.api as om\n",
    "except ImportError:\n",
    "    if 'google.colab' in str(get_ipython()):\n",
    "        !python -m pip install openmdao[notebooks]\n",
    "    else:\n",
    "        missing_packages.append('openmdao')\n",
    "try:\n",
    "    import dymos as dm\n",
    "except ImportError:\n",
    "    if 'google.colab' in str(get_ipython()):\n",
    "        !python -m pip install dymos\n",
    "    else:\n",
    "        missing_packages.append('dymos')\n",
    "try:\n",
    "    import pyoptsparse\n",
    "except ImportError:\n",
    "    if 'google.colab' in str(get_ipython()):\n",
    "        !pip install -q condacolab\n",
    "        import condacolab\n",
    "        condacolab.install_miniconda()\n",
    "        !conda install -c conda-forge pyoptsparse\n",
    "    else:\n",
    "        missing_packages.append('pyoptsparse')\n",
    "if missing_packages:\n",
    "    raise EnvironmentError('This notebook requires the following packages '\n",
    "                           'please install them and restart this notebook\\'s runtime: {\",\".join(missing_packages)}')"
   ]
  },
  {
   "cell_type": "markdown",
   "metadata": {},
   "source": [
    "# The Transcriptions API\n",
    "\n",
    "The transcription is the means by which Dymos converts the problem of finding a continuous control function which optimizes the operation of some system into a discrete optimization problem which can be solved by an off-the-shelf optimizer.\n",
    "\n",
    "Dymos currently supports the following transcriptions\n",
    "\n",
    "- Radau Pseudospectral Method\n",
    "- Gauss-Lobatto Collocation\n",
    "- Explicit (Single) Shooting\n"
   ]
  },
  {
   "cell_type": "markdown",
   "metadata": {},
   "source": [
    "## Radau Options"
   ]
  },
  {
   "cell_type": "code",
   "execution_count": null,
   "metadata": {
    "tags": [
     "remove-input"
    ]
   },
   "outputs": [],
   "source": [
    "import openmdao.api as om\n",
    "import dymos as dm\n",
    "tx = dm.transcriptions.Radau(num_segments=1, order=5)\n",
    "om.show_options_table(tx)"
   ]
  },
  {
   "cell_type": "markdown",
   "metadata": {},
   "source": [
    "## GaussLobatto Options"
   ]
  },
  {
   "cell_type": "code",
   "execution_count": null,
   "metadata": {
    "tags": [
     "remove-input"
    ]
   },
   "outputs": [],
   "source": [
    "tx = dm.transcriptions.GaussLobatto(num_segments=1, order=5)\n",
    "om.show_options_table(tx)"
   ]
  },
  {
   "cell_type": "markdown",
   "metadata": {},
   "source": [
    "## ExplicitShooting Options"
   ]
  },
  {
   "cell_type": "code",
   "execution_count": null,
   "metadata": {
    "tags": [
     "remove-input"
    ]
   },
   "outputs": [],
   "source": [
    "tx = dm.transcriptions.ExplicitShooting(num_segments=1, order=5)\n",
    "om.show_options_table(tx)"
   ]
  }
 ],
 "metadata": {
  "celltoolbar": "Tags",
  "jupytext": {
   "cell_metadata_filter": "-all",
   "notebook_metadata_filter": "-all",
   "text_representation": {
    "extension": ".md",
    "format_name": "markdown"
   }
  },
  "kernelspec": {
   "display_name": "Python 3 (ipykernel)",
   "language": "python",
   "name": "python3"
  },
  "language_info": {
   "codemirror_mode": {
    "name": "ipython",
    "version": 3
   },
   "file_extension": ".py",
   "mimetype": "text/x-python",
   "name": "python",
   "nbconvert_exporter": "python",
   "pygments_lexer": "ipython3",
   "version": "3.9.7"
  }
 },
 "nbformat": 4,
 "nbformat_minor": 4
}
