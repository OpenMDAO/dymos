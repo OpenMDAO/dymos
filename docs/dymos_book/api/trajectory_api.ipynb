{
 "cells": [
  {
   "cell_type": "code",
   "execution_count": null,
   "metadata": {
    "tags": [
     "active-ipynb",
     "remove-input",
     "remove-output"
    ]
   },
   "outputs": [],
   "source": [
    "# This cell is mandatory in all Dymos documentation notebooks.\n",
    "missing_packages = []\n",
    "try:\n",
    "    import openmdao.api as om\n",
    "except ImportError:\n",
    "    if 'google.colab' in str(get_ipython()):\n",
    "        !python -m pip install openmdao[notebooks]\n",
    "    else:\n",
    "        missing_packages.append('openmdao')\n",
    "try:\n",
    "    import dymos as dm\n",
    "except ImportError:\n",
    "    if 'google.colab' in str(get_ipython()):\n",
    "        !python -m pip install dymos\n",
    "    else:\n",
    "        missing_packages.append('dymos')\n",
    "try:\n",
    "    import pyoptsparse\n",
    "except ImportError:\n",
    "    if 'google.colab' in str(get_ipython()):\n",
    "        !pip install -q condacolab\n",
    "        import condacolab\n",
    "        condacolab.install_miniconda()\n",
    "        !conda install -c conda-forge pyoptsparse\n",
    "    else:\n",
    "        missing_packages.append('pyoptsparse')\n",
    "if missing_packages:\n",
    "    raise EnvironmentError('This notebook requires the following packages '\n",
    "                           'please install them and restart this notebook\\'s runtime: {\",\".join(missing_packages)}')"
   ]
  },
  {
   "cell_type": "markdown",
   "metadata": {},
   "source": [
    "# The Trajectory API"
   ]
  },
  {
   "cell_type": "markdown",
   "metadata": {},
   "source": [
    "## add_linkage_constraint\n",
    "```{eval-rst}\n",
    "    .. automethod:: dymos.Trajectory.add_linkage_constraint\n",
    "        :noindex:\n",
    "```\n",
    "\n",
    "## add_parameter\n",
    "```{eval-rst}\n",
    "    .. automethod:: dymos.Trajectory.add_parameter\n",
    "        :noindex:\n",
    "```\n",
    "\n",
    "## set_parameter_val\n",
    "```{eval-rst}\n",
    "    .. automethod:: dymos.Trajectory.set_parameter_val\n",
    "        :noindex:\n",
    "```\n",
    "\n",
    "## add_phase\n",
    "```{eval-rst}\n",
    "    .. automethod:: dymos.Trajectory.add_phase\n",
    "        :noindex:\n",
    "```\n",
    "\n",
    "## link_phases\n",
    "```{eval-rst}\n",
    "    .. automethod:: dymos.Trajectory.link_phases\n",
    "        :noindex:\n",
    "```\n",
    "\n",
    "## simulate\n",
    "```{eval-rst}\n",
    "    .. automethod:: dymos.Trajectory.simulate\n",
    "        :noindex:\n",
    "```"
   ]
  }
 ],
 "metadata": {
  "celltoolbar": "Tags",
  "jupytext": {
   "cell_metadata_filter": "-all",
   "notebook_metadata_filter": "-all",
   "text_representation": {
    "extension": ".md",
    "format_name": "markdown"
   }
  },
  "kernelspec": {
   "display_name": "Python 3 (ipykernel)",
   "language": "python",
   "name": "python3"
  },
  "language_info": {
   "codemirror_mode": {
    "name": "ipython",
    "version": 3
   },
   "file_extension": ".py",
   "mimetype": "text/x-python",
   "name": "python",
   "nbconvert_exporter": "python",
   "pygments_lexer": "ipython3",
   "version": "3.11.0"
  }
 },
 "nbformat": 4,
 "nbformat_minor": 4
}
