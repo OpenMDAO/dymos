{
 "cells": [
  {
   "cell_type": "code",
   "execution_count": null,
   "metadata": {
    "tags": [
     "active-ipynb",
     "remove-input",
     "remove-output"
    ]
   },
   "outputs": [],
   "source": [
    "# This cell is mandatory in all Dymos documentation notebooks.\n",
    "missing_packages = []\n",
    "try:\n",
    "    import openmdao.api as om\n",
    "except ImportError:\n",
    "    if 'google.colab' in str(get_ipython()):\n",
    "        !python -m pip install openmdao[notebooks]\n",
    "    else:\n",
    "        missing_packages.append('openmdao')\n",
    "try:\n",
    "    import dymos as dm\n",
    "except ImportError:\n",
    "    if 'google.colab' in str(get_ipython()):\n",
    "        !python -m pip install dymos\n",
    "    else:\n",
    "        missing_packages.append('dymos')\n",
    "try:\n",
    "    import pyoptsparse\n",
    "except ImportError:\n",
    "    if 'google.colab' in str(get_ipython()):\n",
    "        !pip install -q condacolab\n",
    "        import condacolab\n",
    "        condacolab.install_miniconda()\n",
    "        !conda install -c conda-forge pyoptsparse\n",
    "    else:\n",
    "        missing_packages.append('pyoptsparse')\n",
    "if missing_packages:\n",
    "    raise EnvironmentError('This notebook requires the following packages '\n",
    "                           'please install them and restart this notebook\\'s runtime: {\",\".join(missing_packages)}')"
   ]
  },
  {
   "cell_type": "markdown",
   "metadata": {},
   "source": [
    "# Water Rocket\n",
    "\n",
    "Author: Bernardo Bahia Monteiro (bbahia@umich.edu)\n",
    "\n",
    "In this example, we will optimize a water rocket for range and height at the apogee, using design variables that are easily modifiable just before launch: the empty mass, the initial water volume and the launch angle.\n",
    "This example builds on [multi-phase cannonball](../multi_phase_cannonball/multi_phase_cannonball.ipynb) ane is adapted from _Optimization of a Water Rocket in OpenMDAO/Dymos_ {cite}`bbahia_2020`.\n",
    "\n",
    "## Nomenclature\n",
    "\n",
    "| Symbol               | definition                             |\n",
    "|----------------------|----------------------------------------|\n",
    "| $v_\\text{out}$       | water exit speed at the nozzle         |\n",
    "| $A_\\text{out}$       | nozzle area                            |\n",
    "| $V_w$                | water volume in the rocket             |\n",
    "| $p$                  | pressure in the rocket                 |\n",
    "| $p_a$                | ambient pressure                       |\n",
    "| $\\dot{\\,}$           | time derivative                        |\n",
    "| $k$                  | polytropic constant                    |\n",
    "| $V_b$                | internal volume of the rocket          |\n",
    "| $\\rho_w$             | water density                          |\n",
    "| $T$                  | thrust                                 |\n",
    "| $q$                  | dynamic pressure                       |\n",
    "| $S$                  | cross sectional area                   |\n",
    "| $(\\cdot)_0$          | value of $(\\cdot)$ at $t=0$            |\n",
    "| $t$                  | time                                   |"
   ]
  },
  {
   "cell_type": "markdown",
   "metadata": {},
   "source": [
    "## Problem Formulation\n",
    "\n",
    "A natural objective function for a water rocket is the maximum height achieved by the rocket during flight, or the horizontal distance it travels, i.e. its range.\n",
    "The design of a water rocket is somewhat constrained by the soda bottle used as its engine.\n",
    "This means that the volume available for water and air is fixed, the initial launch pressure is limited by the bottle's strength (since the pressure is directly related to the energy available for the rocket, it is easy to see that it should be as high as possible) and the nozzle throat area is also fixed.\n",
    "Given these manufacturing constraints, the design variables we are left with are the empty mass (it can be easily changed through adding ballast), the water volume at the launch, and the launch angle.\n",
    "With this considerations in mind, a natural formulation for the water rocket problem is\n",
    "\n",
    "\\begin{align}\n",
    "    \\text{maximize}   &\\quad \\text{range or height} \\\\\n",
    "    \\text{w.r.t.}     &\\quad \\text{empty mass, initial water volume, launch angle, trajectory} \\\\\n",
    "    \\text{subject to} &\\quad \\text{flight dynamics} \\\\\n",
    "                      &\\quad \\text{fluid dynamics inside the rocket} \\\\\n",
    "                      &\\quad 0 < \\text{initial water volume} < \\text{volume of bottle} \\\\\n",
    "                      &\\quad 0^\\circ < \\text{launch angle} < 90^\\circ \\\\\n",
    "                      &\\quad 0 < \\text{empty mass}\n",
    "\\end{align}"
   ]
  },
  {
   "attachments": {},
   "cell_type": "markdown",
   "metadata": {},
   "source": [
    "##  Model\n",
    "\n",
    "The water rocket model is divided into three basic components: a *water engine*, responsible for modelling the fluid dynamics inside the rocket and returning its thrust;  the *aerodynamics*, responsible for calculating the atmospheric drag of the rocket; and the *equations of motion*, responsible for propagating the rocket's trajectory in time, using Newton's laws and the forces provided by the other two components.\n",
    "\n",
    "In order to integrate these three basic components, some additional interfacing components are necessary: an atmospheric model to provide values of ambient pressure for the water engine and air density to the calculation of the dynamic pressure for the aerodynamic model, and a component that calculates the instantaneous mass of the rocket by summing the water mass with the rocket's empty mass.\n",
    "The high level layout of this model is shown in below.\n",
    "\n",
    "<figure>\n",
    "  <img src=\"figures/water_rocket_overview.svg\"/>\n",
    "  <figcaption>N2 diagram for the water rocket model</figcaption>\n",
    "</figure>\n",
    "\n",
    "`atmos`, `dynamic_pressure`, `aero` and `eom` are the same models used in [multi-phase cannonball](../multi_phase_cannonball/multi_phase_cannonball.ipynb).\n",
    "The remaining components are discussed below.\n",
    "\n",
    "```{Warning}\n",
    "The `eom` component has a singularity in the flight path angle derivative when the flight speed is zero.\n",
    "This happens because the rotational dynamics are not modelled.\n",
    "This can cause convergence problems if the launch velocity is set to zero or the launch angle is set to $90^\\circ$\n",
    "```\n",
    "\n",
    "```{Note}\n",
    "Since the range of altitudes achieved by the water rocket is very small (100m), the air density and pressure are practically constant, thus the use of an atmospheric model is not necessary. However, using it makes it easier to reuse code from [multi-phase cannonball](../multi_phase_cannonball/multi_phase_cannonball.ipynb).\n",
    "```\n",
    "\n",
    "### Water engine\n",
    "\n",
    "The water engine is modelled by assuming that the air expansion in the rocket\n",
    "follows an adiabatic process and the water flow is incompressible and inviscid,\n",
    "i.e.  it follows Bernoulli's equation. We also make the following simplifying\n",
    "assumptions:\n",
    "\n",
    "1. The thrust developed after the water is depleted is negligible\n",
    "2. The area inside the bottle is much smaller than the nozzle area\n",
    "3. The inertial forces do not affect the fluid dynamics inside the bottle\n",
    "\n",
    "This simplified modelling can be found in Prusa[@Prusa2000].\n",
    "A more rigorous formulation, which drops all these simplifying assumptions can be found in Wheeler[@Wheeler2002], Gommes[@Gommes2010], and Barria-Perotti[@BarrioPerotti2010].\n",
    "\n",
    "The first assumption leads to an underestimation of the rocket performance, since the air left in the bottle after it is out of water is known to generate appreciable thrust[@Thorncroft2009].\n",
    "This simplified model, however, produces physically meaningful results.\n",
    "\n",
    "There are two states in this dynamical model, the water volume in the rocket $V_w$ and the gauge pressure inside the rocket $p$.\n",
    "The constitutive equations and the N2 diagram showing the model organization are shown below.\n",
    "\n",
    "### Constitutive equations of the water engine model\n",
    "| Component              | Equation                                                    |\n",
    "| -----------------------|-------------------------------------------------------------|\n",
    "| water_exhaust_speed    | $v_\\text{out} = \\sqrt{2(p-p_a)/\\rho_w}$                     |\n",
    "| water_flow_rate        | $\\dot{V}_w = -v_\\text{out} A_\\text{out}$                    |\n",
    "| pressure_rate          | $\\dot{p} = kp\\frac{\\dot{V_w}}{(V_b-V_w)}$                   |\n",
    "| water_thrust           | $T = (\\rho_w v_\\text{out})(v_\\text{out}A_\\text{out})$       |\n",
    "\n",
    "<figure>\n",
    "  <img src=\"figures/water_rocket_waterengine.svg\"/>\n",
    "  <figcaption>N2 diagram for the water engine group</figcaption>\n",
    "</figure>"
   ]
  },
  {
    "cell_type": "code",
    "execution_count": null,
    "metadata": {
     "tags": [
      "active-ipynb",
      "remove-input",
      "remove-output"
     ]
    },
    "outputs": [],
    "source": [
     "%matplotlib inline"
    ]
  },
  {
   "cell_type": "code",
   "execution_count": null,
   "metadata": {},
   "outputs": [],
   "source": [
    "import numpy as np\n",
    "import matplotlib as mpl\n",
    "import matplotlib.pyplot as plt\n",
    "\n",
    "import openmdao.api as om\n",
    "import dymos as dm"
   ]
  },
  {
   "cell_type": "code",
   "execution_count": null,
   "metadata": {
    "tags": [
     "remove-input",
     "remove-output"
    ]
   },
   "outputs": [],
   "source": [
    "from openmdao.utils.notebook_utils import display_source"
   ]
  },
  {
   "cell_type": "code",
   "execution_count": null,
   "metadata": {
    "scrolled": true,
    "tags": [
     "remove-input"
    ]
   },
   "outputs": [],
   "source": [
    "display_source('dymos.examples.water_rocket.water_engine_comp.WaterEngine')"
   ]
  },
  {
   "cell_type": "code",
   "execution_count": null,
   "metadata": {
    "tags": [
     "remove-input"
    ]
   },
   "outputs": [],
   "source": [
    "display_source('dymos.examples.water_rocket.water_engine_comp._WaterExhaustSpeed')"
   ]
  },
  {
   "cell_type": "code",
   "execution_count": null,
   "metadata": {
    "tags": [
     "remove-input"
    ]
   },
   "outputs": [],
   "source": [
    "display_source('dymos.examples.water_rocket.water_engine_comp._PressureRate')"
   ]
  },
  {
   "cell_type": "code",
   "execution_count": null,
   "metadata": {
    "tags": [
     "remove-input"
    ]
   },
   "outputs": [],
   "source": [
    "display_source('dymos.examples.water_rocket.water_engine_comp._WaterFlowRate')"
   ]
  },
  {
   "cell_type": "markdown",
   "metadata": {},
   "source": [
    "The `_MassAdder` component calculates the rocket's instantaneous mass by\n",
    "summing the water mass with the rockets empty mass, i.e.\n",
    "\n",
    "\\begin{align}\n",
    "    m = m_\\text{empty}+\\rho_w V_w\n",
    "\\end{align}"
   ]
  },
  {
   "cell_type": "code",
   "execution_count": null,
   "metadata": {
    "tags": [
     "remove-input"
    ]
   },
   "outputs": [],
   "source": [
    "display_source('dymos.examples.water_rocket.water_propulsion_ode._MassAdder')"
   ]
  },
  {
   "cell_type": "markdown",
   "metadata": {},
   "source": [
    "Now these components are joined in a single group"
   ]
  },
  {
   "cell_type": "code",
   "execution_count": null,
   "metadata": {},
   "outputs": [],
   "source": [
    "display_source('dymos.examples.water_rocket.water_propulsion_ode.WaterPropulsionODE')"
   ]
  },
  {
   "cell_type": "markdown",
   "metadata": {},
   "source": [
    "## Phases\n",
    "\n",
    "The flight of the water rocket is split in three distinct phases: propelled ascent, ballistic ascent and ballistic descent.\n",
    "If the simplification of no thrust without water were lifted, there would be an extra \"air propelled ascent\" phase between the propelled ascent and ballistic ascent phases.\n",
    "\n",
    "**Propelled ascent:** is the flight phase where the rocket still has water inside, and hence it is producing thrust.\n",
    "The thrust is given by the water engine model, and fed into the flight dynamic equations.\n",
    "It starts at launch and finishes when the water is depleted, i.e. $V_w=0$.\n",
    "\n",
    "**Ballistic ascent:** is the flight phase where the rocket is ascending ($\\gamma>0$) but produces no thrust.\n",
    "This phase begins at the end of thepropelled ascent phase and ends at the apogee, defined by $\\gamma=0$.\n",
    "\n",
    "**Descent:** is the phase where the rocket is descending without thrust.\n",
    "It begins at the end of the ballistic ascent phase and ends with ground impact, i.e. $h=0$."
   ]
  },
  {
   "cell_type": "code",
   "execution_count": null,
   "metadata": {
    "tags": [
     "remove-input"
    ]
   },
   "outputs": [],
   "source": [
    "display_source('dymos.examples.water_rocket.phases.new_propelled_ascent_phase')"
   ]
  },
  {
   "cell_type": "code",
   "execution_count": null,
   "metadata": {
    "tags": [
     "remove-input"
    ]
   },
   "outputs": [],
   "source": [
    "display_source('dymos.examples.water_rocket.phases.new_ballistic_ascent_phase')"
   ]
  },
  {
   "cell_type": "code",
   "execution_count": null,
   "metadata": {
    "tags": [
     "remove-input"
    ]
   },
   "outputs": [],
   "source": [
    "display_source('dymos.examples.water_rocket.phases.new_descent_phase')"
   ]
  },
  {
   "cell_type": "markdown",
   "metadata": {},
   "source": [
    "##  Model parameters\n",
    "\n",
    "The model requires a few constant parameters.\n",
    "The values used are shown in the following table.\n",
    "\n",
    "Values for parameters in the water rocket model\n",
    "\n",
    "|   Parameter        | Value                | Unit         | Reference                                           |\n",
    "|--------------------|----------------------|--------------|-----------------------------------------------------|\n",
    "| $C_D$              | 0.3450               | -            | {cite}`BarrioPerotti2009`                           |\n",
    "| $S$                | $\\pi 106^2/4$        | $mm^2$       | {cite}`BarrioPerotti2009`                           |\n",
    "| $k$                | 1.2                  | -            | {cite}`Thorncroft2009` {cite}`Fischer2020` {cite}`Romanelli2013`   |\n",
    "| $A_\\text{out}$     | $\\pi22^2/4$          | $mm^2$       | {cite}`aircommand_nozzle`                                |\n",
    "| $V_b$              | 2                    | L            |                                                     |\n",
    "| $\\rho_w$           | 1000                 | $kg/m^3$     |                                                     |\n",
    "| $p_0$              | 6.5                  | bar          |                                                     |\n",
    "| $v_0$              | 0.1                  | $m/s$        |                                                     |\n",
    "| $h_0$              | 0                    | $m$          |                                                     |\n",
    "| $r_0$              | 0                    | $m$          |                                                     |\n",
    "\n",
    "Values for the bottle volume $V_b$, its cross-sectional area $S$ and the nozzle area $A_\\text{out}$ are determined by the soda bottle that makes the rocket primary structure, and thus are not easily modifiable by the designer.\n",
    "The polytropic coefficient $k$ is a function of the moist air characteristics inside the rocket.\n",
    "The initial speed $v_0$ must be set to a value higher than zero, otherwise the flight dynamic equations become singular.\n",
    "This issue arises from the angular dynamics of the rocket not being modelled.\n",
    "The drag coefficient $C_D$ is sensitive to the aerodynamic design, but can be optimized by a single discipline analysis.\n",
    "The initial pressure $p_0$ should be maximized in order to obtain the maximum range or height for the rocket.\n",
    "It is limited by the structural properties of the bottle, which are modifiable by the designer, since the bottle needs to be available commercially.\n",
    "Finally, the starting point of the rocket is set to the origin.\n",
    "\n",
    "## Putting it all together\n",
    "\n",
    "The different phases must be combined in a single trajectory, and linked in a sequence.\n",
    "Here we also define the design variables."
   ]
  },
  {
   "cell_type": "code",
   "execution_count": null,
   "metadata": {},
   "outputs": [],
   "source": [
    "display_source('dymos.examples.water_rocket.phases.new_water_rocket_trajectory')"
   ]
  },
  {
   "cell_type": "markdown",
   "metadata": {},
   "source": [
    "## Helper Functions to Access the Results"
   ]
  },
  {
   "cell_type": "code",
   "execution_count": null,
   "metadata": {},
   "outputs": [],
   "source": [
    "from collections import namedtuple\n",
    "\n",
    "\n",
    "def summarize_results(water_rocket_problem):\n",
    "    p = water_rocket_problem\n",
    "    Entry = namedtuple('Entry', 'value unit')\n",
    "    summary = {\n",
    "        'Launch angle': Entry(p.get_val('traj.propelled_ascent.timeseries.gam',  units='deg')[0, 0], 'deg'),\n",
    "        'Flight angle at end of propulsion': Entry(p.get_val('traj.propelled_ascent.timeseries.gam',\n",
    "                                                   units='deg')[-1, 0], 'deg'),\n",
    "        'Empty mass': Entry(p.get_val('traj.parameters:m_empty', units='kg')[0], 'kg'),\n",
    "        'Water volume': Entry(p.get_val('traj.propelled_ascent.timeseries.V_w', 'L')[0, 0], 'L'),\n",
    "        'Maximum range': Entry(p.get_val('traj.descent.timeseries.r', units='m')[-1, 0], 'm'),\n",
    "        'Maximum height': Entry(p.get_val('traj.ballistic_ascent.timeseries.h', units='m')[-1, 0], 'm'),\n",
    "        'Maximum velocity': Entry(p.get_val('traj.propelled_ascent.timeseries.v', units='m/s')[-1, 0], 'm/s'),\n",
    "    }\n",
    "\n",
    "    return summary\n"
   ]
  },
  {
   "cell_type": "code",
   "execution_count": null,
   "metadata": {},
   "outputs": [],
   "source": [
    "colors={'pa': 'tab:blue', 'ba': 'tab:orange', 'd': 'tab:green'}\n",
    "\n",
    "\n",
    "def plot_propelled_ascent(p, exp_out):\n",
    "    fig, ax = plt.subplots(2, 2, sharex=True, figsize=(12, 6))\n",
    "    t_imp = p.get_val('traj.propelled_ascent.timeseries.time', 's')\n",
    "    t_exp = exp_out.get_val('traj.propelled_ascent.timeseries.time', 's')\n",
    "    \n",
    "    c = colors['pa']\n",
    "\n",
    "    ax[0,0].plot(t_imp, p.get_val('traj.propelled_ascent.timeseries.p', 'bar'), '.', color=c)\n",
    "    ax[0,0].plot(t_exp, exp_out.get_val('traj.propelled_ascent.timeseries.p', 'bar'), '-', color=c)\n",
    "    ax[0,0].set_ylabel('p (bar)')\n",
    "    ax[0,0].set_ylim(bottom=0)\n",
    "\n",
    "    ax[1,0].plot(t_imp, p.get_val('traj.propelled_ascent.timeseries.V_w', 'L'), '.', color=c)\n",
    "    ax[1,0].plot(t_exp, exp_out.get_val('traj.propelled_ascent.timeseries.V_w', 'L'), '-', color=c)\n",
    "    ax[1,0].set_ylabel('$V_w$ (L)')\n",
    "\n",
    "    ax[0,1].plot(t_imp, p.get_val('traj.propelled_ascent.timeseries.T', 'N'), '.', color=c)\n",
    "    ax[0,1].plot(t_exp, exp_out.get_val('traj.propelled_ascent.timeseries.T', 'N'), '-', color=c)\n",
    "    ax[0,1].set_ylabel('T (N)')\n",
    "    ax[0,1].set_ylim(bottom=0)\n",
    "\n",
    "    ax[1,1].plot(t_imp, p.get_val('traj.propelled_ascent.timeseries.v', 'm/s'), '.', color=c)\n",
    "    ax[1,1].plot(t_exp, exp_out.get_val('traj.propelled_ascent.timeseries.v', 'm/s'), '-', color=c)\n",
    "    ax[1,1].set_ylabel('v (m/s)')\n",
    "    ax[1,1].set_ylim(bottom=0)\n",
    "\n",
    "    ax[1,0].set_xlabel('t (s)')\n",
    "    ax[1,1].set_xlabel('t (s)')\n",
    "    \n",
    "    for i in range(4):\n",
    "        ax.ravel()[i].grid(True, alpha=0.2)\n",
    "\n",
    "    fig.tight_layout()"
   ]
  },
  {
   "cell_type": "code",
   "execution_count": null,
   "metadata": {},
   "outputs": [],
   "source": [
    "def plot_states(p, exp_out, legend_loc='right', legend_ncol=3):\n",
    "    fig, axes = plt.subplots(nrows=2, ncols=2, figsize=(12, 4), sharex=True)\n",
    "\n",
    "    states = ['r', 'h', 'v', 'gam']\n",
    "    units = ['m', 'm', 'm/s', 'deg']\n",
    "    phases = ['propelled_ascent', 'ballistic_ascent', 'descent']\n",
    "\n",
    "    time_imp = {'ballistic_ascent': p.get_val('traj.ballistic_ascent.timeseries.time'),\n",
    "                'propelled_ascent': p.get_val('traj.propelled_ascent.timeseries.time'),\n",
    "                'descent': p.get_val('traj.descent.timeseries.time')}\n",
    "\n",
    "    time_exp = {'ballistic_ascent': exp_out.get_val('traj.ballistic_ascent.timeseries.time'),\n",
    "                'propelled_ascent': exp_out.get_val('traj.propelled_ascent.timeseries.time'),\n",
    "                'descent': exp_out.get_val('traj.descent.timeseries.time')}\n",
    "\n",
    "    x_imp = {phase: {state: p.get_val(f\"traj.{phase}.timeseries.{state}\", unit)\n",
    "                     for state, unit in zip(states, units)\n",
    "                     }\n",
    "             for phase in phases\n",
    "             }\n",
    "\n",
    "    x_exp = {phase: {state: exp_out.get_val(f\"traj.{phase}.timeseries.{state}\", unit)\n",
    "                     for state, unit in zip(states, units)\n",
    "                     }\n",
    "             for phase in phases\n",
    "             }\n",
    "\n",
    "    for i, (state, unit) in enumerate(zip(states, units)):\n",
    "        axes.ravel()[i].set_ylabel(f\"{state} ({unit})\" if state != 'gam' else f'$\\gamma$ ({unit})')\n",
    "\n",
    "        axes.ravel()[i].plot(time_imp['propelled_ascent'], x_imp['propelled_ascent'][state], '.', color=colors['pa'])\n",
    "        axes.ravel()[i].plot(time_imp['ballistic_ascent'], x_imp['ballistic_ascent'][state], '.', color=colors['ba'])\n",
    "        axes.ravel()[i].plot(time_imp['descent'], x_imp['descent'][state], '.', color=colors['d'])\n",
    "        h1, = axes.ravel()[i].plot(time_exp['propelled_ascent'], x_exp['propelled_ascent'][state], '-', color=colors['pa'], label='Propelled Ascent')\n",
    "        h2, = axes.ravel()[i].plot(time_exp['ballistic_ascent'], x_exp['ballistic_ascent'][state], '-', color=colors['ba'], label='Ballistic Ascent')\n",
    "        h3, = axes.ravel()[i].plot(time_exp['descent'], x_exp['descent'][state], '-', color=colors['d'], label='Descent')\n",
    "\n",
    "        if state == 'gam':\n",
    "            axes.ravel()[i].yaxis.set_major_locator(mpl.ticker.MaxNLocator(nbins='auto', steps=[1, 1.5, 3, 4.5, 6, 9, 10]))\n",
    "            axes.ravel()[i].set_yticks(np.arange(-90, 91, 45))\n",
    "        \n",
    "        axes.ravel()[i].grid(True, alpha=0.2)\n",
    "\n",
    "    axes[1, 0].set_xlabel('t (s)')\n",
    "    axes[1, 1].set_xlabel('t (s)')\n",
    "    \n",
    "    plt.figlegend(handles=[h1, h2, h3], loc=legend_loc, ncol=legend_ncol)\n",
    "\n",
    "    fig.tight_layout()"
   ]
  },
  {
   "cell_type": "code",
   "execution_count": null,
   "metadata": {},
   "outputs": [],
   "source": [
    "def plot_trajectory(p, exp_out, legend_loc='center right'):\n",
    "    fig, axes = plt.subplots(nrows=1, ncols=1, figsize=(8, 6))\n",
    "\n",
    "    time_imp = {'ballistic_ascent': p.get_val('traj.ballistic_ascent.timeseries.time'),\n",
    "                'propelled_ascent': p.get_val('traj.propelled_ascent.timeseries.time'),\n",
    "                'descent': p.get_val('traj.descent.timeseries.time')}\n",
    "\n",
    "    time_exp = {'ballistic_ascent': exp_out.get_val('traj.ballistic_ascent.timeseries.time'),\n",
    "                'propelled_ascent': exp_out.get_val('traj.propelled_ascent.timeseries.time'),\n",
    "                'descent': exp_out.get_val('traj.descent.timeseries.time')}\n",
    "\n",
    "    r_imp = {'ballistic_ascent': p.get_val('traj.ballistic_ascent.timeseries.r'),\n",
    "             'propelled_ascent': p.get_val('traj.propelled_ascent.timeseries.r'),\n",
    "             'descent': p.get_val('traj.descent.timeseries.r')}\n",
    "\n",
    "    r_exp = {'ballistic_ascent': exp_out.get_val('traj.ballistic_ascent.timeseries.r'),\n",
    "             'propelled_ascent': exp_out.get_val('traj.propelled_ascent.timeseries.r'),\n",
    "             'descent': exp_out.get_val('traj.descent.timeseries.r')}\n",
    "\n",
    "    h_imp = {'ballistic_ascent': p.get_val('traj.ballistic_ascent.timeseries.h'),\n",
    "             'propelled_ascent': p.get_val('traj.propelled_ascent.timeseries.h'),\n",
    "             'descent': p.get_val('traj.descent.timeseries.h')}\n",
    "\n",
    "    h_exp = {'ballistic_ascent': exp_out.get_val('traj.ballistic_ascent.timeseries.h'),\n",
    "             'propelled_ascent': exp_out.get_val('traj.propelled_ascent.timeseries.h'),\n",
    "             'descent': exp_out.get_val('traj.descent.timeseries.h')}\n",
    "\n",
    "    axes.plot(r_imp['propelled_ascent'], h_imp['propelled_ascent'], 'o', color=colors['pa'])\n",
    "    axes.plot(r_imp['ballistic_ascent'], h_imp['ballistic_ascent'], 'o', color=colors['ba'])\n",
    "    axes.plot(r_imp['descent'], h_imp['descent'], 'o', color=colors['d'])\n",
    "\n",
    "    h1, = axes.plot(r_exp['propelled_ascent'], h_exp['propelled_ascent'], '-', color=colors['pa'], label='Propelled Ascent')\n",
    "    h2, = axes.plot(r_exp['ballistic_ascent'], h_exp['ballistic_ascent'], '-', color=colors['ba'], label='Ballistic Ascent')\n",
    "    h3, = axes.plot(r_exp['descent'], h_exp['descent'], '-', color=colors['d'], label='Descent')\n",
    "\n",
    "    axes.set_xlabel('r (m)')\n",
    "    axes.set_ylabel('h (m)')\n",
    "    axes.set_aspect('equal', 'box')\n",
    "    plt.figlegend(handles=[h1, h2, h3], loc=legend_loc)\n",
    "    axes.grid(alpha=0.2)\n",
    "\n",
    "    fig.tight_layout()"
   ]
  },
  {
   "cell_type": "markdown",
   "metadata": {},
   "source": [
    "## Optimizing for Height"
   ]
  },
  {
   "cell_type": "code",
   "execution_count": null,
   "metadata": {},
   "outputs": [],
   "source": [
    "from dymos.examples.water_rocket.phases import new_water_rocket_trajectory, set_sane_initial_guesses\n",
    "\n",
    "p = om.Problem(model=om.Group())\n",
    "\n",
    "traj, phases = new_water_rocket_trajectory(objective='height')\n",
    "traj = p.model.add_subsystem('traj', traj)\n",
    "\n",
    "p.driver = om.pyOptSparseDriver(optimizer='IPOPT', print_results=False)\n",
    "p.driver.opt_settings['print_level'] = 4\n",
    "p.driver.opt_settings['max_iter'] = 1000\n",
    "p.driver.opt_settings['mu_strategy'] = 'monotone'\n",
    "p.driver.declare_coloring(tol=1.0E-12)\n",
    "\n",
    "# Finish Problem Setup\n",
    "p.model.linear_solver = om.DirectSolver()\n",
    "\n",
    "p.setup()\n",
    "set_sane_initial_guesses(p, phases)\n",
    "\n",
    "dm.run_problem(p, run_driver=True, simulate=True)\n",
    "\n",
    "summary = summarize_results(p)\n",
    "for key, entry in summary.items():\n",
    "    print(f'{key}: {entry.value:6.4f} {entry.unit}')\n",
    "    \n",
    "sol_out = om.CaseReader('dymos_solution.db').get_case('final')\n",
    "sim_out = om.CaseReader('dymos_simulation.db').get_case('final')"
   ]
  },
  {
   "cell_type": "markdown",
   "metadata": {},
   "source": [
    "### Maximum Height Solution: Propulsive Phase"
   ]
  },
  {
   "cell_type": "code",
   "execution_count": null,
   "metadata": {
    "scrolled": false
   },
   "outputs": [],
   "source": [
    "plot_propelled_ascent(sol_out, sim_out)"
   ]
  },
  {
   "cell_type": "markdown",
   "metadata": {},
   "source": [
    "## Maximum Height Solution: Height vs. Range\n",
    "\n",
    "Note that the equations of motion used here are singular in vertical flight, so the launch angle (the initial flight path angle) was limited to 85 degrees."
   ]
  },
  {
   "cell_type": "code",
   "execution_count": null,
   "metadata": {},
   "outputs": [],
   "source": [
    "plot_trajectory(sol_out, sim_out, legend_loc='center right')"
   ]
  },
  {
   "cell_type": "markdown",
   "metadata": {},
   "source": [
    "## Maximum Height Solution: State History"
   ]
  },
  {
   "cell_type": "code",
   "execution_count": null,
   "metadata": {},
   "outputs": [],
   "source": [
    "plot_states(sol_out, sim_out, legend_loc='lower center', legend_ncol=3)"
   ]
  },
  {
   "cell_type": "code",
   "execution_count": null,
   "metadata": {
    "tags": [
     "remove-input",
     "remove-output"
    ]
   },
   "outputs": [],
   "source": [
    "from openmdao.utils.assert_utils import assert_near_equal\n",
    "\n",
    "assert_near_equal(summary['Launch angle'].value, 85, 0.01)\n",
    "assert_near_equal(summary['Empty mass'].value, 0.144, 0.01)\n",
    "assert_near_equal(summary['Water volume'].value, 0.98, 0.01)\n",
    "assert_near_equal(summary['Maximum height'].value, 53.5, 0.01)"
   ]
  },
  {
   "cell_type": "markdown",
   "metadata": {},
   "source": [
    "# Optimizing for Range"
   ]
  },
  {
   "cell_type": "code",
   "execution_count": null,
   "metadata": {
    "tags": [
     "output_scroll"
    ]
   },
   "outputs": [],
   "source": [
    "from dymos.examples.water_rocket.phases import new_water_rocket_trajectory, set_sane_initial_guesses\n",
    "\n",
    "p = om.Problem(model=om.Group())\n",
    "\n",
    "traj, phases = new_water_rocket_trajectory(objective='range')\n",
    "traj = p.model.add_subsystem('traj', traj)\n",
    "\n",
    "p.driver = om.pyOptSparseDriver(optimizer='IPOPT')\n",
    "p.driver.opt_settings['print_level'] = 4\n",
    "p.driver.opt_settings['max_iter'] = 1000\n",
    "p.driver.opt_settings['mu_strategy'] = 'monotone'\n",
    "p.driver.declare_coloring(tol=1.0E-12)\n",
    "\n",
    "# Finish Problem Setup\n",
    "p.model.linear_solver = om.DirectSolver()\n",
    "\n",
    "p.setup()\n",
    "set_sane_initial_guesses(p, phases)\n",
    "\n",
    "dm.run_problem(p, run_driver=True, simulate=True)\n",
    "\n",
    "summary = summarize_results(p)\n",
    "for key, entry in summary.items():\n",
    "    print(f'{key}: {entry.value:6.4f} {entry.unit}')\n",
    "\n",
    "sol_out = om.CaseReader('dymos_solution.db').get_case('final')\n",
    "sim_out = om.CaseReader('dymos_simulation.db').get_case('final')"
   ]
  },
  {
   "cell_type": "markdown",
   "metadata": {},
   "source": [
    "## Maximum Range Solution: Propulsive Phase"
   ]
  },
  {
   "cell_type": "code",
   "execution_count": null,
   "metadata": {
    "scrolled": false
   },
   "outputs": [],
   "source": [
    "plot_propelled_ascent(sol_out, sim_out)"
   ]
  },
  {
   "cell_type": "markdown",
   "metadata": {},
   "source": [
    "## Maximum Range Solution: Height vs. Range"
   ]
  },
  {
   "cell_type": "code",
   "execution_count": null,
   "metadata": {},
   "outputs": [],
   "source": [
    "plot_trajectory(sol_out, sim_out, legend_loc='center')"
   ]
  },
  {
   "cell_type": "markdown",
   "metadata": {},
   "source": [
    "## Maximum Range Solution: State History"
   ]
  },
  {
   "cell_type": "code",
   "execution_count": null,
   "metadata": {},
   "outputs": [],
   "source": [
    "plot_states(sol_out, sim_out, legend_loc='lower center')"
   ]
  },
  {
   "cell_type": "code",
   "execution_count": null,
   "metadata": {
    "tags": [
     "remove-input",
     "remove-output"
    ]
   },
   "outputs": [],
   "source": [
    "from openmdao.utils.assert_utils import assert_near_equal\n",
    "\n",
    "# Check results (tolerance is relative unless value is zero)\n",
    "assert_near_equal(summary['Launch angle'].value, 46, 0.02)\n",
    "assert_near_equal(summary['Flight angle at end of propulsion'].value, 38, 0.02)\n",
    "assert_near_equal(summary['Empty mass'].value, 0.189, 1e-2)\n",
    "assert_near_equal(summary['Water volume'].value, 1.026, 1e-2)\n",
    "assert_near_equal(summary['Maximum range'].value, 85.11, 1e-2)\n",
    "assert_near_equal(summary['Maximum height'].value, 23.08, 1e-2)\n",
    "assert_near_equal(summary['Maximum velocity'].value, 41.31, 1e-2)"
   ]
  },
  {
   "cell_type": "markdown",
   "metadata": {},
   "source": [
    "## References\n",
    "\n",
    "```{bibliography}\n",
    ":filter: docname in docnames\n",
    "```"
   ]
  }
 ],
 "metadata": {
  "celltoolbar": "Tags",
  "jupytext": {
   "cell_metadata_filter": "-all",
   "notebook_metadata_filter": "-all",
   "text_representation": {
    "extension": ".md",
    "format_name": "markdown"
   }
  },
  "kernelspec": {
   "display_name": "Python 3 (ipykernel)",
   "language": "python",
   "name": "python3"
  },
  "language_info": {
   "codemirror_mode": {
    "name": "ipython",
    "version": 3
   },
   "file_extension": ".py",
   "mimetype": "text/x-python",
   "name": "python",
   "nbconvert_exporter": "python",
   "pygments_lexer": "ipython3",
   "version": "3.10.6"
  }
 },
 "nbformat": 4,
 "nbformat_minor": 4
}
