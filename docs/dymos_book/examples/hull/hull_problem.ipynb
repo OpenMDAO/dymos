{
 "cells": [
  {
   "cell_type": "code",
   "execution_count": null,
   "id": "e9bef506",
   "metadata": {
    "colab": {
     "base_uri": "https://localhost:8080/"
    },
    "id": "e9bef506",
    "outputId": "23e61fa9-803c-416c-c2ea-49fda74021d7",
    "tags": [
     "active-ipynb",
     "remove-input",
     "remove-output"
    ]
   },
   "outputs": [],
   "source": [
    "# This cell is mandatory in all Dymos documentation notebooks.\n",
    "missing_packages = []\n",
    "try:\n",
    "    import openmdao.api as om\n",
    "except ImportError:\n",
    "    if 'google.colab' in str(get_ipython()):\n",
    "        !python -m pip install openmdao[notebooks]\n",
    "    else:\n",
    "        missing_packages.append('openmdao')\n",
    "try:\n",
    "    import dymos as dm\n",
    "except ImportError:\n",
    "    if 'google.colab' in str(get_ipython()):\n",
    "        !python -m pip install dymos\n",
    "    else:\n",
    "        missing_packages.append('dymos')\n",
    "try:\n",
    "    import pyoptsparse\n",
    "except ImportError:\n",
    "    if 'google.colab' in str(get_ipython()):\n",
    "        !pip install -q condacolab\n",
    "        import condacolab\n",
    "        condacolab.install_miniconda()\n",
    "        !conda install -c conda-forge pyoptsparse\n",
    "    else:\n",
    "        missing_packages.append('pyoptsparse')\n",
    "if missing_packages:\n",
    "    raise EnvironmentError('This notebook requires the following packages '\n",
    "                           'please install them and restart this notebook\\'s runtime: {\",\".join(missing_packages)}')"
   ]
  },
  {
   "cell_type": "markdown",
   "id": "b0a95015",
   "metadata": {
    "id": "b0a95015"
   },
   "source": [
    "(examples:hull)=\n",
    "# The Hull Problem\n",
    "\n",
    "The Hull problem is a 1-DOF optimal control problem {cite}`hull2003oct`. It can be stated as:\n",
    "\n",
    "Minimize the control effort required to move a frictionless sliding block from some initial position such that the final displacement from a pre-specified point is minimized."
   ]
  },
  {
   "cell_type": "markdown",
   "id": "977155e8",
   "metadata": {
    "id": "977155e8"
   },
   "source": [
    "## State and control variables\n",
    "\n",
    "This system has one state variables, the position ($x$) of the sliding block. \n",
    "\n",
    "This system has a single control variable ($u$), the velocity of the block.\n",
    "\n",
    "The dynamics of the system are governed by\n",
    "\n",
    "\\begin{align}\n",
    "  \\dot{x} &= u\n",
    "\\end{align}\n",
    "\n"
   ]
  },
  {
   "cell_type": "markdown",
   "id": "6e236c20",
   "metadata": {
    "id": "6e236c20"
   },
   "source": [
    "## Problem Definition\n",
    "\n",
    "We seek to minimize the control effort required and minimize the displacement from the origin.\n",
    "\n",
    "\\begin{align}\n",
    "    \\mathrm{Minimize} \\, J &= 2.5x_f^2 \\, + \\, 0.5 \\int_0^1 u^2 dt\n",
    "\\end{align}\n",
    "\n",
    "Subject to the initial conditions\n",
    "\n",
    "\\begin{align}\n",
    "    t_0 &= 0.0 \\\\\n",
    "    x_0 &= 1.5\n",
    "\\end{align}\n",
    "\n",
    "and the terminal constraints\n",
    "\n",
    "\\begin{align}\n",
    "    t_f &= 10.0\n",
    "\\end{align}\n",
    "\n"
   ]
  },
  {
   "cell_type": "markdown",
   "id": "1229fca5",
   "metadata": {},
   "source": [
    "## Dealing with combined terminal and integral costs in Dymos\n",
    "\n",
    "In classic optimal control, the objective is often broken into the terminal component (the Mayer term) and the integral component (the Lagrange term).\n",
    "Dymos does not distinguish between the two.\n",
    "In this case, since the objective $J$ consists of both a terminal cost and an integrated cost (Bolza form), we add a term to the ODE to account for the integrated quantity\n",
    "\n",
    "\n",
    "\\begin{align}\n",
    "  \\dot{x_L} &= L \\\\\n",
    "  L &= 0.5 u^2\n",
    "\\end{align}\n",
    "\n",
    "where $x_L$ is a state added to account for the Lagrange term.\n",
    "\n",
    "Dymos supports the definition of simple mathematical expressions as the cost, so the final value of $x_L$ can be added to the final value of $2.5x^2$."
   ]
  },
  {
   "cell_type": "markdown",
   "id": "03ef4a09",
   "metadata": {
    "id": "03ef4a09"
   },
   "source": [
    "## Defining the ODE\n",
    "\n",
    "The following code implements the equations of motion for the Hull problem.\n",
    "Since the rate of $x$ is given by a control ($u$), there is no need to compute its rate in the ODE.\n",
    "Dymos can pull their values from those other states and controls.\n",
    "The ODE, therefore, only needs to compute the rate of change of $x_L$ ($L$).\n",
    "\n",
    "A few things to note:\n",
    "\n",
    "1. By providing the tag `dymos.state_rate_source:{name}`, we're letting Dymos know what states need to be integrated, there's no need to specify a rate source when using this ODE in our Phase.\n",
    "2. Pairing the above tag with `dymos.state_units:{units}` means we don't have to specify units when setting properties for the state in our run script."
   ]
  },
  {
   "cell_type": "code",
   "execution_count": null,
   "id": "ec2b8a83",
   "metadata": {
    "colab": {
     "base_uri": "https://localhost:8080/"
    },
    "id": "ec2b8a83",
    "outputId": "668bf949-c304-4e34-9fca-27697a497d4b"
   },
   "outputs": [],
   "source": [
    "import numpy as np\n",
    "import openmdao.api as om\n",
    "\n",
    "\n",
    "class HullProblemODE(om.ExplicitComponent):\n",
    "    def initialize(self):\n",
    "        self.options.declare('num_nodes', types=int)\n",
    "\n",
    "    def setup(self):\n",
    "        nn = self.options['num_nodes']\n",
    "\n",
    "        self.add_input('u', val=np.zeros(nn), desc='control')\n",
    "\n",
    "        self.add_output('L', val=np.zeros(nn), desc='Lagrangian', units='1/s')\n",
    "\n",
    "        # Setup partials\n",
    "        self.declare_partials(of='L', wrt='u', rows=np.arange(nn), cols=np.arange(nn))\n",
    "\n",
    "    def compute(self, inputs, outputs, discrete_inputs=None, discrete_outputs=None):\n",
    "        u = inputs['u']\n",
    "\n",
    "        outputs['L'] = 0.5 * u ** 2\n",
    "\n",
    "    def compute_partials(self, inputs, partials, discrete_inputs=None):\n",
    "        u = inputs['u']\n",
    "        partials['L', 'u'] = u\n"
   ]
  },
  {
   "cell_type": "markdown",
   "id": "0031d62b",
   "metadata": {
    "id": "hVK50KxH6YJ4"
   },
   "source": [
    "## Solving the Hull problem with Dymos\n",
    "\n",
    "The following script solves the Hull problem with Dymos.\n",
    "\n",
    "To begin, import the packages we require:"
   ]
  },
  {
   "cell_type": "code",
   "execution_count": null,
   "id": "ii-ApZna669K",
   "metadata": {
    "id": "ii-ApZna669K"
   },
   "outputs": [],
   "source": [
    "import dymos as dm\n",
    "import matplotlib.pyplot as plt"
   ]
  },
  {
   "cell_type": "markdown",
   "id": "OI5v_AkL7qYm",
   "metadata": {
    "id": "OI5v_AkL7qYm"
   },
   "source": [
    "We then instantiate an OpenMDAO problem and set the optimizer and its options.\n",
    "\n",
    "The call to `declare_coloring` tells the optimizer to attempt to find a sparsity pattern that minimizes the work required to compute the derivatives across the model.\n"
   ]
  },
  {
   "cell_type": "code",
   "execution_count": null,
   "id": "3yXzgcIw8Tjq",
   "metadata": {
    "id": "3yXzgcIw8Tjq"
   },
   "outputs": [],
   "source": [
    "#\n",
    "# Initialize the Problem and the optimization driver\n",
    "#\n",
    "p = om.Problem()\n",
    "               \n",
    "p.driver = om.pyOptSparseDriver()\n",
    "p.driver.declare_coloring()"
   ]
  },
  {
   "cell_type": "markdown",
   "id": "OcugnHOL8fIF",
   "metadata": {
    "id": "OcugnHOL8fIF"
   },
   "source": [
    "Next, we add a Dymos Trajectory group to the problem's model and add a phase to it.\n",
    "\n",
    "In this case we're using the Radau pseudospectral transcription to solve the problem."
   ]
  },
  {
   "cell_type": "code",
   "execution_count": null,
   "id": "sGYfpaiI8eH-",
   "metadata": {
    "id": "sGYfpaiI8eH-"
   },
   "outputs": [],
   "source": [
    "#\n",
    "# Create a trajectory and add a phase to it\n",
    "#\n",
    "traj = p.model.add_subsystem('traj', dm.Trajectory())\n",
    "tx = transcription=dm.Radau(num_segments=24)\n",
    "phase = traj.add_phase('phase0', dm.Phase(ode_class=HullProblemODE, transcription=tx))"
   ]
  },
  {
   "cell_type": "markdown",
   "id": "IjCxNJQV82u8",
   "metadata": {
    "id": "IjCxNJQV82u8"
   },
   "source": [
    "At this point, we set the options on the main variables used in a Dymos phase.  \n",
    "\n",
    "In addition to `time`, we have two states (`x`, and `x_L`) and a single control (`u`).  \n",
    "\n",
    "Here we use bounds on the states themselves to constrain the initial values of `x` and1 `x_L`.\n",
    "From an optimization perspective, this means that we are removing the first and last values in the state histories of $x$ and $x_L$ from the vector of design variables.\n",
    "Their initial values will remain unchanged throughout the optimization process.\n",
    "\n",
    "On the other hand, we could specify `fix_initial=False, fix_final=False` for these values, and Dymos would be free to change them.\n",
    "We would then need to put a boundary constraint in place to enforce their final values.\n",
    "Feel free to experiment with different ways of enforcing the boundary constraints on this problem and see how it affects performance.\n",
    "\n",
    "The scaler values (`ref`) are all set to 1 here.\n",
    "\n",
    "Also, we don't need to specify targets for any of the variables here because their names _are_ the targets in the top-level of the model.\n",
    "The rate source and units for the states are obtained from the tags in the ODE component we previously defined.\n"
   ]
  },
  {
   "cell_type": "code",
   "execution_count": null,
   "id": "IdjlON_895PU",
   "metadata": {
    "id": "IdjlON_895PU"
   },
   "outputs": [],
   "source": [
    "#\n",
    "# Set the variables\n",
    "#\n",
    "phase.set_time_options(fix_initial=True, fix_duration=True)\n",
    "\n",
    "phase.set_time_options(fix_initial=True, fix_duration=True)\n",
    "phase.add_state('x', fix_initial=True, fix_final=False, rate_source='u')\n",
    "phase.add_state('xL', fix_initial=True, fix_final=False, rate_source='L')\n",
    "phase.add_control('u', opt=True, targets=['u'])"
   ]
  },
  {
   "cell_type": "code",
   "execution_count": null,
   "id": "d498cb7b",
   "metadata": {
    "colab": {
     "base_uri": "https://localhost:8080/"
    },
    "id": "d498cb7b",
    "outputId": "18be63ac-a3cb-4632-eb7d-130eced98d70"
   },
   "outputs": [],
   "source": [
    "#\n",
    "# Minimize time at the end of the phase\n",
    "#\n",
    "phase.add_objective('J = 2.5*x**2 + xL')\n",
    "\n",
    "#\n",
    "# Setup the Problem\n",
    "#\n",
    "p.setup()"
   ]
  },
  {
   "cell_type": "markdown",
   "id": "E6q4fW_NAx6B",
   "metadata": {
    "id": "E6q4fW_NAx6B"
   },
   "source": [
    "We then set the initial guesses for the variables in the problem and solve it.\n",
    "\n",
    "We're using the phase `interp` method to provide initial guesses for the states and controls.\n",
    "In this case, by giving it two values, it is linearly interpolating from the first value to the second value, and then returning the interpolated value at the input nodes for the given variable.\n",
    "\n",
    "Finally, we use the `dymos.run_problem` method to execute the problem.\n",
    "This interface allows us to do some things that the standard OpenMDAO `problem.run_driver` interface does not.\n",
    "It will automatically record the final solution achieved by the optimizer in case named `'final'` in a file called `dymos_solution.db`.\n",
    "By specifying `simulate=True`, it will automatically follow the solution with an explicit integration using `scipy.solve_ivp`.\n",
    "The results of the simulation are stored in a case named `final` in the file `dymos_simulation.db`.\n",
    "This explicit simulation demonstrates how the system evolved with the given controls, and serves as a check that we're using a dense enough grid (enough segments and segments of sufficient order) to accurately represent the solution.\n",
    "\n",
    "If those two solution didn't agree reasonably well, we could rerun the problem with a more dense grid.\n",
    "Instead, we're asking Dymos to automatically change the grid if necessary by specifying `refine_method='ph'`.\n",
    "This will attempt to repeatedly solve the problem and change the number of segments and segment orders until the solution is in reasonable agreement."
   ]
  },
  {
   "cell_type": "code",
   "execution_count": null,
   "id": "iRY53Rq0_0c6",
   "metadata": {
    "colab": {
     "base_uri": "https://localhost:8080/"
    },
    "id": "iRY53Rq0_0c6",
    "outputId": "1d987fbe-e703-4e89-cb8c-14af763b8d7f",
    "tags": [
     "hide-output"
    ]
   },
   "outputs": [],
   "source": [
    "#\n",
    "# Set the initial values\n",
    "#\n",
    "p.set_val('traj.phase0.states:x', phase.interp('x', [1.5, 1]))\n",
    "p.set_val('traj.phase0.states:xL', phase.interp('xL', [0, 1]))\n",
    "p.set_val('traj.phase0.t_initial', 0)\n",
    "p.set_val('traj.phase0.t_duration', 10)\n",
    "p.set_val('traj.phase0.controls:u', phase.interp('u', [-7, -0.14]))\n",
    "#\n",
    "# Solve for the optimal trajectory\n",
    "#\n",
    "dm.run_problem(p, run_driver=True, simulate=True)\n"
   ]
  },
  {
   "cell_type": "markdown",
   "id": "3f9a5d44",
   "metadata": {
    "id": "3f9a5d44"
   },
   "source": [
    "## Plotting the solution\n",
    "\n",
    "The recommended practice is to obtain values from the recorded cases.\n",
    "While the problem object can also be queried for values, building plotting scripts that use the case recorder files as the data source means that the problem doesn't need to be solved just to change a plot.\n",
    "Here we load values of various variables from the solution and simulation for use in the animation to follow."
   ]
  },
  {
   "cell_type": "code",
   "execution_count": null,
   "id": "beea4c6a",
   "metadata": {
    "id": "beea4c6a",
    "scrolled": true
   },
   "outputs": [],
   "source": [
    "sol = om.CaseReader('dymos_solution.db').get_case('final')\n",
    "sim = om.CaseReader('dymos_simulation.db').get_case('final')\n",
    "\n",
    "t = sol.get_val('traj.phase0.timeseries.time')\n",
    "x = sol.get_val('traj.phase0.timeseries.x')\n",
    "xL = sol.get_val('traj.phase0.timeseries.xL')\n",
    "u = sol.get_val('traj.phase0.timeseries.u')\n",
    "\n",
    "t_sim = sim.get_val('traj.phase0.timeseries.time')\n",
    "x_sim = sim.get_val('traj.phase0.timeseries.x')\n",
    "xL_sim = sim.get_val('traj.phase0.timeseries.xL')\n",
    "u_sim = sim.get_val('traj.phase0.timeseries.u')\n",
    "\n",
    "fig = plt.figure(constrained_layout=True, figsize=(12, 4))\n",
    "gs = fig.add_gridspec(3, 1)\n",
    "\n",
    "x_ax = fig.add_subplot(gs[0, 0])\n",
    "xL_ax = fig.add_subplot(gs[1, 0])\n",
    "u_ax = fig.add_subplot(gs[2, 0])\n",
    "\n",
    "x_ax.set_ylabel('x ($m$)')\n",
    "xL_ax.set_ylabel('xL ($m/s$)')\n",
    "u_ax.set_ylabel('u ($m/s^2$)')\n",
    "xL_ax.set_xlabel('t (s)')\n",
    "u_ax.set_xlabel('t (s)')\n",
    "\n",
    "x_sol_handle, = x_ax.plot(t, x, 'o', ms=1)\n",
    "xL_ax.plot(t, xL, 'o', ms=1)\n",
    "u_ax.plot(t, u, 'o', ms=1)\n",
    "\n",
    "x_sim_handle, = x_ax.plot(t_sim, x_sim, '-', ms=1)\n",
    "xL_ax.plot(t_sim, xL_sim, '-', ms=1)\n",
    "u_ax.plot(t_sim, u_sim, '-', ms=1)\n",
    "\n",
    "for ax in [x_ax, xL_ax, u_ax]:\n",
    "    ax.grid(True, alpha=0.2)\n",
    "    \n",
    "plt.figlegend([x_sol_handle, x_sim_handle], ['solution', 'simulation'], ncol=2, loc='lower center');\n",
    "\n"
   ]
  },
  {
   "cell_type": "markdown",
   "id": "6d27dc72",
   "metadata": {},
   "source": [
    "## References\n",
    "\n",
    "```{bibliography}\n",
    ":filter: docname in docnames\n",
    "```"
   ]
  }
 ],
 "metadata": {
  "celltoolbar": "Tags",
  "colab": {
   "collapsed_sections": [],
   "name": "mountain_car.ipynb",
   "provenance": []
  },
  "kernelspec": {
   "display_name": "Python 3 (ipykernel)",
   "language": "python",
   "name": "python3"
  },
  "language_info": {
   "codemirror_mode": {
    "name": "ipython",
    "version": 3
   },
   "file_extension": ".py",
   "mimetype": "text/x-python",
   "name": "python",
   "nbconvert_exporter": "python",
   "pygments_lexer": "ipython3",
   "version": "3.9.12"
  }
 },
 "nbformat": 4,
 "nbformat_minor": 5
}
