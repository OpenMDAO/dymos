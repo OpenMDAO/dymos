{
 "cells": [
  {
   "cell_type": "code",
   "execution_count": null,
   "id": "e9bef506",
   "metadata": {
    "colab": {
     "base_uri": "https://localhost:8080/"
    },
    "id": "e9bef506",
    "outputId": "23e61fa9-803c-416c-c2ea-49fda74021d7",
    "tags": [
     "active-ipynb",
     "remove-input",
     "remove-output"
    ]
   },
   "outputs": [],
   "source": [
    "# This cell is mandatory in all Dymos documentation notebooks.\n",
    "missing_packages = []\n",
    "try:\n",
    "    import openmdao.api as om\n",
    "except ImportError:\n",
    "    if 'google.colab' in str(get_ipython()):\n",
    "        !python -m pip install openmdao[notebooks]\n",
    "    else:\n",
    "        missing_packages.append('openmdao')\n",
    "try:\n",
    "    import dymos as dm\n",
    "except ImportError:\n",
    "    if 'google.colab' in str(get_ipython()):\n",
    "        !python -m pip install dymos\n",
    "    else:\n",
    "        missing_packages.append('dymos')\n",
    "try:\n",
    "    import pyoptsparse\n",
    "except ImportError:\n",
    "    if 'google.colab' in str(get_ipython()):\n",
    "        !pip install -q condacolab\n",
    "        import condacolab\n",
    "        condacolab.install_miniconda()\n",
    "        !conda install -c conda-forge pyoptsparse\n",
    "    else:\n",
    "        missing_packages.append('pyoptsparse')\n",
    "if missing_packages:\n",
    "    raise EnvironmentError('This notebook requires the following packages '\n",
    "                           'please install them and restart this notebook\\'s runtime: {\",\".join(missing_packages)}')"
   ]
  },
  {
   "cell_type": "markdown",
   "id": "b0a95015",
   "metadata": {
    "id": "b0a95015"
   },
   "source": [
    "(examples:bryson_denham)=\n",
    "# The Bryson-Denham Problem\n",
    "\n",
    "The Bryson-Denham problem is a variation of the double integrator problem {cite}`bryson1975applied`. It can be stated as:\n",
    "\n",
    "Minimize the control effort required to reverse the direction of motion of a frictionless sliding block such that the reversal happens with some limited amount of displacement."
   ]
  },
  {
   "cell_type": "markdown",
   "id": "977155e8",
   "metadata": {
    "id": "977155e8"
   },
   "source": [
    "## State and control variables\n",
    "\n",
    "This system has two state variables, the position ($x$) and velocity ($v$) of the sliding block. \n",
    "\n",
    "This system has a single control variable ($u$), the acceleration of the block.\n",
    "\n",
    "The dynamics of the system are governed by\n",
    "\n",
    "\\begin{align}\n",
    "  \\dot{x} &= v \\\\\n",
    "  \\dot{v} &= u\n",
    "\\end{align}\n",
    "\n"
   ]
  },
  {
   "cell_type": "markdown",
   "id": "6e236c20",
   "metadata": {
    "id": "6e236c20"
   },
   "source": [
    "## Problem Definition\n",
    "\n",
    "We seek to minimize the time required to exit the well in the positive direction.\n",
    "\n",
    "\\begin{align}\n",
    "    \\mathrm{Minimize} \\, J &= 0.5 \\int_0^1 u^2 dt\n",
    "\\end{align}\n",
    "\n",
    "Subject to the initial conditions\n",
    "\n",
    "\\begin{align}\n",
    "    x_0 &= 0.0 \\\\\n",
    "    v_0 &= 1.0\n",
    "\\end{align}\n",
    "\n",
    "and the terminal constraints\n",
    "\n",
    "\\begin{align}\n",
    "    x_f &= 0.0 \\\\\n",
    "    v_f &= -1.0\n",
    "\\end{align}\n",
    "\n",
    "In addition, $x$ is constrained to remain below a displacement of 1/9.\n",
    "\n",
    "\\begin{align}\n",
    "    x &\\le 1/9\n",
    "\\end{align}"
   ]
  },
  {
   "cell_type": "markdown",
   "id": "1229fca5",
   "metadata": {},
   "source": [
    "## Dealing with integral costs in Dymos\n",
    "\n",
    "In classic optimal control, the objective is often broken into the terminal component (the Mayer term) and the integral component (the Lagrange term).\n",
    "Dymos does not distinguish between the two.\n",
    "In this case, since the objective $J$ is an integrated quantity, we add a term to the ODE\n",
    "\n",
    "\\begin{align}\n",
    "\\dot{J} &= 0.5 u^2\n",
    "\\end{align}"
   ]
  },
  {
   "cell_type": "markdown",
   "id": "03ef4a09",
   "metadata": {
    "id": "03ef4a09"
   },
   "source": [
    "## Defining the ODE\n",
    "\n",
    "The following code implements the equations of motion for the mountain car problem.\n",
    "Since the rate of $x$ is given by another state ($v$), and the rate of $v$ is given by a control ($u$), there is no need to compute their rates in the ODE.\n",
    "Dymos can pull their values from those other states and controls.\n",
    "The ODE, therefore, only needs to compute the rate of change of $J$.\n",
    "\n",
    "A few things to note:\n",
    "\n",
    "1. By providing the tag `dymos.state_rate_source:{name}`, we're letting Dymos know what states need to be integrated, there's no need to specify a rate source when using this ODE in our Phase.\n",
    "2. Pairing the above tag with `dymos.state_units:{units}` means we don't have to specify units when setting properties for the state in our run script."
   ]
  },
  {
   "cell_type": "code",
   "execution_count": null,
   "id": "ec2b8a83",
   "metadata": {
    "colab": {
     "base_uri": "https://localhost:8080/"
    },
    "id": "ec2b8a83",
    "outputId": "668bf949-c304-4e34-9fca-27697a497d4b"
   },
   "outputs": [],
   "source": [
    "import numpy as np\n",
    "import openmdao.api as om\n",
    "\n",
    "\n",
    "class BrysonDenhamODE(om.ExplicitComponent):\n",
    "    \n",
    "    def initialize(self):\n",
    "        self.options.declare('num_nodes', types=int)\n",
    "        \n",
    "    def setup(self):\n",
    "        nn = self.options['num_nodes']\n",
    "        \n",
    "        self.add_input('x', shape=(nn,), units='m')\n",
    "        self.add_input('v', shape=(nn,), units='m/s')\n",
    "        self.add_input('u', shape=(nn,), units='m/s**2')\n",
    "        \n",
    "        self.add_output('J_dot', shape=(nn,), units='m**2/s**4',\n",
    "                        tags=['dymos.state_rate_source:J',\n",
    "                              'dymos.state_units:m**2/s**3'])\n",
    "        \n",
    "        ar = np.arange(nn, dtype=int)\n",
    "        \n",
    "        self.declare_partials(of='J_dot', wrt='u', rows=ar, cols=ar)\n",
    "\n",
    "    def compute(self, inputs, outputs):\n",
    "        u = inputs['u']\n",
    "        outputs['J_dot'] = 0.5 * u**2\n",
    "\n",
    "    def compute_partials(self, inputs, partials):\n",
    "        partials['J_dot', 'u'] = inputs['u']\n",
    "        "
   ]
  },
  {
   "cell_type": "markdown",
   "id": "0031d62b",
   "metadata": {
    "id": "hVK50KxH6YJ4"
   },
   "source": [
    "## Solving the Bryson-Denham problem with Dymos\n",
    "\n",
    "The following script solves the minimum-time mountain car problem with Dymos.\n",
    "This problem is pretty trivial and can be solved using the SLSQP optimizer in scipy.\n",
    "\n",
    "To begin, import the packages we require:"
   ]
  },
  {
   "cell_type": "code",
   "execution_count": null,
   "id": "0f14deb3",
   "metadata": {
    "tags": [
     "active-ipynb",
     "remove-input",
     "remove-output"
    ]
   },
   "outputs": [],
   "source": [
    "%matplotlib inline"
   ]
  },
  {
   "cell_type": "code",
   "execution_count": null,
   "id": "ii-ApZna669K",
   "metadata": {
    "id": "ii-ApZna669K"
   },
   "outputs": [],
   "source": [
    "import dymos as dm\n",
    "import matplotlib.pyplot as plt"
   ]
  },
  {
   "cell_type": "markdown",
   "id": "OI5v_AkL7qYm",
   "metadata": {
    "id": "OI5v_AkL7qYm"
   },
   "source": [
    "We then instantiate an OpenMDAO problem and set the optimizer and its options.\n",
    "\n",
    "The call to `declare_coloring` tells the optimizer to attempt to find a sparsity pattern that minimizes the work required to compute the derivatives across the model.\n",
    "\n",
    "SLSQP does not internally use this sparsity information to reduce memory and improve performance as some other optimizers do, but the performance due to the increased efficiency in computing derivatives still makes it worthwhile."
   ]
  },
  {
   "cell_type": "code",
   "execution_count": null,
   "id": "3yXzgcIw8Tjq",
   "metadata": {
    "id": "3yXzgcIw8Tjq"
   },
   "outputs": [],
   "source": [
    "#\n",
    "# Initialize the Problem and the optimization driver\n",
    "#\n",
    "p = om.Problem()\n",
    "               \n",
    "p.driver = om.ScipyOptimizeDriver()\n",
    "p.driver.declare_coloring()"
   ]
  },
  {
   "cell_type": "markdown",
   "id": "OcugnHOL8fIF",
   "metadata": {
    "id": "OcugnHOL8fIF"
   },
   "source": [
    "Next, we add a Dymos Trajectory group to the problem's model and add a phase to it.\n",
    "\n",
    "In this case we're using the Radau pseudospectral transcription to solve the problem."
   ]
  },
  {
   "cell_type": "code",
   "execution_count": null,
   "id": "sGYfpaiI8eH-",
   "metadata": {
    "id": "sGYfpaiI8eH-"
   },
   "outputs": [],
   "source": [
    "#\n",
    "# Create a trajectory and add a phase to it\n",
    "#\n",
    "traj = p.model.add_subsystem('traj', dm.Trajectory())\n",
    "tx = transcription=dm.Radau(num_segments=24)\n",
    "phase = traj.add_phase('phase0', dm.Phase(ode_class=BrysonDenhamODE, transcription=tx))"
   ]
  },
  {
   "cell_type": "markdown",
   "id": "IjCxNJQV82u8",
   "metadata": {
    "id": "IjCxNJQV82u8"
   },
   "source": [
    "At this point, we set the options on the main variables used in a Dymos phase.  \n",
    "\n",
    "In addition to `time`, we have three states (`x`, `v`, and `J`) and a single control (`u`).  \n",
    "\n",
    "Here we use bounds on the states themselves to constrain the initial and final value of `x` and `v`, and the initial value of `J`.\n",
    "From an optimization perspective, this means that we are removing the first and last values in the state histories of $x$ and $v$ from the vector of design variables.\n",
    "Their initial and final values will remain unchanged throughout the optimization process.\n",
    "\n",
    "On the other hand, we could specify `fix_initial=False, fix_final=False` for these values, and Dymos would be free to change them.\n",
    "We would then need to put a boundary constraint in place to enforce their final values.\n",
    "Feel free to experiment with different ways of enforcing the boundary constraints on this problem and see how it affects performance.\n",
    "\n",
    "The scaler values (`ref`) are all set to 1 here.\n",
    "\n",
    "Bounds on time duration are guesses, and the bounds on the states and controls come from the implementation in the references.\n",
    "\n",
    "Also, we don't need to specify targets for any of the variables here because their names _are_ the targets in the top-level of the model.\n",
    "The rate source and units for the states are obtained from the tags in the ODE component we previously defined."
   ]
  },
  {
   "cell_type": "code",
   "execution_count": null,
   "id": "IdjlON_895PU",
   "metadata": {
    "id": "IdjlON_895PU"
   },
   "outputs": [],
   "source": [
    "#\n",
    "# Set the variables\n",
    "#\n",
    "phase.set_time_options(fix_initial=True, fix_duration=True)\n",
    "\n",
    "phase.add_state('x', fix_initial=True, fix_final=True, rate_source='v')\n",
    "phase.add_state('v', fix_initial=True, fix_final=True, rate_source='u')\n",
    "phase.add_state('J', fix_initial=True, fix_final=False) # Rate source obtained from tags on the ODE outputs\n",
    "phase.add_control('u', continuity=True, rate_continuity=False)"
   ]
  },
  {
   "cell_type": "code",
   "execution_count": null,
   "id": "d498cb7b",
   "metadata": {
    "colab": {
     "base_uri": "https://localhost:8080/"
    },
    "id": "d498cb7b",
    "outputId": "18be63ac-a3cb-4632-eb7d-130eced98d70"
   },
   "outputs": [],
   "source": [
    "#\n",
    "# Minimize time at the end of the phase\n",
    "#\n",
    "phase.add_objective('J', loc='final', ref=1)\n",
    "phase.add_path_constraint('x', upper=1/9)\n",
    "\n",
    "#\n",
    "# Setup the Problem\n",
    "#\n",
    "p.setup()"
   ]
  },
  {
   "cell_type": "markdown",
   "id": "E6q4fW_NAx6B",
   "metadata": {
    "id": "E6q4fW_NAx6B"
   },
   "source": [
    "We then set the initial guesses for the variables in the problem and solve it.\n",
    "\n",
    "We're using the phase `interp` method to provide initial guesses for the states and controls.\n",
    "In this case, by giving it two values, it is linearly interpolating from the first value to the second value, and then returning the interpolated value at the input nodes for the given variable.\n",
    "\n",
    "Finally, we use the `dymos.run_problem` method to execute the problem.\n",
    "This interface allows us to do some things that the standard OpenMDAO `problem.run_driver` interface does not.\n",
    "It will automatically record the final solution achieved by the optimizer in case named `'final'` in a file called `dymos_solution.db`.\n",
    "By specifying `simulate=True`, it will automatically follow the solution with an explicit integration using `scipy.solve_ivp`.\n",
    "The results of the simulation are stored in a case named `final` in the file `dymos_simulation.db`.\n",
    "This explicit simulation demonstrates how the system evolved with the given controls, and serves as a check that we're using a dense enough grid (enough segments and segments of sufficient order) to accurately represent the solution.\n",
    "\n",
    "If those two solution didn't agree reasonably well, we could rerun the problem with a more dense grid.\n",
    "Instead, we're asking Dymos to automatically change the grid if necessary by specifying `refine_method='ph'`.\n",
    "This will attempt to repeatedly solve the problem and change the number of segments and segment orders until the solution is in reasonable agreement."
   ]
  },
  {
   "cell_type": "code",
   "execution_count": null,
   "id": "iRY53Rq0_0c6",
   "metadata": {
    "colab": {
     "base_uri": "https://localhost:8080/"
    },
    "id": "iRY53Rq0_0c6",
    "outputId": "1d987fbe-e703-4e89-cb8c-14af763b8d7f",
    "tags": [
     "hide-output"
    ]
   },
   "outputs": [],
   "source": [
    "#\n",
    "# Set the initial values\n",
    "#\n",
    "\n",
    "phase.set_time_val(initial=0.0, duration=1.0)\n",
    "\n",
    "phase.set_state_val('x', [0, 0])\n",
    "phase.set_state_val('v', [1, -1])\n",
    "phase.set_state_val('J', [0, 1])\n",
    "phase.set_control_val('u', [0, 0])\n",
    "\n",
    "#\n",
    "# Solve for the optimal trajectory\n",
    "#\n",
    "dm.run_problem(p, run_driver=True, simulate=True)\n"
   ]
  },
  {
   "cell_type": "markdown",
   "id": "3f9a5d44",
   "metadata": {
    "id": "3f9a5d44"
   },
   "source": [
    "## Plotting the solution\n",
    "\n",
    "The recommended practice is to obtain values from the recorded cases.\n",
    "While the problem object can also be queried for values, building plotting scripts that use the case recorder files as the data source means that the problem doesn't need to be solved just to change a plot.\n",
    "Here we load values of various variables from the solution and simulation for use in the animation to follow."
   ]
  },
  {
   "cell_type": "code",
   "execution_count": null,
   "id": "beea4c6a",
   "metadata": {
    "id": "beea4c6a",
    "scrolled": true
   },
   "outputs": [],
   "source": [
    "sol = om.CaseReader('dymos_solution.db').get_case('final')\n",
    "sim = om.CaseReader('dymos_simulation.db').get_case('final')\n",
    "\n",
    "t = sol.get_val('traj.phase0.timeseries.time')\n",
    "x = sol.get_val('traj.phase0.timeseries.x')\n",
    "v = sol.get_val('traj.phase0.timeseries.v')\n",
    "J = sol.get_val('traj.phase0.timeseries.J')\n",
    "u = sol.get_val('traj.phase0.timeseries.u')\n",
    "h = np.sin(3 * x) / 3\n",
    "\n",
    "t_sim = sim.get_val('traj.phase0.timeseries.time')\n",
    "x_sim = sim.get_val('traj.phase0.timeseries.x')\n",
    "v_sim = sim.get_val('traj.phase0.timeseries.v')\n",
    "J_sim = sim.get_val('traj.phase0.timeseries.J')\n",
    "u_sim = sim.get_val('traj.phase0.timeseries.u')\n",
    "h_sim = np.sin(3 * x_sim) / 3\n",
    "\n",
    "fig = plt.figure(constrained_layout=True, figsize=(12, 4))\n",
    "gs = fig.add_gridspec(2, 2)\n",
    "\n",
    "x_ax = fig.add_subplot(gs[0, 0])\n",
    "v_ax = fig.add_subplot(gs[1, 0])\n",
    "J_ax = fig.add_subplot(gs[0, 1])\n",
    "u_ax = fig.add_subplot(gs[1, 1])\n",
    "\n",
    "x_ax.set_ylabel('x ($m$)')\n",
    "v_ax.set_ylabel('v ($m/s$)')\n",
    "J_ax.set_ylabel('J ($m^2$/s^3$)')\n",
    "u_ax.set_ylabel('u ($m/s^2$)')\n",
    "v_ax.set_xlabel('t (s)')\n",
    "u_ax.set_xlabel('t (s)')\n",
    "\n",
    "x_sol_handle, = x_ax.plot(t, x, 'o', ms=1)\n",
    "v_ax.plot(t, v, 'o', ms=1)\n",
    "J_ax.plot(t, J, 'o', ms=1)\n",
    "u_ax.plot(t, u, 'o', ms=1)\n",
    "\n",
    "x_sim_handle, = x_ax.plot(t_sim, x_sim, '-', ms=1)\n",
    "v_ax.plot(t_sim, v_sim, '-', ms=1)\n",
    "J_ax.plot(t_sim, J_sim, '-', ms=1)\n",
    "u_ax.plot(t_sim, u_sim, '-', ms=1)\n",
    "\n",
    "for ax in [x_ax, v_ax, J_ax, u_ax]:\n",
    "    ax.grid(True, alpha=0.2)\n",
    "    \n",
    "plt.figlegend([x_sol_handle, x_sim_handle], ['solution', 'simulation'], ncol=2, loc='lower center');\n",
    "\n"
   ]
  },
  {
   "cell_type": "code",
   "execution_count": null,
   "id": "13842bfe",
   "metadata": {
    "tags": [
     "remove-input",
     "remove-output"
    ]
   },
   "outputs": [],
   "source": [
    "from openmdao.utils.assert_utils import assert_near_equal\n",
    "\n",
    "assert_near_equal(J[-1, 0], 4.0, tolerance=1.0E-3)"
   ]
  },
  {
   "cell_type": "markdown",
   "id": "7b0a9304",
   "metadata": {
    "id": "7b0a9304"
   },
   "source": [
    "## Animating the Solution\n",
    "\n",
    "The collapsed code cell below contains the code used to produce an animation of the mountain car solution using Matplotlib.\n",
    "\n",
    "The green area represents the hilly terrain the car is traversing.  The black circle is the center of the car, and the orange arrow is the applied control.\n",
    "\n",
    "The applied control _generally_ has the same sign as the velocity and is 'bang-bang', that is, it wants to be at its maximum possible magnitude.  Interestingly, the sign of the control flips shortly before the sign of the velocity changes."
   ]
  },
  {
   "cell_type": "code",
   "execution_count": null,
   "id": "da31be29",
   "metadata": {
    "colab": {
     "base_uri": "https://localhost:8080/",
     "height": 530
    },
    "id": "da31be29",
    "outputId": "f351fca0-6415-4469-8a42-dc035fe2bbc4",
    "scrolled": false,
    "tags": [
     "hide-input"
    ]
   },
   "outputs": [],
   "source": [
    "import matplotlib as mpl\n",
    "from matplotlib import animation\n",
    "\n",
    "BLOCK_SIZE = 0.02\n",
    "X_EXTENTS = (-0.025, 0.175)\n",
    "\n",
    "fig = plt.figure(constrained_layout=True, figsize=(12, 6))\n",
    "gs = fig.add_gridspec(3, 2)\n",
    "\n",
    "anim_ax = fig.add_subplot(gs[:, 0])\n",
    "anim_ax.set_aspect('equal')\n",
    "\n",
    "x_ax = fig.add_subplot(gs[0, 1:])\n",
    "v_ax = fig.add_subplot(gs[1, 1:])\n",
    "u_ax = fig.add_subplot(gs[2, 1:])\n",
    "\n",
    "x_ax.set_ylabel('x')\n",
    "v_ax.set_ylabel('v')\n",
    "u_ax.set_ylabel('u')\n",
    "u_ax.set_xlabel('t')\n",
    "\n",
    "# set up the subplots as needed\n",
    "anim_ax.set_xlim(X_EXTENTS);\n",
    "y_extents = [-np.diff(X_EXTENTS) / 2, np.diff(X_EXTENTS) / 2]\n",
    "anim_ax.set_ylim(y_extents);\n",
    "anim_ax.set_xlabel('x');\n",
    "anim_ax.set_yticks([])\n",
    "time_text = anim_ax.text(0.05, 0.9, 't = 0.000 s', fontsize=16, transform=anim_ax.transAxes)\n",
    "\n",
    "x_sol_line, = x_ax.plot(t, x, 'o', ms=1, label='solution', color='k')\n",
    "v_ax.plot(t, v, 'o', ms=1, color='k')\n",
    "u_ax.plot(t, u, 'o', ms=1, color='k')\n",
    "\n",
    "x_sim_line, = x_ax.plot([], [], '-', linewidth=3, label='simulation', color='tab:blue')\n",
    "v_sim_line, = v_ax.plot([], [], '-', linewidth=3, color='tab:red')\n",
    "u_sim_line, = u_ax.plot([], [], '-', linewidth=3, color='tab:orange')\n",
    "\n",
    "plt.figlegend(ncol=2, handles=[x_sol_line, x_sim_line], loc='upper center',\n",
    "              bbox_to_anchor=(0.78,0.98))\n",
    "\n",
    "x_ax.grid(alpha=0.2)\n",
    "txt_x = x_ax.text(0.8, 0.1, f'x = {x_sim[0, 0]:6.3f}', horizontalalignment='left',\n",
    "                  verticalalignment='center', transform=x_ax.transAxes)\n",
    "\n",
    "v_ax.grid(alpha=0.2)\n",
    "txt_v = v_ax.text(0.8, 0.1, f'v = {v_sim[0, 0]:6.3f}', horizontalalignment='left',\n",
    "                  verticalalignment='center', transform=v_ax.transAxes)\n",
    "\n",
    "u_ax.grid(alpha=0.2)\n",
    "txt_u = u_ax.text(0.8, 0.1, f'u = {u_sim[0, 0]:6.3f}', horizontalalignment='left',\n",
    "                  verticalalignment='center', transform=u_ax.transAxes)\n",
    "\n",
    "x_terrain = np.linspace(-0.025, 0.175, 2);\n",
    "h_terrain = 0 * x_terrain\n",
    "terrain_line, = anim_ax.plot(x_terrain, h_terrain, '-', color='tab:gray', lw=2);\n",
    "terrain = anim_ax.fill_between(x_terrain, h_terrain, h_terrain-1, color='tab:green');\n",
    "wall = mpl.patches.Rectangle(xy=(1/9 + BLOCK_SIZE, 0), width=BLOCK_SIZE, height=3*BLOCK_SIZE, color='tab:gray')\n",
    "anim_ax.add_patch(wall)\n",
    "block = mpl.patches.Rectangle(xy=(0, 0), width=BLOCK_SIZE, height=BLOCK_SIZE, alpha=0.5)\n",
    "anim_ax.add_patch(block)\n",
    "v_vec = anim_ax.quiver(x_sim[0,0] + BLOCK_SIZE / 2, BLOCK_SIZE * 0.25, v_sim[0,0], [0], scale=10, angles='xy', color='tab:red')\n",
    "u_vec = anim_ax.quiver(x_sim[0,0] + BLOCK_SIZE / 2, BLOCK_SIZE * 0.75, u_sim[0,0], [0], scale=50, angles='xy', color='tab:orange')\n",
    "\n",
    "# See https://brushingupscience.com/2019/08/01/elaborate-matplotlib-animations/ for quiver animation\n",
    "\n",
    "ANIM_DURATION = 3\n",
    "PRE_PAUSE_DURATION = 1\n",
    "POST_PAUSE_DURATION = 0.5\n",
    "ANIM_FPS = 20\n",
    "\n",
    "num_points = t_sim.size\n",
    "num_frames = int(ANIM_DURATION * ANIM_FPS)\n",
    "pre_pause_frames = int(PRE_PAUSE_DURATION * ANIM_FPS)\n",
    "post_pause_frames = int(POST_PAUSE_DURATION * ANIM_FPS)\n",
    "\n",
    "idx_from_frame_num = np.linspace(0, num_points-1, num_frames, dtype=int)\n",
    "\n",
    "def drawframe(n):\n",
    "\n",
    "    if n < pre_pause_frames:\n",
    "        idx = 0\n",
    "    elif n - pre_pause_frames >= idx_from_frame_num.size:\n",
    "        idx = num_points - 1\n",
    "    else:\n",
    "        idx = idx_from_frame_num[n - pre_pause_frames]\n",
    "\n",
    "    x = x_sim[idx]\n",
    "    v = v_sim[idx]\n",
    "    u = u_sim[idx]\n",
    "    t = t_sim[idx]\n",
    "    h = 0\n",
    "    block.set_xy((x[0], h))\n",
    "    \n",
    "    v_vec.set_offsets((x[0] + BLOCK_SIZE/2, BLOCK_SIZE * 0.25))\n",
    "    v_vec.set_UVC(v, 0)\n",
    "\n",
    "    u_vec.set_offsets((x[0] + BLOCK_SIZE/2, BLOCK_SIZE * 0.75))\n",
    "    u_vec.set_UVC(u, 0)\n",
    "\n",
    "    x_sim_line.set_data(t_sim[:idx], x_sim[:idx])\n",
    "    v_sim_line.set_data(t_sim[:idx], v_sim[:idx])\n",
    "    u_sim_line.set_data(t_sim[:idx], u_sim[:idx])\n",
    "\n",
    "    txt_x.set_text(f'x = {x[0]:6.3f}')\n",
    "    txt_v.set_text(f'v = {v[0]:6.3f}')\n",
    "    txt_u.set_text(f'u = {u[0]:6.3f}')\n",
    "    \n",
    "    time_text.set_text(f't = {t[0]:6.3f}')\n",
    "    \n",
    "    return block, u_vec, v_vec, x_sim_line, v_sim_line, u_sim_line, time_text\n",
    "\n",
    "# # blit=True re-draws only the parts that have changed.\n",
    "# # repeat_delay has no effect when using to_jshtml, so pad drawframe to show the final frame for PAUSE_FRAMES extra frames.\n",
    "anim = animation.FuncAnimation(fig, drawframe, frames=pre_pause_frames + num_frames + post_pause_frames, interval=1000/ANIM_FPS, blit=True);\n",
    "plt.close()  # Don't let jupyter display the un-animated plot\n",
    "\n",
    "from IPython.display import HTML\n",
    "with open('anim.html', 'w') as f:\n",
    "    f.write(anim.to_jshtml())\n",
    "HTML('anim.html')"
   ]
  },
  {
   "cell_type": "markdown",
   "id": "6d27dc72",
   "metadata": {},
   "source": [
    "## References\n",
    "\n",
    "```{bibliography}\n",
    ":filter: docname in docnames\n",
    "```"
   ]
  }
 ],
 "metadata": {
  "celltoolbar": "Tags",
  "colab": {
   "collapsed_sections": [],
   "name": "mountain_car.ipynb",
   "provenance": []
  },
  "kernelspec": {
   "display_name": "Python 3 (ipykernel)",
   "language": "python",
   "name": "python3"
  },
  "language_info": {
   "codemirror_mode": {
    "name": "ipython",
    "version": 3
   },
   "file_extension": ".py",
   "mimetype": "text/x-python",
   "name": "python",
   "nbconvert_exporter": "python",
   "pygments_lexer": "ipython3",
   "version": "3.11.0"
  }
 },
 "nbformat": 4,
 "nbformat_minor": 5
}
