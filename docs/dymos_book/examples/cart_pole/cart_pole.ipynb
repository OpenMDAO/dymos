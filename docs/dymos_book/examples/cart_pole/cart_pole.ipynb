{
 "cells": [
  {
   "cell_type": "code",
   "execution_count": null,
   "metadata": {
    "tags": [
     "active-ipynb",
     "remove-input",
     "remove-output"
    ]
   },
   "outputs": [],
   "source": [
    "# This cell is mandatory in all Dymos documentation notebooks.\n",
    "missing_packages = []\n",
    "try:\n",
    "    import openmdao.api as om  # noqa: F401\n",
    "except ImportError:\n",
    "    if 'google.colab' in str(get_ipython()):\n",
    "        !python -m pip install openmdao[notebooks]\n",
    "    else:\n",
    "        missing_packages.append('openmdao')\n",
    "try:\n",
    "    import dymos as dm  # noqa: F401\n",
    "except ImportError:\n",
    "    if 'google.colab' in str(get_ipython()):\n",
    "        !python -m pip install dymos\n",
    "    else:\n",
    "        missing_packages.append('dymos')\n",
    "try:\n",
    "    import pyoptsparse  # noqa: F401\n",
    "except ImportError:\n",
    "    if 'google.colab' in str(get_ipython()):\n",
    "        !pip install -q condacolab\n",
    "        import condacolab\n",
    "        condacolab.install_miniconda()\n",
    "        !conda install -c conda-forge pyoptsparse\n",
    "    else:\n",
    "        missing_packages.append('pyoptsparse')\n",
    "if missing_packages:\n",
    "    raise EnvironmentError('This notebook requires the following packages '\n",
    "                           'please install them and restart this notebook\\'s runtime: {\",\".join(missing_packages)}')"
   ]
  },
  {
   "cell_type": "markdown",
   "metadata": {},
   "source": [
    "(examples:cart_pole)=\n",
    "# Cart-Pole Optimal Control\n",
    "\n",
    "This example is authored by Shugo Kaneko and Bernardo Pacini of the [MDO Lab](https://mdolab.engin.umich.edu/).\n",
    "The cart-pole problem is an instructional case described in _An introduction to trajectory optimization: How to do your own direct collocation_ {cite}`Kelly2017`, and is adapted to work within Dymos.\n",
    "We consider a pole that can rotate freely attached to a cart, on which we can exert an external force (control input) in the $x$-direction.\n",
    "\n",
    "Our goal is to bring the cart-pole system from an initial state to a terminal state with minimum control efforts.\n",
    "The initial state is the stable stationary point (the cart at a stop with the pole vertically down), and the terminal state is the unstable stationary state (the cart at a stop but with the pole vertically up).\n",
    "Friction force is ignored to simplify the problem.\n",
    "\n",
    "![Cart-pole optimal control from the initial state to the terminal state.](cartpole-ic-tc.png)\n",
    "\n",
    "## Trajectory Optimization Problem\n",
    "\n",
    "We use the following quadratic objective function to approximately minimize the total control effort:\n",
    "\\begin{equation}\n",
    "    J = \\int_{t_0}^{t_f} F(t)^2 dt ~~ \\rightarrow ~ \\min\n",
    "\\end{equation}\n",
    "where $F(t)$ is the external force, $t_0$ is the initial time, and $t_f$ is the final time.\n",
    "\n",
    "### Dynamics\n",
    "\n",
    "The equations of motion of the cart-pole system are given by\n",
    "\n",
    "\\begin{equation}\n",
    "    \\begin{bmatrix}\n",
    "        \\ddot{x} \\\\ \\ddot{\\theta}\n",
    "    \\end{bmatrix} =\n",
    "    \\begin{bmatrix}\n",
    "        \\cos \\theta & \\ell  \\\\ m_1 + m_2 & m_2 \\ell \\cos \\theta\n",
    "    \\end{bmatrix}^{-1}\n",
    "    \\begin{bmatrix}\n",
    "        -g \\sin \\theta \\\\ F + m_2 \\ell \\dot{\\theta}^2 \\sin \\theta\n",
    "    \\end{bmatrix}\n",
    "\\end{equation}\n",
    "\n",
    "where $x$ is the cart location, $\\theta$ is the pole angle, $m_1$ is the cart mass, $m_2$ is the pole mass, and $\\ell$ is the pole length.\n",
    "\n",
    "![Schematic of the cart-pole system.](cartpole-dynamics.png)\n",
    "\n",
    "Now, we need to convert the equations of motion, which are a second-order ODE, to a first-order ODE.\n",
    "To do so, we define our state vector to be $X = [x, \\dot{x}, \\theta, \\dot{\\theta}]^T$.\n",
    "We also add an \"energy\" state $e$ and set $\\dot{e} = F^2$ to keep track of the accumulated control input.\n",
    "By setting setting $e_0 = 0$, the objective function is equal to the final value of the state $e$:\n",
    "\n",
    "\\begin{equation}\n",
    "    J = \\int_{t_0}^{t_f} \\dot{e} ~dt = e_f\n",
    "\\end{equation}\n",
    "\n",
    "To summarize, the ODE for the cart-pole system is given by\n",
    "\n",
    "\\begin{equation}\n",
    "    \\begin{bmatrix}\n",
    "        \\dot{x} \\\\ \\dot{\\theta} \\\\ \\ddot{x} \\\\ \\ddot{\\theta} \\\\ \\dot{e} \n",
    "    \\end{bmatrix} =\n",
    "    f \\left(\n",
    "        \\begin{bmatrix}\n",
    "        x \\\\ \\theta \\\\ \\dot{x} \\\\ \\dot{\\theta} \\\\ e \n",
    "    \\end{bmatrix}\n",
    "    \\right)=\n",
    "    \\begin{bmatrix}\n",
    "        \\dot{x}  \\\\\n",
    "        \\dot{\\theta} \\\\\n",
    "        \\frac{-m_2 g \\sin \\theta \\cos \\theta - (F + m_2 \\ell \\dot{\\theta}^2 \\sin \\theta)}{m_2 \\cos^2 \\theta - (m_1 + m_2)} \\\\\n",
    "        \\frac{(m_1 + m_2) g \\sin \\theta + \\cos \\theta (F + m_1 \\ell \\dot{\\theta}^2 \\sin \\theta)}{m_2 \\ell \\cos^2 \\theta - (m_1 + m_2) \\ell} \\\\ \n",
    "        F^2 \\\\ \n",
    "    \\end{bmatrix}\n",
    "\\end{equation}\n",
    "\n",
    "### Initial and terminal conditions\n",
    "The initial state variables are all zero at $t_0 = 0$, and the final conditions at time $t_f$ are\n",
    "\\begin{align}\n",
    "    x_f &= d \\\\\n",
    "    \\dot{x}_f &= 0 \\\\\n",
    "    \\theta_f &= \\pi \\\\\n",
    "    \\dot{\\theta_f} &= 0\n",
    "\\end{align}\n",
    "\n",
    "### Parameters\n",
    "The fixed parameters are summarized as follows.\n",
    "\n",
    "| Parameter      | Value       | Units      | Description                                |\n",
    "|----------------|-------------|------------|--------------------------------------------|\n",
    "| $m_1$          | 1.0         | kg         | Cart mass                                  |\n",
    "| $m_2$          | 0.3         | kg         | Pole mass                                  |\n",
    "| $\\ell$         | 0.5         | m          | Pole length                                |\n",
    "| $d$            | 2           | m          | Cart target location                       |\n",
    "| $t_f$          | 2           | s          | Final time                                 |\n",
    "\n",
    "## Implementing the ODE\n",
    "We first implement the cart-pole ODE as an `ExplicitComponent` as follows:\n"
   ]
  },
  {
   "cell_type": "code",
   "execution_count": null,
   "metadata": {},
   "outputs": [],
   "source": [
    "import openmdao.api as om\n",
    "om.display_source(\"dymos.examples.cart_pole.cartpole_dynamics\")"
   ]
  },
  {
   "cell_type": "markdown",
   "metadata": {},
   "source": [
    "## Building and running the problem\n",
    "\n",
    "The following is a runscript of the cart-pole optimal control problem.\n",
    "First, we instantiate the OpenMDAO problem and set up the Dymos trajectory, phase, and transcription."
   ]
  },
  {
   "cell_type": "code",
   "execution_count": null,
   "metadata": {},
   "outputs": [],
   "source": [
    "\"\"\"\n",
    "Cart-pole optimizatio runscript\n",
    "\"\"\"\n",
    "\n",
    "import numpy as np\n",
    "import openmdao.api as om\n",
    "import dymos as dm\n",
    "from dymos.examples.plotting import plot_results\n",
    "from dymos.examples.cart_pole.cartpole_dynamics import CartPoleDynamics\n",
    "\n",
    "p = om.Problem()\n",
    "\n",
    "# --- instantiate trajectory and phase, setup transcription ---\n",
    "traj = dm.Trajectory()\n",
    "p.model.add_subsystem('traj', traj)\n",
    "phase = dm.Phase(transcription=dm.GaussLobatto(num_segments=40, order=3, compressed=True, solve_segments=False), ode_class=CartPoleDynamics)\n",
    "# NOTE: set solve_segments=True to do solver-based shooting\n",
    "traj.add_phase('phase', phase)"
   ]
  },
  {
   "cell_type": "markdown",
   "metadata": {},
   "source": [
    "Next, we add the state variables, controls, and cart-pole parameters."
   ]
  },
  {
   "cell_type": "code",
   "execution_count": null,
   "metadata": {},
   "outputs": [],
   "source": [
    "# --- set state and control variables ---\n",
    "phase.set_time_options(fix_initial=True, fix_duration=True, duration_val=2., units='s')\n",
    "# declare state variables. You can also set lower/upper bounds and scalings here.\n",
    "phase.add_state('x', fix_initial=True, lower=-2, upper=2, rate_source='x_dot', shape=(1,), ref=1, defect_ref=1, units='m')\n",
    "phase.add_state('x_dot', fix_initial=True, rate_source='x_dotdot', shape=(1,), ref=1, defect_ref=1, units='m/s')\n",
    "phase.add_state('theta', fix_initial=True, rate_source='theta_dot', shape=(1,), ref=1, defect_ref=1, units='rad')\n",
    "phase.add_state('theta_dot', fix_initial=True, rate_source='theta_dotdot', shape=(1,), ref=1, defect_ref=1, units='rad/s')\n",
    "phase.add_state('energy', fix_initial=True, rate_source='e_dot', shape=(1,), ref=1, defect_ref=1, units='N**2*s')  # integration of force**2. This does not have the energy unit, but I call it \"energy\" anyway.\n",
    "\n",
    "# declare control inputs\n",
    "phase.add_control('f', fix_initial=False, rate_continuity=False, lower=-20, upper=20, shape=(1,), ref=0.01, units='N')\n",
    "\n",
    "# add cart-pole parameters (set static_target=True because these params are not time-depencent)\n",
    "phase.add_parameter('m_cart', val=1., units='kg', static_target=True)\n",
    "phase.add_parameter('m_pole', val=0.3, units='kg', static_target=True)\n",
    "phase.add_parameter('l_pole', val=0.5, units='m', static_target=True)"
   ]
  },
  {
   "cell_type": "markdown",
   "metadata": {},
   "source": [
    "We set the terminal conditions as boundary constraints and declare the optimization objective."
   ]
  },
  {
   "cell_type": "code",
   "execution_count": null,
   "metadata": {},
   "outputs": [],
   "source": [
    "\n",
    "# --- set terminal constraint ---\n",
    "# alternatively, you can impose those by setting `fix_final=True` in phase.add_state()\n",
    "phase.add_boundary_constraint('x', loc='final', equals=1, ref=1., units='m')  # final horizontal displacement\n",
    "phase.add_boundary_constraint('theta', loc='final', equals=np.pi, ref=1., units='rad')  # final pole angle\n",
    "phase.add_boundary_constraint('x_dot', loc='final', equals=0, ref=1., units='m/s')  # 0 velocity at the and\n",
    "phase.add_boundary_constraint('theta_dot', loc='final', equals=0, ref=0.1, units='rad/s')  # 0 angular velocity at the end\n",
    "phase.add_boundary_constraint('f', loc='final', equals=0, ref=1., units='N')  # 0 force at the end\n",
    "\n",
    "# --- set objective function ---\n",
    "# we minimize the integral of force**2.\n",
    "phase.add_objective('energy', loc='final', ref=100)"
   ]
  },
  {
   "cell_type": "markdown",
   "metadata": {},
   "source": [
    "Next, we configure the optimizer and declare the total Jacobian coloring to accelerate the derivative computations.\n",
    "We then call the `setup` method to setup the OpenMDAO problem."
   ]
  },
  {
   "cell_type": "code",
   "execution_count": null,
   "metadata": {},
   "outputs": [],
   "source": [
    "# --- configure optimizer ---\n",
    "p.driver = om.pyOptSparseDriver()\n",
    "p.driver.options[\"optimizer\"] = \"IPOPT\"\n",
    "# IPOPT options\n",
    "p.driver.opt_settings['mu_init'] = 1e-1\n",
    "p.driver.opt_settings['max_iter'] = 600\n",
    "p.driver.opt_settings['constr_viol_tol'] = 1e-6\n",
    "p.driver.opt_settings['compl_inf_tol'] = 1e-6\n",
    "p.driver.opt_settings['tol'] = 1e-5\n",
    "p.driver.opt_settings['print_level'] = 0\n",
    "p.driver.opt_settings['nlp_scaling_method'] = 'gradient-based'\n",
    "p.driver.opt_settings['alpha_for_y'] = 'safer-min-dual-infeas'\n",
    "p.driver.opt_settings['mu_strategy'] = 'monotone'\n",
    "p.driver.opt_settings['bound_mult_init_method'] = 'mu-based'\n",
    "p.driver.options['print_results'] = False\n",
    "\n",
    "# declare total derivative coloring to accelerate the UDE linear solves\n",
    "p.driver.declare_coloring()\n",
    "\n",
    "p.setup(check=False)\n"
   ]
  },
  {
   "cell_type": "markdown",
   "metadata": {},
   "source": [
    "Now we are ready to run optimization. But before that, set the initial optimization variables using `set_val` methods to help convergence."
   ]
  },
  {
   "cell_type": "code",
   "execution_count": null,
   "metadata": {},
   "outputs": [],
   "source": [
    "# --- set initial guess ---\n",
    "# The initial condition of cart-pole (i.e., state values at time 0) is set here because we set `fix_initial=True` when declaring the states.\n",
    "phase.set_time_val(initial=0.0)  # set initial time to 0.\n",
    "phase.set_state_val('x', vals=[0, 1, 1], time_vals=[0, 1, 2], units='m')\n",
    "phase.set_state_val('x_dot', vals=[0, 0.1, 0], time_vals=[0, 1, 2], units='m/s')\n",
    "phase.set_state_val('theta', vals=[0, np.pi/2, np.pi], time_vals=[0, 1, 2], units='rad')\n",
    "phase.set_state_val('theta_dot', vals=[0, 1, 0], time_vals=[0, 1, 2], units='rad/s')\n",
    "phase.set_state_val('energy', vals=[0, 30, 60], time_vals=[0, 1, 2])\n",
    "phase.set_control_val('f', vals=[3, -1, 0], time_vals=[0, 1, 2], units='N')\n",
    "\n",
    "# --- run optimization ---\n",
    "dm.run_problem(p, run_driver=True, simulate=True, simulate_kwargs={'method' : 'Radau', 'times_per_seg' : 10})\n",
    "# NOTE: with Simulate=True, dymos will call scipy.integrate.solve_ivp and simulate the trajectory using the optimized control inputs."
   ]
  },
  {
   "cell_type": "markdown",
   "metadata": {},
   "source": [
    "After running optimization and simulation, the results can be plotted using the `plot_results` function of Dymos."
   ]
  },
  {
   "cell_type": "code",
   "execution_count": null,
   "metadata": {},
   "outputs": [],
   "source": [
    "\n",
    "# --- get results and plot ---\n",
    "# objective value\n",
    "obj = p.get_val('traj.phase.states:energy', units='N**2*s')[-1]\n",
    "print('objective value:', obj)\n",
    "\n",
    "# get optimization solution and simulation (time integration) results\n",
    "sol = om.CaseReader('dymos_solution.db').get_case('final')\n",
    "sim = om.CaseReader('dymos_simulation.db').get_case('final')\n",
    "\n",
    "# plot time histories of x, x_dot, theta, theta_dot\n",
    "plot_results([('traj.phase.timeseries.time', 'traj.phase.timeseries.x', 'time (s)', 'x (m)'),\n",
    "              ('traj.phase.timeseries.time', 'traj.phase.timeseries.x_dot', 'time (s)', 'vx (m/s)'),\n",
    "              ('traj.phase.timeseries.time', 'traj.phase.timeseries.theta', 'time (s)', 'theta (rad)'),\n",
    "              ('traj.phase.timeseries.time', 'traj.phase.timeseries.theta_dot', 'time (s)', 'theta_dot (rad/s)'),\n",
    "              ('traj.phase.timeseries.time', 'traj.phase.timeseries.f', 'time (s)', 'control (N)')],\n",
    "             title='Cart-Pole Problem', p_sol=sol, p_sim=sim)\n",
    "\n",
    "# uncomment the following lines to show the cart-pole animation\n",
    "### x = sol.get_val('traj.phase.timeseries.x', units='m')\n",
    "### theta = sol.get_val('traj.phase.timeseries.theta', units='rad')\n",
    "### force = sol.get_val('traj.phase.timeseries.f', units='N')\n",
    "### npts = len(x)\n",
    "\n",
    "### from dymos.examples.cart_pole.animate_cartpole import animate_cartpole\n",
    "### animate_cartpole(x.reshape(npts), theta.reshape(npts), force.reshape(npts), interval=20, force_scaler=0.02)"
   ]
  },
  {
   "cell_type": "markdown",
   "metadata": {},
   "source": [
    "The optimized cart-pole motion should look like the following:\n",
    "\n",
    "![Cart-pole optimized trajectory.](cartpole-animation.gif)"
   ]
  },
  {
   "cell_type": "markdown",
   "metadata": {},
   "source": [
    "## References\n",
    "\n",
    "```{bibliography}\n",
    ":filter: docname in docnames\n",
    "```"
   ]
  }
 ],
 "metadata": {
  "celltoolbar": "Tags",
  "jupytext": {
   "cell_metadata_filter": "-all",
   "notebook_metadata_filter": "-all",
   "text_representation": {
    "extension": ".md",
    "format_name": "markdown"
   }
  },
  "kernelspec": {
   "display_name": "Python 3 (ipykernel)",
   "language": "python",
   "name": "python3"
  },
  "language_info": {
   "codemirror_mode": {
    "name": "ipython",
    "version": 3
   },
   "file_extension": ".py",
   "mimetype": "text/x-python",
   "name": "python",
   "nbconvert_exporter": "python",
   "pygments_lexer": "ipython3",
   "version": "3.11.0"
  },
  "vscode": {
   "interpreter": {
    "hash": "f3b7d8d6c03b28a4244c320d3b8f112cb44af2dfe31cf999e947cf452264b17c"
   }
  }
 },
 "nbformat": 4,
 "nbformat_minor": 4
}
