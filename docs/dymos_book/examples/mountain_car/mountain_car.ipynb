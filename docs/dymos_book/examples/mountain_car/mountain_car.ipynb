{
 "cells": [
  {
   "cell_type": "code",
   "execution_count": null,
   "id": "b588d6ce",
   "metadata": {
    "colab": {
     "base_uri": "https://localhost:8080/"
    },
    "id": "e9bef506",
    "outputId": "23e61fa9-803c-416c-c2ea-49fda74021d7",
    "tags": [
     "active-ipynb",
     "remove-input",
     "remove-output"
    ]
   },
   "outputs": [],
   "source": [
    "# This cell is mandatory in all Dymos documentation notebooks.\n",
    "missing_packages = []\n",
    "try:\n",
    "    import openmdao.api as om\n",
    "except ImportError:\n",
    "    if 'google.colab' in str(get_ipython()):\n",
    "        !python -m pip install openmdao[notebooks]\n",
    "    else:\n",
    "        missing_packages.append('openmdao')\n",
    "try:\n",
    "    import dymos as dm\n",
    "except ImportError:\n",
    "    if 'google.colab' in str(get_ipython()):\n",
    "        !python -m pip install dymos\n",
    "    else:\n",
    "        missing_packages.append('dymos')\n",
    "try:\n",
    "    import pyoptsparse\n",
    "except ImportError:\n",
    "    if 'google.colab' in str(get_ipython()):\n",
    "        !pip install -q condacolab\n",
    "        import condacolab\n",
    "        condacolab.install_miniconda()\n",
    "        !conda install -c conda-forge pyoptsparse\n",
    "    else:\n",
    "        missing_packages.append('pyoptsparse')\n",
    "if missing_packages:\n",
    "    raise EnvironmentError('This notebook requires the following packages '\n",
    "                           'please install them and restart this notebook\\'s runtime: {\",\".join(missing_packages)}')"
   ]
  },
  {
   "cell_type": "markdown",
   "id": "4cb54db5",
   "metadata": {
    "id": "b0a95015"
   },
   "source": [
    "(examples:the_mountain_car_problem)=\n",
    "# The Mountain Car Problem\n",
    "\n",
    "The mountain car problem proposes a vehicle stuck in a \"well.\"  It lacks the power to directly climb out of the well, but instead must accelerate repeatedly forwards and backwards until it has achieved the energy necessary to exit the well.\n",
    "\n",
    "The problem is a popular machine learning test case, though the methods in Dymos are capable of solving it.\n",
    "It first appeared in the PhD thesis of Andrew Moore in 1990. {cite}`moore1990efficient`.\n",
    "The implementation here is based on that given by Melnikov, Makmal, and Briegel {cite}`melnikov2014projective`."
   ]
  },
  {
   "cell_type": "markdown",
   "id": "1f3d0170",
   "metadata": {
    "id": "977155e8"
   },
   "source": [
    "## State and control variables\n",
    "\n",
    "This system has two state variables, the position ($x$) and velocity ($v$) of the car. \n",
    "\n",
    "This system has a single control variable ($u$), the effort put into moving.  This control is contrained to the range $[-1 \\, 1]$.\n",
    "\n",
    "The dynamics of the system are governed by\n",
    "\n",
    "\\begin{align}\n",
    "  \\dot{x} &= v \\\\\n",
    "  \\dot{v} &= 0.001 * u - 0.0025 * \\cos(3 x)\n",
    "\\end{align}\n",
    "\n"
   ]
  },
  {
   "cell_type": "markdown",
   "id": "37f22ad3",
   "metadata": {
    "id": "6e236c20"
   },
   "source": [
    "## Problem Definition\n",
    "\n",
    "We seek to minimize the time required to exit the well in the positive direction.\n",
    "\n",
    "\\begin{align}\n",
    "    \\mathrm{Minimize} \\, J &= t_f\n",
    "\\end{align}\n",
    "\n",
    "Subject to the initial conditions\n",
    "\n",
    "\\begin{align}\n",
    "    x_0 &= -0.5 \\\\\n",
    "    v_0 &= 0.0\n",
    "\\end{align}\n",
    "\n",
    "the control constraints\n",
    "\n",
    "\\begin{align}\n",
    "    |u| \\le 1\n",
    "\\end{align}\n",
    "\n",
    "and the terminal constraints\n",
    "\n",
    "\\begin{align}\n",
    "    x_f &= 0.5 \\\\\n",
    "    v_f &\\ge 0.0\n",
    "\\end{align}"
   ]
  },
  {
   "cell_type": "markdown",
   "id": "a96031b6",
   "metadata": {
    "id": "03ef4a09"
   },
   "source": [
    "## Defining the ODE\n",
    "\n",
    "The following code implements the equations of motion for the mountain car problem.\n",
    "\n",
    "A few things to note:\n",
    "\n",
    "1. By providing the tag `dymos.state_rate_source:{name}`, we're letting Dymos know what states need to be integrated, there's no need to specify a rate source when using this ODE in our Phase.\n",
    "2. Pairing the above tag with `dymos.state_units:{units}` means we don't have to specify units when setting properties for the state in our run script.\n",
    "3. We only use compute_partials to override the values of $\\frac{\\partial \\dot{v}}{\\partial x}$ because $\\frac{\\partial \\dot{v}}{\\partial u}$ and $\\frac{\\partial \\dot{x}}{\\partial v}$ are constant and their value is specified during `setup`."
   ]
  },
  {
   "cell_type": "code",
   "execution_count": null,
   "id": "03d05a52",
   "metadata": {
    "colab": {
     "base_uri": "https://localhost:8080/"
    },
    "id": "ec2b8a83",
    "outputId": "668bf949-c304-4e34-9fca-27697a497d4b"
   },
   "outputs": [],
   "source": [
    "import numpy as np\n",
    "import openmdao.api as om\n",
    "\n",
    "\n",
    "class MountainCarODE(om.ExplicitComponent):\n",
    "    \n",
    "    def initialize(self):\n",
    "        self.options.declare('num_nodes', types=int)\n",
    "        \n",
    "    def setup(self):\n",
    "        nn = self.options['num_nodes']\n",
    "        \n",
    "        self.add_input('x', shape=(nn,), units='m')\n",
    "        self.add_input('v', shape=(nn,), units='m/s')\n",
    "        self.add_input('u', shape=(nn,), units='unitless')\n",
    "        \n",
    "        self.add_output('x_dot', shape=(nn,), units='m/s',\n",
    "                        tags=['dymos.state_rate_source:x', 'dymos.state_units:m'])\n",
    "        self.add_output('v_dot', shape=(nn,), units='m/s**2',\n",
    "                        tags=['dymos.state_rate_source:v', 'dymos.state_units:m/s'])\n",
    "        \n",
    "        ar = np.arange(nn, dtype=int)\n",
    "        \n",
    "        self.declare_partials(of='x_dot', wrt='v', rows=ar, cols=ar, val=1.0)\n",
    "        self.declare_partials(of='v_dot', wrt='u', rows=ar, cols=ar, val=0.001)\n",
    "        self.declare_partials(of='v_dot', wrt='x', rows=ar, cols=ar)\n",
    "\n",
    "    def compute(self, inputs, outputs):\n",
    "        x = inputs['x']\n",
    "        v = inputs['v']\n",
    "        u = inputs['u']\n",
    "        outputs['x_dot'] = v\n",
    "        outputs['v_dot'] = 0.001 * u - 0.0025 * np.cos(3*x)\n",
    "\n",
    "    def compute_partials(self, inputs, partials):\n",
    "        x = inputs['x']\n",
    "        partials['v_dot', 'x'] = 3 * 0.0025 * np.sin(3 * x)\n",
    "        "
   ]
  },
  {
   "cell_type": "markdown",
   "id": "8b5a3d4c",
   "metadata": {
    "id": "hVK50KxH6YJ4"
   },
   "source": [
    "## Solving the minimum-time mountain car problem with Dymos\n",
    "\n",
    "The following script solves the minimum-time mountain car problem with Dymos.\n",
    "Note that this example requires the IPOPT optimizer via the `pyoptsparse` package.\n",
    "Scipy's SLSQP optimizer is generally not capable of solving this problem.\n",
    "\n",
    "To begin, import the packages we require:"
   ]
  },
  {
   "cell_type": "code",
   "execution_count": null,
   "id": "ffd096a8",
   "metadata": {
    "id": "ii-ApZna669K"
   },
   "outputs": [],
   "source": [
    "import dymos as dm\n",
    "import matplotlib.pyplot as plt\n",
    "from matplotlib import animation"
   ]
  },
  {
   "cell_type": "markdown",
   "id": "fab21afd",
   "metadata": {
    "id": "FBKAO6H368u5"
   },
   "source": [
    "Next, we set two constants.\n",
    "`U_MAX` is the maximum allowable magnitude of the acceleration.\n",
    "The references show this problem being solved with $-1 \\le u \\le 1$.\n",
    "\n",
    "Variable `NUM_SEG` is the number of equally spaced polynomial segments into which time is being divided.\n",
    "Within each of these segments, the time-history of each state and control is being treated as a polynomial (we're using the default order of 3)."
   ]
  },
  {
   "cell_type": "code",
   "execution_count": null,
   "id": "bc161e12",
   "metadata": {
    "id": "NPwe1sZj7lLT"
   },
   "outputs": [],
   "source": [
    "# The maximum absolute value of the acceleration authority of the car\n",
    "U_MAX = 1.0\n",
    "\n",
    "# The number of segments into which the problem is discretized\n",
    "NUM_SEG = 30"
   ]
  },
  {
   "cell_type": "markdown",
   "id": "b0632da0",
   "metadata": {
    "id": "OI5v_AkL7qYm"
   },
   "source": [
    "We then instantiate an OpenMDAO problem and set the optimizer and its options.\n",
    "\n",
    "For IPOPT, setting option `nlp_scaling_method` to `'gradient-based'` can substantially improve the convergence of the optimizer without the need for us to set all of the scaling manually.\n",
    "\n",
    "The call to `declare_coloring` tells the optimizer to attempt to find a sparsity pattern that minimizes the work required to compute the derivatives across the model."
   ]
  },
  {
   "cell_type": "code",
   "execution_count": null,
   "id": "f7a90ca1",
   "metadata": {
    "id": "3yXzgcIw8Tjq"
   },
   "outputs": [],
   "source": [
    "#\n",
    "# Initialize the Problem and the optimization driver\n",
    "#\n",
    "p = om.Problem()\n",
    "               \n",
    "p.driver = om.pyOptSparseDriver(optimizer='IPOPT')\n",
    "p.driver.opt_settings['print_level'] = 5\n",
    "p.driver.opt_settings['max_iter'] = 500\n",
    "p.driver.opt_settings['nlp_scaling_method'] = 'gradient-based'  # for faster convergence\n",
    "\n",
    "p.driver.declare_coloring()"
   ]
  },
  {
   "cell_type": "markdown",
   "id": "5a950eda",
   "metadata": {
    "id": "OcugnHOL8fIF"
   },
   "source": [
    "Next, we add a Dymos Trajectory group to the problem's model and add a phase to it.\n",
    "\n",
    "In this case we're using the Radau pseudospectral transcription to solve the problem."
   ]
  },
  {
   "cell_type": "code",
   "execution_count": null,
   "id": "5f7bd7e4",
   "metadata": {
    "id": "sGYfpaiI8eH-"
   },
   "outputs": [],
   "source": [
    "#\n",
    "# Create a trajectory and add a phase to it\n",
    "#\n",
    "traj = p.model.add_subsystem('traj', dm.Trajectory())\n",
    "tx = transcription=dm.Radau(num_segments=NUM_SEG)\n",
    "phase = traj.add_phase('phase0', dm.Phase(ode_class=MountainCarODE, transcription=tx))"
   ]
  },
  {
   "cell_type": "markdown",
   "id": "331368b3",
   "metadata": {
    "id": "IjCxNJQV82u8"
   },
   "source": [
    "At this point, we set the options on the main variables used in a Dymos phase.  \n",
    "\n",
    "In addition to `time`, we have two states (`x` and `v`) and a single control (`u`).  \n",
    "\n",
    "There are no parameters and no polynomial controls.\n",
    "We could have tried to use a polynomial control here, but as we will see the solution contains large discontinuities in the control value, which make it ill-suited for a polynomial control.  Polynomial controls are modeled as a single (typically low-order) polynomial across the entire phase.\n",
    "\n",
    "We're fixing the initial time and states to whatever values we provide before executing the problem.  We will constrain the final values with nonlinear constraints in the next step.\n",
    "\n",
    "The scaler values (`ref`) are all set to 1 here.  We're using IPOPT's `gradient-based` scaling option and will let it work the scaling out for us.\n",
    "\n",
    "Bounds on time duration are guesses, and the bounds on the states and controls come from the implementation in the references.\n",
    "\n",
    "Also, we don't need to specify targets for any of the variables here because their names _are_ the targets in the top-level of the model.\n",
    "The rate source and units for the states are obtained from the tags in the ODE component we previously defined."
   ]
  },
  {
   "cell_type": "code",
   "execution_count": null,
   "id": "14e70c22",
   "metadata": {
    "id": "IdjlON_895PU"
   },
   "outputs": [],
   "source": [
    "#\n",
    "# Set the variables\n",
    "#\n",
    "phase.set_time_options(fix_initial=True, duration_bounds=(.05, 10000), duration_ref=1)\n",
    "\n",
    "phase.add_state('x', fix_initial=True, fix_final=False, lower=-1.2, upper=0.5, ref=1, defect_ref=1)\n",
    "phase.add_state('v', fix_initial=True, fix_final=False, lower=-0.07, upper=0.07, ref=1, defect_ref=1)\n",
    "phase.add_control('u', lower=-U_MAX, upper=U_MAX, ref=1, continuity=True, rate_continuity=False)"
   ]
  },
  {
   "cell_type": "markdown",
   "id": "e40ae1d4",
   "metadata": {
    "id": "iCWqHlu_-NZv"
   },
   "source": [
    "Next we define the optimal control problem by specifying the objective, boundary constraints, and path constraints.\n",
    "\n",
    "**Why do we have a path constraint on the control `u` when we've already specified its bounds?**\n",
    "\n",
    "Excellent question!\n",
    "In the `Radau` transcription, the $n^{th}$ order control polynomial is governed by design variables provided at $n$ points in the segment that **do not contain the right-most endpoint**.\n",
    "Instead, this value is interpolated based on the values of the first $(n-1)$.\n",
    "Since this value is not a design variable, it is necessary to constrain its value separately.\n",
    "We could forgo specifying any bounds on `u` since it's completely covered by the path constraint, but specifying the bounds on the design variable values can sometimes help by telling the optimizer, \"Don't even bother trying values outside of this range.\".\n",
    "\n",
    "Note that sometimes the opposite is true, and giving the optimizer the freedom to explore a larger design space, only to eventually be \"reined-in\" by the path constraint can sometimes be valuable.\n",
    "\n",
    "The purpose of this interactive documentation is to let the user experiment.\n",
    "If you remove the path constraint, you might notice some outlying control values in the solution below."
   ]
  },
  {
   "cell_type": "code",
   "execution_count": null,
   "id": "bfd26b57",
   "metadata": {
    "colab": {
     "base_uri": "https://localhost:8080/"
    },
    "id": "d498cb7b",
    "outputId": "18be63ac-a3cb-4632-eb7d-130eced98d70"
   },
   "outputs": [],
   "source": [
    "#\n",
    "# Minimize time at the end of the phase\n",
    "#\n",
    "phase.add_objective('time', loc='final', ref=1000)\n",
    "\n",
    "phase.add_boundary_constraint('x', loc='final', lower=0.5)\n",
    "phase.add_boundary_constraint('v', loc='final', lower=0.0)\n",
    "phase.add_path_constraint('u', lower=-U_MAX, upper=U_MAX)\n",
    "\n",
    "#\n",
    "# Setup the Problem\n",
    "#\n",
    "p.setup()"
   ]
  },
  {
   "cell_type": "markdown",
   "id": "d9212fcf",
   "metadata": {
    "id": "E6q4fW_NAx6B"
   },
   "source": [
    "We then set the initial guesses for the variables in the problem and solve it.\n",
    "\n",
    "Since `fix_initial=True` is set for time and the states, those values are not design variables and will remain at the values given below throughout the solution process.\n",
    "\n",
    "We're using the phase `interp` method to provide initial guesses for the states and controls.\n",
    "In this case, by giving it two values, it is linearly interpolating from the first value to the second value, and then returning the interpolated value at the input nodes for the given variable.\n",
    "\n",
    "Finally, we use the `dymos.run_problem` method to execute the problem.\n",
    "This interface allows us to do some things that the standard OpenMDAO `problem.run_driver` interface does not.\n",
    "It will automatically record the final solution achieved by the optimizer in case named `'final'` in a file called `dymos_solution.db`.\n",
    "By specifying `simulate=True`, it will automatically follow the solution with an explicit integration using `scipy.solve_ivp`.\n",
    "The results of the simulation are stored in a case named `final` in the file `dymos_simulation.db`.\n",
    "This explicit simulation demonstrates how the system evolved with the given controls, and serves as a check that we're using a dense enough grid (enough segments and segments of sufficient order) to accurately represent the solution.\n",
    "\n",
    "If those two solution didn't agree reasonably well, we could rerun the problem with a more dense grid.\n",
    "Instead, we're asking Dymos to automatically change the grid if necessary by specifying `refine_method='ph'`.\n",
    "This will attempt to repeatedly solve the problem and change the number of segments and segment orders until the solution is in reasonable agreement."
   ]
  },
  {
   "cell_type": "code",
   "execution_count": null,
   "id": "88888922",
   "metadata": {
    "colab": {
     "base_uri": "https://localhost:8080/"
    },
    "id": "iRY53Rq0_0c6",
    "outputId": "1d987fbe-e703-4e89-cb8c-14af763b8d7f",
    "tags": [
     "hide-output"
    ]
   },
   "outputs": [],
   "source": [
    "#\n",
    "# Set the initial values\n",
    "#\n",
    "p['traj.phase0.t_initial'] = 0.0\n",
    "p['traj.phase0.t_duration'] = 500.0\n",
    "\n",
    "p.set_val('traj.phase0.states:x', phase.interp('x', ys=[-0.5, 0.5]))\n",
    "p.set_val('traj.phase0.states:v', phase.interp('v', ys=[0, 1.0]))\n",
    "p.set_val('traj.phase0.controls:u', np.sin(phase.interp('u', ys=[0, 1.0])))\n",
    "\n",
    "#\n",
    "# Solve for the optimal trajectory\n",
    "#\n",
    "dm.run_problem(p, run_driver=True, simulate=True, refine_method='ph', refine_iteration_limit=5)\n"
   ]
  },
  {
   "cell_type": "markdown",
   "id": "44f2e637",
   "metadata": {
    "id": "3f9a5d44"
   },
   "source": [
    "## Plotting the solution\n",
    "\n",
    "The recommended practice is to obtain values from the recorded cases.\n",
    "While the problem object can also be queried for values, building plotting scripts that use the case recorder files as the data source means that the problem doesn't need to be solved just to change a plot.\n",
    "Here we load values of various variables from the solution and simulation for use in the animation to follow."
   ]
  },
  {
   "cell_type": "code",
   "execution_count": null,
   "id": "ebbd4091",
   "metadata": {
    "id": "beea4c6a",
    "scrolled": true
   },
   "outputs": [],
   "source": [
    "sol = om.CaseReader('dymos_solution.db').get_case('final')\n",
    "sim = om.CaseReader('dymos_simulation.db').get_case('final')\n",
    "\n",
    "t = sol.get_val('traj.phase0.timeseries.time')\n",
    "x = sol.get_val('traj.phase0.timeseries.states:x')\n",
    "v = sol.get_val('traj.phase0.timeseries.states:v')\n",
    "u = sol.get_val('traj.phase0.timeseries.controls:u')\n",
    "h = np.sin(3 * x) / 3\n",
    "\n",
    "t_sim = sim.get_val('traj.phase0.timeseries.time')\n",
    "x_sim = sim.get_val('traj.phase0.timeseries.states:x')\n",
    "v_sim = sim.get_val('traj.phase0.timeseries.states:v')\n",
    "u_sim = sim.get_val('traj.phase0.timeseries.controls:u')\n",
    "h_sim = np.sin(3 * x_sim) / 3"
   ]
  },
  {
   "cell_type": "code",
   "execution_count": null,
   "id": "a616c209",
   "metadata": {
    "tags": [
     "remove-input",
     "remove-output"
    ]
   },
   "outputs": [],
   "source": [
    "from openmdao.utils.assert_utils import assert_near_equal\n",
    "\n",
    "assert_near_equal(t[-1, 0], 102.479, tolerance=1.0E-3)\n",
    "assert_near_equal(x[-1, 0], 0.5, tolerance=1.0E-3)"
   ]
  },
  {
   "cell_type": "markdown",
   "id": "dd0dff11",
   "metadata": {
    "id": "7b0a9304"
   },
   "source": [
    "## Animating the Solution\n",
    "\n",
    "The collapsed code cell below contains the code used to produce an animation of the mountain car solution using Matplotlib.\n",
    "\n",
    "The green area represents the hilly terrain the car is traversing.  The black circle is the center of the car, and the orange arrow is the applied control.\n",
    "\n",
    "The applied control _generally_ has the same sign as the velocity and is 'bang-bang', that is, it wants to be at its maximum possible magnitude.  Interestingly, the sign of the control flips shortly before the sign of the velocity changes."
   ]
  },
  {
   "cell_type": "code",
   "execution_count": null,
   "id": "cac45380",
   "metadata": {
    "colab": {
     "base_uri": "https://localhost:8080/",
     "height": 530
    },
    "id": "da31be29",
    "outputId": "f351fca0-6415-4469-8a42-dc035fe2bbc4",
    "scrolled": false,
    "tags": [
     "hide-input"
    ]
   },
   "outputs": [],
   "source": [
    "fig = plt.figure(constrained_layout=True, figsize=(12, 6))\n",
    "gs = fig.add_gridspec(3, 2)\n",
    "\n",
    "anim_ax = fig.add_subplot(gs[:, 0])\n",
    "anim_ax.set_aspect('equal')\n",
    "\n",
    "x_ax = fig.add_subplot(gs[0, 1:])\n",
    "v_ax = fig.add_subplot(gs[1, 1:])\n",
    "u_ax = fig.add_subplot(gs[2, 1:])\n",
    "\n",
    "x_ax.set_ylabel('x')\n",
    "v_ax.set_ylabel('v')\n",
    "u_ax.set_ylabel('u')\n",
    "u_ax.set_xlabel('t')\n",
    "\n",
    "# set up the subplots as needed\n",
    "anim_ax.set_xlim((-1.75, 0.75));          \n",
    "anim_ax.set_ylim((-1.25, 1.25));\n",
    "anim_ax.set_xlabel('x');\n",
    "anim_ax.set_ylabel('h');\n",
    "\n",
    "x_sol_line, = x_ax.plot(t, x, 'o', ms=1, label='solution')\n",
    "v_ax.plot(t, v, 'o', ms=1)\n",
    "u_ax.plot(t, u, 'o', ms=1)\n",
    "\n",
    "x_sim_line, = x_ax.plot([], [], '-', linewidth=3, label='simulation')\n",
    "v_sim_line, = v_ax.plot([], [], '-', linewidth=3)\n",
    "u_sim_line, = u_ax.plot([], [], '-', linewidth=3)\n",
    "\n",
    "plt.figlegend(ncol=2, handles=[x_sol_line, x_sim_line], loc='upper center',\n",
    "              bbox_to_anchor=(0.78,0.98))\n",
    "\n",
    "x_ax.grid(alpha=0.2)\n",
    "txt_x = x_ax.text(0.8, 0.1, f'x = {x_sim[0, 0]:6.3f}', horizontalalignment='left',\n",
    "                  verticalalignment='center', transform=x_ax.transAxes)\n",
    "\n",
    "v_ax.grid(alpha=0.2)\n",
    "txt_v = v_ax.text(0.8, 0.1, f'v = {v_sim[0, 0]:6.3f}', horizontalalignment='left',\n",
    "                  verticalalignment='center', transform=v_ax.transAxes)\n",
    "\n",
    "u_ax.grid(alpha=0.2)\n",
    "txt_u = u_ax.text(0.8, 0.1, f'u = {u_sim[0, 0]:6.3f}', horizontalalignment='left',\n",
    "                  verticalalignment='center', transform=u_ax.transAxes)\n",
    "\n",
    "x_terrain = np.linspace(-1.75, 0.75, 100);\n",
    "h_terrain = np.sin(3 * x_terrain) / 3;\n",
    "terrain_line, = anim_ax.plot(x_terrain, h_terrain, '-', color='tab:gray', lw=2);\n",
    "terrain = anim_ax.fill_between(x_terrain, h_terrain, -1.25*np.ones_like(x_terrain), color='tab:green');\n",
    "car, = anim_ax.plot([], [], 'ko', ms=12);\n",
    "u_vec = anim_ax.quiver(x_sim[0] + 0.005, h_sim[0] + 0.005, u_sim[0], [0], scale=10, angles='xy', color='tab:orange')\n",
    "\n",
    "# See https://brushingupscience.com/2019/08/01/elaborate-matplotlib-animations/ for quiver animation\n",
    "\n",
    "ANIM_DURATION = 5\n",
    "PAUSE_DURATION = 2\n",
    "ANIM_FPS = 20\n",
    "\n",
    "num_points = t_sim.size\n",
    "num_frames = ANIM_DURATION * ANIM_FPS\n",
    "pause_frames = PAUSE_DURATION * ANIM_FPS\n",
    "\n",
    "idx_from_frame_num = np.linspace(0, num_points-1, num_frames, dtype=int)\n",
    "\n",
    "def drawframe(n):\n",
    "\n",
    "    if n >= idx_from_frame_num.size:\n",
    "        idx = num_points - 1\n",
    "    else:\n",
    "        idx = idx_from_frame_num[n]\n",
    "\n",
    "    x = x_sim[idx]\n",
    "    v = v_sim[idx]\n",
    "    u = u_sim[idx]\n",
    "    t = t_sim[idx]\n",
    "    h = np.sin(3 * x) / 3 + 0.025\n",
    "    car.set_data(x, h)\n",
    "    \n",
    "    dh_dx = np.cos(3 * x)\n",
    "\n",
    "    u_vec.set_offsets(np.atleast_2d(np.asarray([x + 0.005, h + 0.005]).T))\n",
    "    u_vec.set_UVC(u * np.cos(dh_dx), u * np.sin(dh_dx))\n",
    "\n",
    "    x_sim_line.set_data(t_sim[:idx], x_sim[:idx])\n",
    "    v_sim_line.set_data(t_sim[:idx], v_sim[:idx])\n",
    "    u_sim_line.set_data(t_sim[:idx], u_sim[:idx])\n",
    "\n",
    "    txt_x.set_text(f'x = {x[0]:6.3f}')\n",
    "    txt_v.set_text(f'v = {v[0]:6.3f}')\n",
    "    txt_u.set_text(f'u = {u[0]:6.3f}')\n",
    "    \n",
    "    return car, u_vec, x_sim_line, v_sim_line, u_sim_line\n",
    "\n",
    "# # blit=True re-draws only the parts that have changed.\n",
    "# # repeat_delay has no effect when using to_jshtml, so pad drawframe to show the final frame for PAUSE_FRAMES extra frames.\n",
    "anim = animation.FuncAnimation(fig, drawframe, frames=num_frames + pause_frames, interval=1000/ANIM_FPS, blit=True);\n",
    "plt.close()  # Don't let jupyter display the un-animated plot\n",
    "\n",
    "from IPython.display import HTML\n",
    "js = anim.to_jshtml()\n",
    "with open('mountain_car_anim.html', 'w') as f:\n",
    "    print(js, file=f)\n",
    "HTML(filename='mountain_car_anim.html')"
   ]
  },
  {
   "cell_type": "markdown",
   "id": "a95475e9",
   "metadata": {},
   "source": [
    "## References\n",
    "\n",
    "```{bibliography}\n",
    ":filter: docname in docnames\n",
    "```"
   ]
  }
 ],
 "metadata": {
  "celltoolbar": "Tags",
  "colab": {
   "collapsed_sections": [],
   "name": "mountain_car.ipynb",
   "provenance": []
  },
  "kernelspec": {
   "display_name": "Python 3 (ipykernel)",
   "language": "python",
   "name": "python3"
  },
  "language_info": {
   "codemirror_mode": {
    "name": "ipython",
    "version": 3
   },
   "file_extension": ".py",
   "mimetype": "text/x-python",
   "name": "python",
   "nbconvert_exporter": "python",
   "pygments_lexer": "ipython3",
   "version": "3.9.7"
  }
 },
 "nbformat": 4,
 "nbformat_minor": 5
}
