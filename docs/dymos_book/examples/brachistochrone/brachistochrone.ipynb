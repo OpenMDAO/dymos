{
 "cells": [
  {
   "cell_type": "code",
   "execution_count": 1,
   "metadata": {
    "tags": [
     "active-ipynb",
     "remove-input",
     "remove-output"
    ]
   },
   "outputs": [],
   "source": [
    "# This cell is mandatory in all Dymos documentation notebooks.\n",
    "missing_packages = []\n",
    "try:\n",
    "    import openmdao.api as om\n",
    "except ImportError:\n",
    "    if 'google.colab' in str(get_ipython()):\n",
    "        !python -m pip install openmdao[notebooks]\n",
    "    else:\n",
    "        missing_packages.append('openmdao')\n",
    "try:\n",
    "    import dymos as dm\n",
    "except ImportError:\n",
    "    if 'google.colab' in str(get_ipython()):\n",
    "        !python -m pip install dymos\n",
    "    else:\n",
    "        missing_packages.append('dymos')\n",
    "try:\n",
    "    import pyoptsparse\n",
    "except ImportError:\n",
    "    if 'google.colab' in str(get_ipython()):\n",
    "        !pip install -q condacolab\n",
    "        import condacolab\n",
    "        condacolab.install_miniconda()\n",
    "        !conda install -c conda-forge pyoptsparse\n",
    "    else:\n",
    "        missing_packages.append('pyoptsparse')\n",
    "if missing_packages:\n",
    "    raise EnvironmentError('This notebook requires the following packages '\n",
    "                           'please install them and restart this notebook\\'s runtime: {\",\".join(missing_packages)}')"
   ]
  },
  {
   "cell_type": "markdown",
   "metadata": {},
   "source": [
    "(examples:the_brachistochrone)=\n",
    "# The Brachistochrone\n",
    "\n",
    "```{admonition} Things you'll learn through this example\n",
    "- How to define a basic Dymos ODE system.\n",
    "- How to test the partials of your ODE system.\n",
    "- Adding a Trajectory object with a single Phase to an OpenMDAO Problem.\n",
    "- Imposing boundary conditions on states with simple bounds via `fix_initial` and `fix_final`.\n",
    "- Using the Phase.interpolate` method to set a linear guess for state and control values across the Phase.\n",
    "- Checking the validity of the result through explicit simulation via the `Trajectory.simulate` method.\n",
    "```\n",
    "\n",
    "The brachistochrone is one of the most well-known optimal control problems.\n",
    "It was originally posed as a challenge by Johann Bernoulli.\n",
    "\n",
    "```{admonition} The brachistochrone problem\n",
    "_Given two points A and B in a vertical plane, find the path AMB\n",
    "down which a movable point M must by virtue of its weight fall from\n",
    "A to B in the shortest possible time._\n",
    "\n",
    "-  Johann Bernoulli, Acta Eruditorum, June 1696\n",
    "```\n",
    "\n",
    "We seek to find the optimal shape of a wire between two points (A and B) such that a bead sliding\n",
    "without friction along the wire moves from point A to point B in minimum time."
   ]
  },
  {
   "cell_type": "code",
   "execution_count": 2,
   "metadata": {
    "tags": [
     "remove-input"
    ]
   },
   "outputs": [
    {
     "data": {
      "image/png": "[encoded data removed]",
      "text/plain": [
       "<Figure size 500x500 with 1 Axes>"
      ]
     },
     "metadata": {},
     "output_type": "display_data"
    }
   ],
   "source": [
    "import numpy as np\n",
    "\n",
    "import matplotlib.pyplot as plt\n",
    "from matplotlib.patches import FancyArrowPatch, Arc\n",
    "\n",
    "LW = 2\n",
    "\n",
    "fig, ax = plt.subplots(1, 1, figsize=(5, 5))\n",
    "ax.axis('off')\n",
    "\n",
    "ax.set_xlim(-1, 11)\n",
    "ax.set_ylim(-1, 11)\n",
    "\n",
    "circle = plt.Circle((0, 10), radius=0.1, fc='k')\n",
    "ax.add_patch(circle)\n",
    "plt.text(0.2, 10.2, 'A')\n",
    "\n",
    "circle = plt.Circle((10, 5), radius=0.1, fc='k')\n",
    "ax.add_patch(circle)\n",
    "plt.text(10.2, 5.2, 'B')\n",
    "\n",
    "# Choose a to suite, compute b\n",
    "a = 0.1\n",
    "b = -0.5 - 10*a\n",
    "c = 10\n",
    "\n",
    "def y_wire(x):\n",
    "    return a*x**2 + b*x + c, 2*a*x + b\n",
    "\n",
    "x = np.linspace(0, 10, 100)\n",
    "y, _ = y_wire(x)\n",
    "plt.plot(x, y, 'b-')\n",
    "\n",
    "# Add the bead to the wire\n",
    "x = 3\n",
    "y, dy_dx = y_wire(x)\n",
    "plt.plot(x, y, 'ro', ms=10)\n",
    "\n",
    "# Draw and label the gravity vector\n",
    "gvec = FancyArrowPatch((x, y), (x, y-2), arrowstyle='->', mutation_scale=10, linewidth=LW, color='k')\n",
    "lv_line = plt.Line2D((x, x), (y, y-2), visible=False)  # Local vertical\n",
    "ax.add_patch(gvec)\n",
    "plt.text(x - 0.5, y-1, 'g')\n",
    "\n",
    "# Draw and label the velocity vector\n",
    "dx = 2\n",
    "dy = dy_dx * dx\n",
    "vvec = FancyArrowPatch((x, y), (x+dx, y+dy), arrowstyle='->', mutation_scale=10, linewidth=LW, color='k')\n",
    "ax.add_patch(vvec)\n",
    "plt.text(x+dx-0.25, y+dy-0.25, 'v')\n",
    "\n",
    "# Draw angle theta\n",
    "vvec_line = plt.Line2D((x, x+dx), (y, y+dy), visible=False)\n",
    "# angle_plot = get_angle_plot(lv_line, vvec_line, color='k', origin=(x, y), radius=3)\n",
    "# ax.add_patch(angle_plot)\n",
    "ax.text(x+0.25, y-1.25, r'$\\theta$')\n",
    "\n",
    "# Draw the axes\n",
    "x = 0\n",
    "y = 2\n",
    "dx = 5\n",
    "dy = 0\n",
    "xhat = FancyArrowPatch((x, y), (x+dx, y+dy), arrowstyle='->', mutation_scale=10, linewidth=LW, color='k')\n",
    "ax.add_patch(xhat)\n",
    "plt.text(x+dx/2.0-0.5, y+dy/2.0-0.5, 'x')\n",
    "\n",
    "dx = 0\n",
    "dy = 5\n",
    "yhat = FancyArrowPatch((x, y), (x+dx, y+dy), arrowstyle='->', mutation_scale=10, linewidth=LW, color='k')\n",
    "ax.add_patch(yhat)\n",
    "plt.text(x+dx/2.0-0.5, y+dy/2.0-0.5, 'y')\n",
    "\n",
    "plt.ylim(1, 11)\n",
    "plt.xlim(-0.5, 10.5)\n",
    "\n",
    "plt.savefig('brachistochrone_fbd.png')\n",
    "\n",
    "plt.show()"
   ]
  },
  {
   "cell_type": "markdown",
   "metadata": {},
   "source": [
    "## State variables\n",
    "\n",
    "In this implementation, three _state_ variables are used to define the configuration of the system at any given instant in time.\n",
    "\n",
    "- **x**: The horizontal position of the particle at an instant in time.\n",
    "- **y**: The vertical position of the particle at an instant in time.\n",
    "- **v**: The speed of the particle at an instant in time.\n",
    "\n",
    "## System dynamics\n",
    "\n",
    "From the free-body diagram above, the evolution of the state variables is given by the following ordinary differential equations (ODE).\n",
    "\n",
    "\\begin{align}\n",
    "    \\frac{d x}{d t} &= v \\sin(\\theta) \\\\\n",
    "    \\frac{d y}{d t} &= -v \\cos(\\theta) \\\\\n",
    "    \\frac{d v}{d t} &= g \\cos(\\theta)\n",
    "\\end{align}\n",
    "\n",
    "## Control variables\n",
    "\n",
    "This system has a single control variable.\n",
    "\n",
    "- **$\\theta$**: The angle between the gravity vector and the tangent to the curve at the current instant in time.\n",
    "\n",
    "## The initial and final conditions\n",
    "\n",
    "In this case, starting point **A** is given as _(0, 10)_.\n",
    "The point moving along the curve will begin there with zero initial velocity.\n",
    "\n",
    "The initial conditions are:\n",
    "\n",
    "\\begin{align}\n",
    "    x_0 &= 0 \\\\\n",
    "    y_0 &= 10 \\\\\n",
    "    v_0 &= 0\n",
    "\\end{align}\n",
    "\n",
    "The end point **B** is given as _(10, 5)_.\n",
    "The point will end there, but the velocity at that point is not constrained.\n",
    "\n",
    "The final conditions are:\n",
    "\n",
    "\\begin{align}\n",
    "    x_f &= 10 \\\\\n",
    "    y_f &= 5 \\\\\n",
    "    v_f &= \\mathrm{free}\n",
    "\\end{align}\n",
    "\n",
    "## Defining the ODE as an OpenMDAO System\n",
    "\n",
    "In Dymos, the ODE is an OpenMDAO System (a Component, or a Group of components).\n",
    "The following ExplicitComponent computes the state rates for the brachistochrone problem.\n",
    "\n",
    "More detail on the workings of an ExplicitComponent can be found in the OpenMDAO documentation.  In summary:\n",
    "\n",
    "- **initialize**:  Called at setup, and used to define options for the component.  **ALL** Dymos ODE components should have the property `num_nodes`, which defines the number of points at which the outputs are simultaneously computed.\n",
    "- **setup**: Used to add inputs and outputs to the component, and declare which outputs (and indices of outputs) are dependent on each of the inputs.\n",
    "- **compute**: Used to compute the outputs, given the inputs.\n",
    "- **compute_partials**: Used to compute the derivatives of the outputs w.r.t. each of the inputs analytically.  This method may be omitted if finite difference or complex-step approximations are used, though analytic is recommended."
   ]
  },
  {
   "cell_type": "code",
   "execution_count": 3,
   "metadata": {},
   "outputs": [],
   "source": [
    "import numpy as np\n",
    "import openmdao.api as om\n",
    "\n",
    "\n",
    "class BrachistochroneODE(om.ExplicitComponent):\n",
    "\n",
    "    def initialize(self):\n",
    "        self.options.declare('num_nodes', types=int)\n",
    "        self.options.declare('static_gravity', types=(bool,), default=False,\n",
    "                             desc='If True, treat gravity as a static (scalar) input, rather than '\n",
    "                                  'having different values at each node.')\n",
    "\n",
    "    def setup(self):\n",
    "        nn = self.options['num_nodes']\n",
    "\n",
    "        # Inputs\n",
    "        self.add_input('v', val=np.zeros(nn), desc='velocity', units='m/s')\n",
    "\n",
    "        if self.options['static_gravity']:\n",
    "            self.add_input('g', val=9.80665, desc='grav. acceleration', units='m/s/s',\n",
    "                           tags=['dymos.static_target'])\n",
    "        else:\n",
    "            self.add_input('g', val=9.80665 * np.ones(nn), desc='grav. acceleration', units='m/s/s')\n",
    "\n",
    "        self.add_input('theta', val=np.ones(nn), desc='angle of wire', units='rad')\n",
    "\n",
    "        self.add_output('xdot', val=np.zeros(nn), desc='velocity component in x', units='m/s',\n",
    "                        tags=['dymos.state_rate_source:x', 'dymos.state_units:m'])\n",
    "\n",
    "        self.add_output('ydot', val=np.zeros(nn), desc='velocity component in y', units='m/s',\n",
    "                        tags=['dymos.state_rate_source:y', 'dymos.state_units:m'])\n",
    "\n",
    "        self.add_output('vdot', val=np.zeros(nn), desc='acceleration magnitude', units='m/s**2',\n",
    "                        tags=['dymos.state_rate_source:v', 'dymos.state_units:m/s'])\n",
    "\n",
    "        self.add_output('check', val=np.zeros(nn), desc='check solution: v/sin(theta) = constant',\n",
    "                        units='m/s')\n",
    "\n",
    "        # Setup partials\n",
    "        arange = np.arange(self.options['num_nodes'])\n",
    "        self.declare_partials(of='vdot', wrt='theta', rows=arange, cols=arange)\n",
    "\n",
    "        self.declare_partials(of='xdot', wrt='v', rows=arange, cols=arange)\n",
    "        self.declare_partials(of='xdot', wrt='theta', rows=arange, cols=arange)\n",
    "\n",
    "        self.declare_partials(of='ydot', wrt='v', rows=arange, cols=arange)\n",
    "        self.declare_partials(of='ydot', wrt='theta', rows=arange, cols=arange)\n",
    "\n",
    "        self.declare_partials(of='check', wrt='v', rows=arange, cols=arange)\n",
    "        self.declare_partials(of='check', wrt='theta', rows=arange, cols=arange)\n",
    "\n",
    "        if self.options['static_gravity']:\n",
    "            c = np.zeros(self.options['num_nodes'])\n",
    "            self.declare_partials(of='vdot', wrt='g', rows=arange, cols=c)\n",
    "        else:\n",
    "            self.declare_partials(of='vdot', wrt='g', rows=arange, cols=arange)\n",
    "\n",
    "    def compute(self, inputs, outputs):\n",
    "        theta = inputs['theta']\n",
    "        cos_theta = np.cos(theta)\n",
    "        sin_theta = np.sin(theta)\n",
    "        g = inputs['g']\n",
    "        v = inputs['v']\n",
    "\n",
    "        outputs['vdot'] = g * cos_theta\n",
    "        outputs['xdot'] = v * sin_theta\n",
    "        outputs['ydot'] = -v * cos_theta\n",
    "        outputs['check'] = v / sin_theta\n",
    "\n",
    "    def compute_partials(self, inputs, partials):\n",
    "        theta = inputs['theta']\n",
    "        cos_theta = np.cos(theta)\n",
    "        sin_theta = np.sin(theta)\n",
    "        g = inputs['g']\n",
    "        v = inputs['v']\n",
    "\n",
    "        partials['vdot', 'g'] = cos_theta\n",
    "        partials['vdot', 'theta'] = -g * sin_theta\n",
    "\n",
    "        partials['xdot', 'v'] = sin_theta\n",
    "        partials['xdot', 'theta'] = v * cos_theta\n",
    "\n",
    "        partials['ydot', 'v'] = -cos_theta\n",
    "        partials['ydot', 'theta'] = v * sin_theta\n",
    "\n",
    "        partials['check', 'v'] = 1 / sin_theta\n",
    "        partials['check', 'theta'] = -v * cos_theta / sin_theta ** 2"
   ]
  },
  {
   "cell_type": "markdown",
   "metadata": {},
   "source": [
    "```{admonition} \"Things to note about the ODE system\"\n",
    "- There is no input for the position states ($x$ and $y$).  The dynamics aren't functions of these states, so they aren't needed as inputs.\n",
    "- While $g$ is an input to the system, since it will never change throughout the trajectory, it can be an option on the system.  This way we don't have to define any partials w.r.t. $g$.\n",
    "- The output `check` is an _auxiliary_ output, not a rate of the state variables.  In this case, optimal control theory tells us that `check` should be constant throughout the trajectory, so it's a useful output from the ODE.\n",
    "```\n",
    "\n",
    "## Testing the ODE\n",
    "\n",
    "Now that the ODE system is defined, it is strongly recommended to test the analytic partials before using it in optimization.\n",
    "If the partials are incorrect, then the optimization will almost certainly fail.\n",
    "Fortunately, OpenMDAO makes testing derivatives easy with the `check_partials` method.\n",
    "The `assert_check_partials` method in `openmdao.utils.assert_utils` can be used in test frameworks to verify the correctness of the partial derivatives in a model.\n",
    "\n",
    "The following is a test method which creates a new OpenMDAO problem whose model contains the ODE class.\n",
    "The problem is setup with the `force_alloc_complex=True` argument to enable complex-step approximation of the derivatives.\n",
    "Complex step typically produces derivative approximations with an error on the order of 1.0E-16, as opposed to ~1.0E-6 for forward finite difference approximations."
   ]
  },
  {
   "cell_type": "code",
   "execution_count": 4,
   "metadata": {},
   "outputs": [
    {
     "name": "stdout",
     "output_type": "stream",
     "text": [
      "-----------------------------------\n",
      "Component: BrachistochroneODE 'ode'\n",
      "-----------------------------------\n",
      "\n",
      "'<output>' wrt '<variable>' | calc mag.  | check mag. | a(cal-chk) | r(cal-chk)\n",
      "-------------------------------------------------------------------------------\n",
      "\n",
      "'check'    wrt 'g'          | 0.0000e+00 | 0.0000e+00 | 0.0000e+00 | nan\n",
      "'check'    wrt 'theta'      | 6.1597e+02 | 6.1597e+02 | 2.2917e-13 | 3.7205e-16\n",
      "'check'    wrt 'v'          | 1.0249e+01 | 1.0249e+01 | 1.0175e-15 | 9.9280e-17\n",
      "'vdot'     wrt 'g'          | 1.9315e+00 | 1.9315e+00 | 1.6653e-16 | 8.6221e-17\n",
      "'vdot'     wrt 'theta'      | 1.1049e+01 | 1.1049e+01 | 0.0000e+00 | 0.0000e+00\n",
      "'vdot'     wrt 'v'          | 0.0000e+00 | 0.0000e+00 | 0.0000e+00 | nan\n",
      "'xdot'     wrt 'g'          | 0.0000e+00 | 0.0000e+00 | 0.0000e+00 | nan\n",
      "'xdot'     wrt 'theta'      | 1.5786e+01 | 1.5786e+01 | 2.0351e-15 | 1.2891e-16\n",
      "'xdot'     wrt 'v'          | 1.1267e+00 | 1.1267e+00 | 1.2490e-16 | 1.1086e-16\n",
      "'ydot'     wrt 'g'          | 0.0000e+00 | 0.0000e+00 | 0.0000e+00 | nan\n",
      "'ydot'     wrt 'theta'      | 9.8555e+00 | 9.8555e+00 | 1.8310e-15 | 1.8579e-16\n",
      "'ydot'     wrt 'v'          | 1.9315e+00 | 1.9315e+00 | 1.6653e-16 | 8.6221e-17\n",
      "\n",
      "##################################################################\n",
      "Sub Jacobian with Largest Relative Error: BrachistochroneODE 'ode'\n",
      "##################################################################\n",
      "\n",
      "'<output>' wrt '<variable>' | calc mag.  | check mag. | a(cal-chk) | r(cal-chk)\n",
      "-------------------------------------------------------------------------------\n",
      "'check'    wrt 'theta'      | 6.1597e+02 | 6.1597e+02 | 2.2917e-13 | 3.7205e-16\n"
     ]
    }
   ],
   "source": [
    "import numpy as np\n",
    "import openmdao.api as om\n",
    "\n",
    "num_nodes = 5\n",
    "\n",
    "p = om.Problem(model=om.Group())\n",
    "\n",
    "ivc = p.model.add_subsystem('vars', om.IndepVarComp())\n",
    "ivc.add_output('v', shape=(num_nodes,), units='m/s')\n",
    "ivc.add_output('theta', shape=(num_nodes,), units='deg')\n",
    "\n",
    "p.model.add_subsystem('ode', BrachistochroneODE(num_nodes=num_nodes))\n",
    "\n",
    "p.model.connect('vars.v', 'ode.v')\n",
    "p.model.connect('vars.theta', 'ode.theta')\n",
    "\n",
    "p.setup(force_alloc_complex=True)\n",
    "\n",
    "p.set_val('vars.v', 10*np.random.random(num_nodes))\n",
    "p.set_val('vars.theta', 10*np.random.uniform(1, 179, num_nodes))\n",
    "\n",
    "p.run_model()\n",
    "cpd = p.check_partials(method='cs', compact_print=True)"
   ]
  },
  {
   "cell_type": "code",
   "execution_count": 5,
   "metadata": {
    "tags": [
     "remove-input",
     "remove-output"
    ]
   },
   "outputs": [],
   "source": [
    "from dymos.utils.testing_utils import assert_check_partials\n",
    "\n",
    "assert_check_partials(cpd)"
   ]
  },
  {
   "cell_type": "markdown",
   "metadata": {},
   "source": [
    "## Solving the problem with Legendre-Gauss-Lobatto collocation in Dymos\n",
    "\n",
    "The following script fully defines the brachistochrone problem with Dymos and solves it.  In this section we'll walk through each step."
   ]
  },
  {
   "cell_type": "code",
   "execution_count": 6,
   "metadata": {},
   "outputs": [
    {
     "name": "stdout",
     "output_type": "stream",
     "text": [
      "\n",
      "--- Constraint Report [traj] ---\n",
      "    --- phase0 ---\n",
      "        None\n",
      "\n",
      "Model viewer data has already been recorded for Driver.\n",
      "Full total jacobian was computed 3 times, taking 0.016332 seconds.\n",
      "Total jacobian shape: (40, 50) \n",
      "\n",
      "\n",
      "Jacobian shape: (40, 50)  (19.85% nonzero)\n",
      "FWD solves: 13   REV solves: 0\n",
      "Total colors vs. total size: 13 vs 50  (74.0% improvement)\n",
      "\n",
      "Sparsity computed using tolerance: 1e-25\n",
      "Time to compute sparsity: 0.016332 sec.\n",
      "Time to compute coloring: 0.015255 sec.\n",
      "Memory to compute coloring: 0.203125 MB.\n",
      "Optimization terminated successfully    (Exit mode 0)\n",
      "            Current function value: 18.016167304638337\n",
      "            Iterations: 24\n",
      "            Function evaluations: 24\n",
      "            Gradient evaluations: 24\n",
      "Optimization Complete\n",
      "-----------------------------------\n",
      "[1.80161673]\n"
     ]
    }
   ],
   "source": [
    "import openmdao.api as om\n",
    "import dymos as dm\n",
    "from dymos.examples.plotting import plot_results\n",
    "from dymos.examples.brachistochrone import BrachistochroneODE\n",
    "import matplotlib.pyplot as plt\n",
    "\n",
    "#\n",
    "# Initialize the Problem and the optimization driver\n",
    "#\n",
    "p = om.Problem(model=om.Group())\n",
    "p.driver = om.ScipyOptimizeDriver()\n",
    "p.driver.declare_coloring()\n",
    "\n",
    "#\n",
    "# Create a trajectory and add a phase to it\n",
    "#\n",
    "traj = p.model.add_subsystem('traj', dm.Trajectory())\n",
    "\n",
    "phase = traj.add_phase('phase0',\n",
    "                       dm.Phase(ode_class=BrachistochroneODE,\n",
    "                                transcription=dm.GaussLobatto(num_segments=10)))\n",
    "\n",
    "#\n",
    "# Set the variables\n",
    "#\n",
    "phase.set_time_options(fix_initial=True, duration_bounds=(.5, 10))\n",
    "\n",
    "phase.add_state('x', fix_initial=True, fix_final=True)\n",
    "\n",
    "phase.add_state('y', fix_initial=True, fix_final=True)\n",
    "\n",
    "phase.add_state('v', fix_initial=True, fix_final=False)\n",
    "\n",
    "phase.add_control('theta', continuity=True, rate_continuity=True,\n",
    "                  units='deg', lower=0.01, upper=179.9)\n",
    "\n",
    "phase.add_parameter('g', units='m/s**2', val=9.80665)\n",
    "\n",
    "#\n",
    "# Minimize time at the end of the phase\n",
    "#\n",
    "phase.add_objective('time', loc='final', scaler=10)\n",
    "\n",
    "p.model.linear_solver = om.DirectSolver()\n",
    "\n",
    "#\n",
    "# Setup the Problem\n",
    "#\n",
    "p.setup()\n",
    "\n",
    "#\n",
    "# Set the initial values\n",
    "#\n",
    "p['traj.phase0.t_initial'] = 0.0\n",
    "p['traj.phase0.t_duration'] = 2.0\n",
    "\n",
    "p.set_val('traj.phase0.states:x', phase.interp('x', ys=[0, 10]))\n",
    "p.set_val('traj.phase0.states:y', phase.interp('y', ys=[10, 5]))\n",
    "p.set_val('traj.phase0.states:v', phase.interp('v', ys=[0, 9.9]))\n",
    "p.set_val('traj.phase0.controls:theta', phase.interp('theta', ys=[5, 100.5]))\n",
    "\n",
    "#\n",
    "# Solve for the optimal trajectory\n",
    "#\n",
    "dm.run_problem(p)\n",
    "\n",
    "# Check the results\n",
    "print(p.get_val('traj.phase0.timeseries.time')[-1])"
   ]
  },
  {
   "cell_type": "code",
   "execution_count": 7,
   "metadata": {
    "tags": [
     "remove-input",
     "remove-output"
    ]
   },
   "outputs": [
    {
     "data": {
      "text/plain": [
       "9.286447509678318e-06"
      ]
     },
     "execution_count": 7,
     "metadata": {},
     "output_type": "execute_result"
    }
   ],
   "source": [
    "from openmdao.utils.assert_utils import assert_near_equal\n",
    "\n",
    "assert_near_equal(p.get_val('traj.phase0.timeseries.time')[-1], 1.8016, tolerance=1.0E-3)"
   ]
  },
  {
   "cell_type": "code",
   "execution_count": 8,
   "metadata": {
    "scrolled": true
   },
   "outputs": [
    {
     "name": "stdout",
     "output_type": "stream",
     "text": [
      "\n",
      "Simulating trajectory traj\n",
      "Done simulating trajectory traj\n"
     ]
    },
    {
     "data": {
      "image/png": "[encoded data removed]",
      "text/plain": [
       "<Figure size 1000x800 with 2 Axes>"
      ]
     },
     "metadata": {},
     "output_type": "display_data"
    }
   ],
   "source": [
    "# Generate the explicitly simulated trajectory\n",
    "exp_out = traj.simulate()\n",
    "\n",
    "plot_results([('traj.phase0.timeseries.states:x', 'traj.phase0.timeseries.states:y',\n",
    "               'x (m)', 'y (m)'),\n",
    "              ('traj.phase0.timeseries.time', 'traj.phase0.timeseries.controls:theta',\n",
    "               'time (s)', 'theta (deg)')],\n",
    "             title='Brachistochrone Solution\\nHigh-Order Gauss-Lobatto Method',\n",
    "             p_sol=p, p_sim=exp_out)\n",
    "\n",
    "plt.show()"
   ]
  },
  {
   "cell_type": "markdown",
   "metadata": {},
   "source": [
    "(examples:brachistochrone:explicit_shooting)=\n",
    "## Solving the problem with single shooting in Dymos\n",
    "\n",
    "The following script fully defines the brachistochrone problem with Dymos and solves it using a single explicit shooting method.\n",
    "\n",
    "The code is nearly identical to that using the collocation approach.\n",
    "Key differences are shown when defining the transcription, specifying how to constrain the final state values of `x` and `y` states, and providing initial guesses for all states.\n",
    "\n",
    "The ExplicitShooting transcription may accept two different `Grid` objects: the `input_grid` dictates where the controls are defined, and the `output_grid` dictates where path constraints are evaluated and where outputs are provided in the phase timeseries. If not provided, `output_grid` will be the same as the `input_grid`."
   ]
  },
  {
   "cell_type": "code",
   "execution_count": 14,
   "metadata": {
    "scrolled": true
   },
   "outputs": [
    {
     "name": "stdout",
     "output_type": "stream",
     "text": [
      "\n",
      "--- Constraint Report [traj] ---\n",
      "    --- phase0 ---\n",
      "        [final]   1.0000e+01 == x [m]\n",
      "        [final]   5.0000e+00 == y [m]\n",
      "\n",
      "Model viewer data has already been recorded for Driver.\n",
      "Full total jacobian was computed 3 times, taking 0.003891 seconds.\n",
      "Total jacobian shape: (12, 21) \n",
      "\n",
      "\n",
      "Jacobian shape: (12, 21)  (100.00% nonzero)\n",
      "FWD solves: 0   REV solves: 12\n",
      "Total colors vs. total size: 12 vs 12  (0.0% improvement)\n",
      "\n",
      "Sparsity computed using tolerance: 1e-25\n",
      "Time to compute sparsity: 0.003891 sec.\n",
      "Time to compute coloring: 0.005441 sec.\n",
      "Memory to compute coloring: 0.046875 MB.\n",
      "Full total jacobian was computed 3 times, taking 0.003721 seconds.\n",
      "Total jacobian shape: (12, 21) \n",
      "\n",
      "\n",
      "Jacobian shape: (12, 21)  (100.00% nonzero)\n",
      "FWD solves: 0   REV solves: 12\n",
      "Total colors vs. total size: 12 vs 12  (0.0% improvement)\n",
      "\n",
      "Sparsity computed using tolerance: 1e-25\n",
      "Time to compute sparsity: 0.003721 sec.\n",
      "Time to compute coloring: 0.005125 sec.\n",
      "Memory to compute coloring: 0.015625 MB.\n"
     ]
    },
    {
     "name": "stderr",
     "output_type": "stream",
     "text": [
      "/Users/rfalck/Codes/OpenMDAO.git/openmdao/core/driver.py:1301: DerivativesWarning:ScipyOptimizeDriver: Coloring was deactivated.  Improvement of 0.0% was less than min allowed (5.0%).\n",
      "/Users/rfalck/Codes/OpenMDAO.git/openmdao/core/driver.py:1301: DerivativesWarning:ScipyOptimizeDriver: Coloring was deactivated.  Improvement of 0.0% was less than min allowed (5.0%).\n"
     ]
    },
    {
     "name": "stdout",
     "output_type": "stream",
     "text": [
      "Optimization terminated successfully    (Exit mode 0)\n",
      "            Current function value: 18.016031060111104\n",
      "            Iterations: 11\n",
      "            Function evaluations: 12\n",
      "            Gradient evaluations: 11\n",
      "Optimization Complete\n",
      "-----------------------------------\n",
      "[1.80160311]\n"
     ]
    },
    {
     "name": "stderr",
     "output_type": "stream",
     "text": [
      "/Users/rfalck/Codes/OpenMDAO.git/openmdao/visualization/opt_report/opt_report.py:639: UserWarning: Attempting to set identical low and high ylims makes transformation singular; automatically expanding.\n",
      "  ax.set_ylim([ymin_plot, ymax_plot])\n"
     ]
    }
   ],
   "source": [
    "import openmdao.api as om\n",
    "import dymos as dm\n",
    "from dymos.examples.plotting import plot_results\n",
    "from dymos.examples.brachistochrone import BrachistochroneODE\n",
    "import matplotlib.pyplot as plt\n",
    "\n",
    "#\n",
    "# Initialize the Problem and the optimization driver\n",
    "#\n",
    "p = om.Problem(model=om.Group())\n",
    "p.driver = om.ScipyOptimizeDriver()\n",
    "\n",
    "# We'll try to use coloring, but OpenMDAO will tell us that it provides no benefit.\n",
    "p.driver.declare_coloring()\n",
    "\n",
    "#\n",
    "# Create a trajectory and add a phase to it\n",
    "#\n",
    "traj = p.model.add_subsystem('traj', dm.Trajectory())\n",
    "\n",
    "input_grid = dm.GaussLobattoGrid(num_segments=10, nodes_per_seg=3)\n",
    "\n",
    "phase = traj.add_phase('phase0',\n",
    "                       dm.Phase(ode_class=BrachistochroneODE,\n",
    "                                transcription=dm.ExplicitShooting(input_grid=input_grid)))\n",
    "\n",
    "#\n",
    "# Set the variables\n",
    "#\n",
    "phase.set_time_options(fix_initial=True, duration_bounds=(.5, 10))\n",
    "\n",
    "# Note, we cannot use fix_final=True with the shooting method\n",
    "# because the final value of the states are \n",
    "# not design variables in the transcribed optimization problem.\n",
    "phase.add_state('x', fix_initial=True)\n",
    "\n",
    "phase.add_state('y', fix_initial=True)\n",
    "\n",
    "phase.add_state('v', fix_initial=True)\n",
    "\n",
    "phase.add_control('theta', continuity=True, rate_continuity=True,\n",
    "                  units='deg', lower=0.01, upper=179.9)\n",
    "\n",
    "phase.add_parameter('g', units='m/s**2', val=9.80665)\n",
    "\n",
    "#\n",
    "# Minimize time at the end of the phase\n",
    "#\n",
    "phase.add_objective('time', loc='final', scaler=10)\n",
    "\n",
    "#\n",
    "# Add boundary constraints for x and y since we could not use `fix_final=True` \n",
    "#\n",
    "phase.add_boundary_constraint('x', loc='final', equals=10)\n",
    "phase.add_boundary_constraint('y', loc='final', equals=5)\n",
    "\n",
    "p.model.linear_solver = om.DirectSolver()\n",
    "\n",
    "#\n",
    "# Setup the Problem\n",
    "#\n",
    "p.setup()\n",
    "\n",
    "#\n",
    "# Set the initial values\n",
    "#\n",
    "p['traj.phase0.t_initial'] = 0.0\n",
    "p['traj.phase0.t_duration'] = 2.0\n",
    "\n",
    "# Only the initial values of the states are design variables,\n",
    "# so the phase interp method is not used on states.\n",
    "p.set_val('traj.phase0.states:x', 0.0)\n",
    "p.set_val('traj.phase0.states:y', 10.0)\n",
    "p.set_val('traj.phase0.states:v', 0.0)\n",
    "p.set_val('traj.phase0.controls:theta', phase.interp('theta', ys=[5, 100.5]))\n",
    "\n",
    "#\n",
    "# Solve for the optimal trajectory\n",
    "#\n",
    "dm.run_problem(p)\n",
    "\n",
    "# Check the results\n",
    "print(p.get_val('traj.phase0.timeseries.time')[-1])"
   ]
  },
  {
   "cell_type": "code",
   "execution_count": 15,
   "metadata": {
    "tags": [
     "remove-input",
     "remove-output"
    ]
   },
   "outputs": [
    {
     "data": {
      "text/plain": [
       "1.7240292573755506e-06"
      ]
     },
     "execution_count": 15,
     "metadata": {},
     "output_type": "execute_result"
    }
   ],
   "source": [
    "assert_near_equal(p.get_val('traj.phase0.timeseries.time')[-1], 1.8016, tolerance=1.0E-3)"
   ]
  },
  {
   "cell_type": "code",
   "execution_count": 17,
   "metadata": {
    "scrolled": true
   },
   "outputs": [
    {
     "data": {
      "image/png": "[encoded data removed]",
      "text/plain": [
       "<Figure size 1000x800 with 2 Axes>"
      ]
     },
     "metadata": {},
     "output_type": "display_data"
    }
   ],
   "source": [
    "plot_results([('traj.phase0.timeseries.states:x', 'traj.phase0.timeseries.states:y',\n",
    "               'x (m)', 'y (m)'),\n",
    "              ('traj.phase0.timeseries.time', 'traj.phase0.timeseries.controls:theta',\n",
    "               'time (s)', 'theta (deg)')],\n",
    "             title='Brachistochrone Solution\\nExplicit Shooting Method',\n",
    "             p_sol=p)\n",
    "\n",
    "plt.show()"
   ]
  },
  {
   "cell_type": "code",
   "execution_count": null,
   "metadata": {},
   "outputs": [],
   "source": []
  },
  {
   "cell_type": "code",
   "execution_count": null,
   "metadata": {},
   "outputs": [],
   "source": []
  }
 ],
 "metadata": {
  "celltoolbar": "Tags",
  "kernelspec": {
   "display_name": "Python 3 (ipykernel)",
   "language": "python",
   "name": "python3"
  },
  "language_info": {
   "codemirror_mode": {
    "name": "ipython",
    "version": 3
   },
   "file_extension": ".py",
   "mimetype": "text/x-python",
   "name": "python",
   "nbconvert_exporter": "python",
   "pygments_lexer": "ipython3",
   "version": "3.11.0"
  }
 },
 "nbformat": 4,
 "nbformat_minor": 4
}
