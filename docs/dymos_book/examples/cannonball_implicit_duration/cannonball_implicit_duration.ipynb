{
 "cells": [
  {
   "cell_type": "code",
   "execution_count": null,
   "metadata": {
    "scrolled": true,
    "tags": [
     "active-ipynb",
     "remove-input",
     "remove-output"
    ]
   },
   "outputs": [],
   "source": [
    "# This cell is mandatory in all Dymos documentation notebooks.\n",
    "missing_packages = []\n",
    "try:\n",
    "    import openmdao.api as om\n",
    "except ImportError:\n",
    "    if 'google.colab' in str(get_ipython()):\n",
    "        !python -m pip install openmdao[notebooks]\n",
    "    else:\n",
    "        missing_packages.append('openmdao')\n",
    "try:\n",
    "    import dymos as dm\n",
    "except ImportError:\n",
    "    if 'google.colab' in str(get_ipython()):\n",
    "        !python -m pip install dymos\n",
    "    else:\n",
    "        missing_packages.append('dymos')\n",
    "try:\n",
    "    import pyoptsparse\n",
    "except ImportError:\n",
    "    if 'google.colab' in str(get_ipython()):\n",
    "        !pip install -q condacolab\n",
    "        import condacolab\n",
    "        condacolab.install_miniconda()\n",
    "        !conda install -c conda-forge pyoptsparse\n",
    "    else:\n",
    "        missing_packages.append('pyoptsparse')\n",
    "if missing_packages:\n",
    "    raise EnvironmentError('This notebook requires the following packages '\n",
    "                           'please install them and restart this notebook\\'s runtime: {\",\".join(missing_packages)}')"
   ]
  },
  {
   "cell_type": "markdown",
   "metadata": {},
   "source": [
    "# Cannonball Implicit Duration\n",
    "\n",
    "This example demonstrates determining the duration of a phase using a \n",
    "nonlinear solver to satisfy an endpoint condition. As in the multi-phase\n",
    "cannonball problem, we will simultaneously find the optimal design for \n",
    "the cannonball (its radius) and the optimal flight profile (its launch\n",
    "angle). However, here we will use a single phase that terminates at the\n",
    "condition\n",
    "\n",
    "\\begin{align}\n",
    "    h(t_f) = 0\n",
    "\\end{align}\n"
   ]
  },
  {
   "cell_type": "markdown",
   "metadata": {},
   "source": [
    "## The cannonball sizing component\n",
    "\n",
    "This component computes the area (needed to compute drag) and mass (needed to compute energy) of a cannonball of a given radius and density.\n",
    "\n",
    "This component sits upstream of the trajectory model and feeds its outputs to the trajectory as parameters."
   ]
  },
  {
    "cell_type": "code",
    "execution_count": null,
    "metadata": {
     "tags": [
      "active-ipynb",
      "remove-input",
      "remove-output"
     ]
    },
    "outputs": [],
    "source": [
     "%matplotlib inline"
    ]
  },
  {
   "cell_type": "code",
   "execution_count": null,
   "metadata": {
    "scrolled": true,
    "tags": [
     "output_scroll"
    ]
   },
   "outputs": [],
   "source": [
    "import numpy as np\n",
    "from scipy.interpolate import interp1d\n",
    "import matplotlib.pyplot as plt\n",
    "\n",
    "import openmdao.api as om\n",
    "\n",
    "import dymos as dm\n",
    "from dymos.models.atmosphere.atmos_1976 import USatm1976Data\n",
    "\n",
    "#############################################\n",
    "# Component for the design part of the model\n",
    "#############################################\n",
    "class CannonballSizeComp(om.ExplicitComponent):\n",
    "    \"\"\"\n",
    "    Compute the area and mass of a cannonball with a given radius and density.\n",
    "\n",
    "    Notes\n",
    "    -----\n",
    "    This component is not vectorized with 'num_nodes' as is the usual way\n",
    "    with Dymos, but is instead intended to compute a scalar mass and reference\n",
    "    area from scalar radius and density inputs. This component does not reside\n",
    "    in the ODE but instead its outputs are connected to the trajectory via\n",
    "    input design parameters.\n",
    "    \"\"\"\n",
    "    def setup(self):\n",
    "        self.add_input(name='radius', val=1.0, desc='cannonball radius', units='m')\n",
    "        self.add_input(name='dens', val=7870., desc='cannonball density', units='kg/m**3')\n",
    "\n",
    "        self.add_output(name='mass', shape=(1,), desc='cannonball mass', units='kg')\n",
    "        self.add_output(name='S', shape=(1,), desc='aerodynamic reference area', units='m**2')\n",
    "\n",
    "        self.declare_partials(of='mass', wrt='dens')\n",
    "        self.declare_partials(of='mass', wrt='radius')\n",
    "\n",
    "        self.declare_partials(of='S', wrt='radius')\n",
    "\n",
    "    def compute(self, inputs, outputs):\n",
    "        radius = inputs['radius']\n",
    "        dens = inputs['dens']\n",
    "\n",
    "        outputs['mass'] = (4/3.) * dens * np.pi * radius ** 3\n",
    "        outputs['S'] = np.pi * radius ** 2\n",
    "\n",
    "    def compute_partials(self, inputs, partials):\n",
    "        radius = inputs['radius']\n",
    "        dens = inputs['dens']\n",
    "\n",
    "        partials['mass', 'dens'] = (4/3.) * np.pi * radius ** 3\n",
    "        partials['mass', 'radius'] = 4. * dens * np.pi * radius ** 2\n",
    "\n",
    "        partials['S', 'radius'] = 2 * np.pi * radius\n"
   ]
  },
  {
   "cell_type": "markdown",
   "metadata": {},
   "source": [
    "## The cannonball ODE component\n",
    "\n",
    "This component computes the state rates and the kinetic energy of the cannonball.\n",
    "By calling the `declare_coloring` method wrt all inputs and using method `'cs'`, we're telling OpenMDAO to automatically determine the sparsity pattern of the outputs with respect to the inputs, **and** to automatically compute those outputs using complex-step approximation."
   ]
  },
  {
   "cell_type": "code",
   "execution_count": null,
   "metadata": {
    "scrolled": true
   },
   "outputs": [],
   "source": [
    "class CannonballODE(om.ExplicitComponent):\n",
    "    \"\"\"\n",
    "    Cannonball ODE assuming flat earth and accounting for air resistance\n",
    "    \"\"\"\n",
    "\n",
    "    def initialize(self):\n",
    "        self.options.declare('num_nodes', types=int)\n",
    "\n",
    "    def setup(self):\n",
    "        nn = self.options['num_nodes']\n",
    "\n",
    "        # static parameters\n",
    "        self.add_input('m', units='kg')\n",
    "        self.add_input('S', units='m**2')\n",
    "        # 0.5 good assumption for a sphere\n",
    "        self.add_input('CD', 0.5)\n",
    "\n",
    "        # time varying inputs\n",
    "        self.add_input('h', units='m', shape=nn)\n",
    "        self.add_input('v', units='m/s', shape=nn)\n",
    "        self.add_input('gam', units='rad', shape=nn)\n",
    "\n",
    "        # state rates\n",
    "        self.add_output('v_dot', shape=nn, units='m/s**2', tags=['dymos.state_rate_source:v'])\n",
    "        self.add_output('gam_dot', shape=nn, units='rad/s', tags=['dymos.state_rate_source:gam'])\n",
    "        self.add_output('h_dot', shape=nn, units='m/s', tags=['dymos.state_rate_source:h'])\n",
    "        self.add_output('r_dot', shape=nn, units='m/s', tags=['dymos.state_rate_source:r'])\n",
    "        self.add_output('ke', shape=nn, units='J')\n",
    "\n",
    "        # Ask OpenMDAO to compute the partial derivatives using complex-step\n",
    "        # with a partial coloring algorithm for improved performance, and use\n",
    "        # a graph coloring algorithm to automatically detect the sparsity pattern.\n",
    "        self.declare_coloring(wrt='*', method='cs')\n",
    "\n",
    "        alt_data = USatm1976Data.alt * om.unit_conversion('ft', 'm')[0]\n",
    "        rho_data = USatm1976Data.rho * om.unit_conversion('slug/ft**3', 'kg/m**3')[0]\n",
    "        self.rho_interp = interp1d(np.array(alt_data, dtype=complex),\n",
    "                                   np.array(rho_data, dtype=complex),\n",
    "                                   kind='linear')\n",
    "\n",
    "    def compute(self, inputs, outputs):\n",
    "\n",
    "        gam = inputs['gam']\n",
    "        v = inputs['v']\n",
    "        h = inputs['h']\n",
    "        m = inputs['m']\n",
    "        S = inputs['S']\n",
    "        CD = inputs['CD']\n",
    "\n",
    "        GRAVITY = 9.80665  # m/s**2\n",
    "\n",
    "        # handle complex-step gracefully from the interpolant\n",
    "        if np.iscomplexobj(h):\n",
    "            rho = self.rho_interp(inputs['h'])\n",
    "        else:\n",
    "            rho = self.rho_interp(inputs['h']).real\n",
    "\n",
    "        q = 0.5*rho*inputs['v']**2\n",
    "        qS = q * S\n",
    "        D = qS * CD\n",
    "        cgam = np.cos(gam)\n",
    "        sgam = np.sin(gam)\n",
    "        outputs['v_dot'] = - D/m-GRAVITY*sgam\n",
    "        outputs['gam_dot'] = -(GRAVITY/v)*cgam\n",
    "        outputs['h_dot'] = v*sgam\n",
    "        outputs['r_dot'] = v*cgam\n",
    "        outputs['ke'] = 0.5*m*v**2"
   ]
  },
  {
   "cell_type": "markdown",
   "metadata": {},
   "source": [
    "## Generating an initial guess\n",
    "\n",
    "Since we will be using a nonlinear solver to converge the dynamics and the duration, a simple linear initial guess will not be sufficient. The initial guess we will use is generated from the kinematics equations that assume no atmospheric drag. We compute the state values for some duration and initial flight path angle\n"
   ]
  },
  {
   "cell_type": "code",
   "execution_count": null,
   "metadata": {
    "scrolled": true
   },
   "outputs": [],
   "source": [
    "def initial_guess(t_dur, gam0=np.pi/3):\n",
    "    t = np.linspace(0, t_dur, num=100)\n",
    "    g = -9.80665\n",
    "    v0 = -0.5*g*t_dur/np.sin(gam0)\n",
    "    r = v0*np.cos(gam0)*t\n",
    "    h = v0*np.sin(gam0)*t + 0.5*g*t**2\n",
    "    v = np.sqrt(v0*np.cos(gam0)**2 + (v0*np.sin(gam0) + g*t)**2)\n",
    "    gam = np.arctan2(v0*np.sin(gam0) + g*t, v0*np.cos(gam0)**2)\n",
    "\n",
    "    guess = {'t': t, 'r': r, 'h': h, 'v': v, 'gam': gam}\n",
    "\n",
    "    return guess\n"
   ]
  },
  {
   "cell_type": "markdown",
   "metadata": {},
   "source": [
    "## Building and running the problem\n",
    "\n",
    "The following code defines the components for the physical\n",
    "cannonball calculations and ODE problem, sets up trajectory using a\n",
    "single phase, and specifies the stopping condition for the phase.\n",
    "The initial flight path angle is free, since 45 degrees is not\n",
    "necessarily optimal once air resistance is taken into account."
   ]
  },
  {
   "cell_type": "code",
   "execution_count": null,
   "metadata": {
    "scrolled": false
   },
   "outputs": [],
   "source": [
    "p = om.Problem(name='cannonball_implicit_duration', model=om.Group())\n",
    "\n",
    "p.driver = om.pyOptSparseDriver()\n",
    "p.driver.options['optimizer'] = 'IPOPT'\n",
    "p.driver.declare_coloring()\n",
    "\n",
    "p.driver.opt_settings['derivative_test'] = 'first-order'\n",
    "p.driver.opt_settings['mu_strategy'] = 'monotone'\n",
    "p.driver.opt_settings['alpha_for_y'] = 'safer-min-dual-infeas'\n",
    "p.driver.opt_settings['bound_mult_init_method'] = 'mu-based'\n",
    "p.driver.opt_settings['mu_init'] = 0.01\n",
    "p.driver.opt_settings['nlp_scaling_method'] = 'gradient-based'\n",
    "\n",
    "p.set_solver_print(level=0, depth=99)\n",
    "\n",
    "p.model.add_subsystem('size_comp', CannonballSizeComp(),\n",
    "                      promotes_inputs=['radius', 'dens'])\n",
    "p.model.set_input_defaults('dens', val=7.87, units='g/cm**3')\n",
    "p.model.add_design_var('radius', lower=0.01, upper=0.10,\n",
    "                       ref0=0.01, ref=0.10, units='m')\n",
    "\n",
    "traj = p.model.add_subsystem('traj', dm.Trajectory())\n",
    "\n",
    "transcription = dm.Radau(num_segments=25, order=3, compressed=False)\n",
    "phase = dm.Phase(ode_class=CannonballODE, transcription=transcription)\n",
    "\n",
    "phase = traj.add_phase('phase', phase)\n",
    "\n",
    "# Duration is bounded to be greater than 1 to ensure the nonlinear solve\n",
    "# does not converge to the initial point.\n",
    "phase.set_time_options(fix_initial=True, duration_bounds=(1, 100), units='s')\n",
    "\n",
    "# All initial states except flight path angle are fixed\n",
    "# The output of the ODE which provides the rate source for each state\n",
    "# is obtained from the tags used on those outputs in the ODE.\n",
    "# The units of the states are automatically inferred by multiplying the units\n",
    "# of those rates by the time units.\n",
    "phase.add_state('r', fix_initial=True, solve_segments='forward')\n",
    "phase.add_state('h', fix_initial=True, solve_segments='forward')\n",
    "phase.add_state('gam', fix_initial=False, solve_segments='forward')\n",
    "phase.add_state('v', fix_initial=False, solve_segments='forward')\n",
    "\n",
    "phase.add_parameter('S', units='m**2', static_target=True)\n",
    "phase.add_parameter('m', units='kg', static_target=True)\n",
    "phase.add_parameter('CD', val=0.5, opt=False, static_target=True)\n",
    "\n",
    "phase.add_boundary_constraint('ke', loc='initial',\n",
    "                              upper=400000, lower=0, ref=100000)\n",
    "\n",
    "# A duration balance is added setting altitude to zero.\n",
    "# A nonlinear solver is used to find the duration of required to satisfy the condition.\n",
    "phase.set_duration_balance('h', val=0.0)\n",
    "\n",
    "# Prior to setup, this phase has the default NonlinearRunOnce and LinearRunOnce solvers.\n",
    "# Because of the implicit behavior introduced by set_duration_balance, it will automatically\n",
    "# use a NewtonSolver with an Armijo Goldstein linesearch.\n",
    "# In this case that linesearch causes extrapolation of the atmospheric model into invalid regions.\n",
    "# To account for this, we explicitly assign a NewtonSolver with a different linesearch.\n",
    "phase.nonlinear_solver = om.NewtonSolver(iprint=0, solve_subsystems=True)\n",
    "phase.nonlinear_solver.linesearch = None\n",
    "\n",
    "phase.add_objective('r', loc='final', scaler=-1.0)\n",
    "\n",
    "p.model.connect('size_comp.mass', 'traj.phase.parameters:m')\n",
    "p.model.connect('size_comp.S', 'traj.phase.parameters:S')\n",
    "\n",
    "# Finish Problem Setup\n",
    "p.setup()\n",
    "\n",
    "#############################################\n",
    "# Set constants and initial guesses\n",
    "#############################################\n",
    "p.set_val('radius', 0.05, units='m')\n",
    "p.set_val('dens', 7.87, units='g/cm**3')\n",
    "\n",
    "p.set_val('traj.phase.parameters:CD', 0.5)\n",
    "\n",
    "guess = initial_guess(t_dur=30.0)\n",
    "\n",
    "p.set_val('traj.phase.t_initial', 0.0)\n",
    "p.set_val('traj.phase.t_duration', 30.0)\n",
    "\n",
    "p.set_val('traj.phase.states:r', phase.interp('r', ys=guess['r'], xs=guess['t']))\n",
    "p.set_val('traj.phase.states:h', phase.interp('h', ys=guess['h'], xs=guess['t']))\n",
    "p.set_val('traj.phase.states:v', phase.interp('v', ys=guess['v'], xs=guess['t']))\n",
    "p.set_val('traj.phase.states:gam', phase.interp('gam', ys=guess['gam'], xs=guess['t']), units='rad')\n",
    "\n",
    "#####################################################\n",
    "# Run the optimization and final explicit simulation\n",
    "#####################################################\n",
    "dm.run_problem(p, simulate=True, make_plots=True)"
   ]
  },
  {
   "cell_type": "markdown",
   "metadata": {},
   "source": [
    "## Plotting the results"
   ]
  },
  {
   "cell_type": "code",
   "execution_count": null,
   "metadata": {
    "scrolled": false
   },
   "outputs": [],
   "source": [
    "from IPython.display import IFrame\n",
    "\n",
    "IFrame(src='reports/cannonball_implicit_duration/traj_results_report.html', width=700, height=1000)"
   ]
  },
  {
   "cell_type": "code",
   "execution_count": null,
   "metadata": {
    "scrolled": true,
    "tags": [
     "remove-input",
     "remove-output"
    ]
   },
   "outputs": [],
   "source": [
    "from openmdao.utils.assert_utils import assert_near_equal\n",
    "\n",
    "assert_near_equal(p.get_val('traj.phase.timeseries.r')[-1],\n",
    "                  3183.25, tolerance=1.0E-2)"
   ]
  }
 ],
 "metadata": {
  "celltoolbar": "Tags",
  "jupytext": {
   "cell_metadata_filter": "-all",
   "notebook_metadata_filter": "-all",
   "text_representation": {
    "extension": ".md",
    "format_name": "markdown"
   }
  },
  "kernelspec": {
   "display_name": "Python 3 (ipykernel)",
   "language": "python",
   "name": "python3"
  },
  "language_info": {
   "codemirror_mode": {
    "name": "ipython",
    "version": 3
   },
   "file_extension": ".py",
   "mimetype": "text/x-python",
   "name": "python",
   "nbconvert_exporter": "python",
   "pygments_lexer": "ipython3",
   "version": "3.11.4"
  }
 },
 "nbformat": 4,
 "nbformat_minor": 4
}
