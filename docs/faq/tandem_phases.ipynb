{
 "cells": [
  {
   "cell_type": "code",
   "execution_count": null,
   "metadata": {
    "tags": [
     "active-ipynb",
     "remove-input",
     "remove-output"
    ]
   },
   "outputs": [],
   "source": [
    "try:\n",
    "    import openmdao.api as om\n",
    "    import dymos as dm\n",
    "except ImportError:\n",
    "    !python -m pip install openmdao[notebooks]\n",
    "    !python -m pip install dymos[docs]\n",
    "    import openmdao.api as om\n",
    "    import dymos as dm"
   ]
  },
  {
   "cell_type": "markdown",
   "metadata": {},
   "source": [
    "# How do I run two phases parallel-in-time?\n",
    "\n",
    "Complex models sometimes encounter state variables which are best simulated on different time scales, with some state variables changing quickly (fast variables) and some evolving slowly (slow variables).  \n",
    "\n",
    "For instance, and aircraft trajectory optimization which includes vehicle component temperatures might see relatively gradual changes in altitude over the course of a two hour flight while temperatures of some components seem to exhibit step-function-like behavior on the same scale.\n",
    "\n",
    "To accommodate both fast and slow variables in the same ODE, one would typically need to use a _dense_ grid (with many segments/higher order segments).\n",
    "This can be unnecessarily burdensome when there are many slow variables or evaluating their rates is particularly expensive.\n",
    "\n",
    "As a solution, Dymos allows the user to run two phases over the same range of times, where one phase may have a more sparse grid to accommodate the slow variables, and one has a more dense grid for the fast variables.\n",
    "\n",
    "To connect the two phases, state variable values are passed from the first (slow) phase to the second (fast) phase as non-optimal dynamic control variables.\n",
    "These values are then used to evaluate the rates of the fast variables.\n",
    "Since outputs from the first phase in generally will not fall on the appropriate grid points to be used by the second phase, interpolation is necessary.  \n",
    "This is one application of the interpolating timeseries component.\n",
    "\n",
    "In the following example, we solve the brachistochrone problem but do so to minimize the arclength of the resulting wire instead of the time required for the bead to travel along the wire.  \n",
    "This is a trivial solution which should find a straight line from the starting point to the ending point.\n",
    "\n",
    "There are two phases involved, the first utilizes the standard ODE for the brachistochrone problem.\n",
    "The second integrates the arclength (𝑆) of the wire using the equation:\n",
    "\n",
    "\\begin{align}\n",
    "    S = \\int v \\sin \\theta  \\sqrt{1 + \\frac{1}{\\tan^2 \\theta}} dt\n",
    "\\end{align}\n",
    "\n",
    "## The ODE for the wire arclength"
   ]
  },
  {
   "cell_type": "code",
   "execution_count": null,
   "metadata": {
    "tags": [
     "remove-input"
    ]
   },
   "outputs": [],
   "source": [
    "om.display_source('dymos.examples.brachistochrone.doc.test_doc_brachistochrone_tandem_phases.BrachistochroneArclengthODE')"
   ]
  },
  {
   "cell_type": "markdown",
   "metadata": {},
   "source": [
    "The trick is that the bead velocity ($v$) is a state variable solved for in the first phase,\n",
    "and the wire angle ($\\theta$) is a control variable \"owned\" by the first phase.  In the\n",
    "second phase they are used as control variables with option ``opt=False`` so that their values are\n",
    "expected as inputs for the second phase.  We need to connect their values from the first phase\n",
    "to the second phase, at the `control_input` node subset of the second phase.\n",
    "\n",
    "In the following example, we instantiate two phases and add an interpolating timeseries to the first phase\n",
    "which provides outputs at the `control_input` nodes of the second phase.  Those values are\n",
    "then connected and the entire problem run. The result is that the position and velocity variables\n",
    "are solved on a relatively coarse grid while the arclength of the wire is solved on a much denser grid."
   ]
  },
  {
   "cell_type": "code",
   "execution_count": null,
   "metadata": {
    "tags": [
     "remove-input",
     "remove-output"
    ]
   },
   "outputs": [],
   "source": [
    "class BrachistochroneArclengthODE(om.ExplicitComponent):\n",
    "\n",
    "    def initialize(self):\n",
    "        self.options.declare('num_nodes', types=int)\n",
    "\n",
    "    def setup(self):\n",
    "        nn = self.options['num_nodes']\n",
    "\n",
    "        # Inputs\n",
    "        self.add_input('v', val=np.zeros(nn), desc='velocity', units='m/s')\n",
    "        self.add_input('theta', val=np.zeros(nn), desc='angle of wire', units='rad')\n",
    "        self.add_output('Sdot', val=np.zeros(nn), desc='rate of change of arclength', units='m/s')\n",
    "\n",
    "        # Setup partials\n",
    "        arange = np.arange(nn)\n",
    "\n",
    "        self.declare_partials(of='Sdot', wrt='v', rows=arange, cols=arange)\n",
    "        self.declare_partials(of='Sdot', wrt='theta', rows=arange, cols=arange)\n",
    "\n",
    "    def compute(self, inputs, outputs):\n",
    "        theta = inputs['theta']\n",
    "        v = inputs['v']\n",
    "        outputs['Sdot'] = np.sqrt(1.0 + (1.0/np.tan(theta))**2) * v * np.sin(theta)\n",
    "\n",
    "    def compute_partials(self, inputs, jacobian):\n",
    "        theta = inputs['theta']\n",
    "        v = inputs['v']\n",
    "        cos_theta = np.cos(theta)\n",
    "        sin_theta = np.sin(theta)\n",
    "        tan_theta = np.tan(theta)\n",
    "        cot_theta = 1.0 / tan_theta\n",
    "        csc_theta = 1.0 / sin_theta\n",
    "\n",
    "        jacobian['Sdot', 'v'] = sin_theta * np.sqrt(1.0 + cot_theta**2)\n",
    "        jacobian['Sdot', 'theta'] = v * (cos_theta * (cot_theta**2 + 1) - cot_theta * csc_theta) / \\\n",
    "            (np.sqrt(1 + cot_theta**2))"
   ]
  },
  {
   "cell_type": "code",
   "execution_count": null,
   "metadata": {
    "tags": [
     "remove-input",
     "hide-output"
    ]
   },
   "outputs": [],
   "source": [
    "om.display_source('dymos.examples.brachistochrone.brachistochrone_ode')"
   ]
  },
  {
   "cell_type": "code",
   "execution_count": null,
   "metadata": {
    "tags": [
     "output_scroll"
    ]
   },
   "outputs": [],
   "source": [
    "from dymos.examples.brachistochrone.brachistochrone_ode import BrachistochroneODE\n",
    "\n",
    "import numpy as np\n",
    "import matplotlib.pyplot as plt\n",
    "import openmdao.api as om\n",
    "import dymos as dm\n",
    "\n",
    "p = om.Problem(model=om.Group())\n",
    "\n",
    "p.driver = om.pyOptSparseDriver()\n",
    "p.driver.options['optimizer'] = 'SLSQP'\n",
    "p.driver.declare_coloring()\n",
    "\n",
    "# The transcription of the first phase\n",
    "tx0 = dm.GaussLobatto(num_segments=10, order=3, compressed=False)\n",
    "\n",
    "# The transcription for the second phase (and the secondary timeseries outputs from the first phase)\n",
    "tx1 = dm.Radau(num_segments=20, order=9, compressed=False)\n",
    "\n",
    "#\n",
    "# First Phase: Integrate the standard brachistochrone ODE\n",
    "#\n",
    "phase0 = dm.Phase(ode_class=BrachistochroneODE, transcription=tx0)\n",
    "\n",
    "p.model.add_subsystem('phase0', phase0)\n",
    "\n",
    "phase0.set_time_options(fix_initial=True, duration_bounds=(.5, 10))\n",
    "\n",
    "phase0.add_state('x', fix_initial=True, fix_final=False)\n",
    "\n",
    "phase0.add_state('y', fix_initial=True, fix_final=False)\n",
    "\n",
    "phase0.add_state('v', fix_initial=True, fix_final=False)\n",
    "\n",
    "phase0.add_control('theta', continuity=True, rate_continuity=True,\n",
    "                   units='deg', lower=0.01, upper=179.9)\n",
    "\n",
    "phase0.add_parameter('g', units='m/s**2', val=9.80665)\n",
    "\n",
    "phase0.add_boundary_constraint('x', loc='final', equals=10)\n",
    "phase0.add_boundary_constraint('y', loc='final', equals=5)\n",
    "\n",
    "# Add alternative timeseries output to provide control inputs for the next phase\n",
    "phase0.add_timeseries('timeseries2', transcription=tx1, subset='control_input')\n",
    "\n",
    "#\n",
    "# Second Phase: Integration of ArcLength\n",
    "#\n",
    "phase1 = dm.Phase(ode_class=BrachistochroneArclengthODE, transcription=tx1)\n",
    "\n",
    "p.model.add_subsystem('phase1', phase1)\n",
    "\n",
    "phase1.set_time_options(fix_initial=True, input_duration=True)\n",
    "\n",
    "phase1.add_state('S', fix_initial=True, fix_final=False,\n",
    "                 rate_source='Sdot', units='m')\n",
    "\n",
    "phase1.add_control('theta', opt=False, units='deg', targets='theta')\n",
    "phase1.add_control('v', opt=False, units='m/s', targets='v')\n",
    "\n",
    "#\n",
    "# Connect the two phases\n",
    "#\n",
    "p.model.connect('phase0.t_duration', 'phase1.t_duration')\n",
    "\n",
    "p.model.connect('phase0.timeseries2.controls:theta', 'phase1.controls:theta')\n",
    "p.model.connect('phase0.timeseries2.states:v', 'phase1.controls:v')\n",
    "\n",
    "# Minimize arclength at the end of the second phase\n",
    "phase1.add_objective('S', loc='final', ref=1)\n",
    "\n",
    "p.model.linear_solver = om.DirectSolver()\n",
    "p.setup(check=True)\n",
    "\n",
    "p['phase0.t_initial'] = 0.0\n",
    "p['phase0.t_duration'] = 2.0\n",
    "\n",
    "p.set_val('phase0.states:x', phase0.interp('x', ys=[0, 10]))\n",
    "p.set_val('phase0.states:y', phase0.interp('y', ys=[10, 5]))\n",
    "p.set_val('phase0.states:v', phase0.interp('v', ys=[0, 9.9]))\n",
    "p.set_val('phase0.controls:theta', phase0.interp('theta', ys=[5, 100]))\n",
    "\n",
    "p['phase0.parameters:g'] = 9.80665\n",
    "\n",
    "p['phase1.states:S'] = 0.0\n",
    "\n",
    "dm.run_problem(p)\n",
    "\n",
    "fig, (ax0, ax1) = plt.subplots(2, 1)\n",
    "fig.tight_layout()\n",
    "ax0.plot(p.get_val('phase0.timeseries.states:x'), p.get_val('phase0.timeseries.states:y'), '.')\n",
    "ax0.set_xlabel('x (m)')\n",
    "ax0.set_ylabel('y (m)')\n",
    "ax1.plot(p.get_val('phase1.timeseries.time'), p.get_val('phase1.timeseries.states:S'), '+')\n",
    "ax1.set_xlabel('t (s)')\n",
    "ax1.set_ylabel('S (m)')\n",
    "plt.show()"
   ]
  },
  {
   "cell_type": "code",
   "execution_count": null,
   "metadata": {
    "tags": [
     "remove-input",
     "remove-output"
    ]
   },
   "outputs": [],
   "source": [
    "from openmdao.utils.assert_utils import assert_near_equal\n",
    "\n",
    "expected = np.sqrt((10-0)**2 + (10 - 5)**2)\n",
    "assert_near_equal(p.get_val('phase1.timeseries.states:S')[-1], expected, tolerance=1.0E-3)"
   ]
  }
 ],
 "metadata": {
  "celltoolbar": "Tags",
  "jupytext": {
   "cell_metadata_filter": "-all",
   "notebook_metadata_filter": "-all",
   "text_representation": {
    "extension": ".md",
    "format_name": "markdown"
   }
  },
  "kernelspec": {
   "display_name": "Python 3",
   "language": "python",
   "name": "python3"
  },
  "language_info": {
   "codemirror_mode": {
    "name": "ipython",
    "version": 3
   },
   "file_extension": ".py",
   "mimetype": "text/x-python",
   "name": "python",
   "nbconvert_exporter": "python",
   "pygments_lexer": "ipython3",
   "version": "3.8.3"
  }
 },
 "nbformat": 4,
 "nbformat_minor": 4
}
