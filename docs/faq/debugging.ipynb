{
 "cells": [
  {
   "cell_type": "code",
   "execution_count": null,
   "metadata": {
    "tags": [
     "active-ipynb",
     "remove-input",
     "remove-output"
    ]
   },
   "outputs": [],
   "source": [
    "try:\n",
    "    import openmdao.api as om\n",
    "    import dymos as dm\n",
    "except ImportError:\n",
    "    !python -m pip install openmdao[notebooks]\n",
    "    !python -m pip install dymos[docs]\n",
    "    import openmdao.api as om\n",
    "    import dymos as dm"
   ]
  },
  {
   "cell_type": "markdown",
   "metadata": {},
   "source": [
    "# How can I debug models when things go wrong?\n",
    "\n",
    "Dymos allow the user to build complex optimization models that include dynamic behavior.\n",
    "Managing that complexity can be a challenge as models grow larger.\n",
    "In this section we'll talk about some tools that can help when things are going as expected.\n",
    "\n",
    "## Testing\n",
    "\n",
    "If you look at the dymos source code, a considerable portion of it is used for testing.\n",
    "We strongly recommend that you develop tests of your models, from testing that the most basic components work as expected, to testing integrated systems with nonlinear solvers.\n",
    "In most cases these tests consist of these steps:\n",
    "\n",
    "1. Instantiate an OpenMDAO Problem\n",
    "2. Add your model.\n",
    "3. Setup the problem.\n",
    "4. Set the model inputs.\n",
    "5. Call `run_model()`\n",
    "6. Check the outputs against known values.\n",
    "7. Run `problem.check_partials()` to verify that the analytic partials are reasonably close to finite-difference or complex-step results.\n",
    "\n",
    "For example, the tests for the `kappa_comp` in the minimum time-to-climb model looks like this:"
   ]
  },
  {
   "cell_type": "code",
   "execution_count": null,
   "metadata": {
    "tags": [
     "remove-input"
    ]
   },
   "outputs": [],
   "source": [
    "om.display_source(\"dymos.examples.min_time_climb.aero.test.test_kappa_comp\")"
   ]
  },
  {
   "cell_type": "markdown",
   "metadata": {},
   "source": [
    "This consists of two separate tests: one that tests results, and one that tests the partials against finite-differencing.\n",
    "OpenMDAO includes a useful `assert_check_partials` method that can be used to programmatically verify accurate partials in automated testing.\n",
    "\n",
    "## The N2 Viewer\n",
    "\n",
    "When complex models don't output the correct value and the compute method has been double-checked, an incorrect or non-existent connection is frequently to blame.\n",
    "The goto tool for checking to see if models are correctly connected is [OpenMDAO's N-squared (N2) viewer](http://openmdao.org/newdocs/versions/latest/features/model_visualization/n2_details.html).\n",
    "This tool provides information about how models are connected and lets the user know when inputs aren't connected to an output as expected.\n",
    "\n",
    "It can be invoked from a run script using"
   ]
  },
  {
   "cell_type": "markdown",
   "metadata": {},
   "source": [
    "```python\n",
    "om.n2(problem.model)\n",
    "```"
   ]
  },
  {
   "cell_type": "markdown",
   "metadata": {},
   "source": [
    "or from the command line using"
   ]
  },
  {
   "cell_type": "markdown",
   "metadata": {},
   "source": [
    "```bash\n",
    "openmdao n2 file.py\n",
    "```"
   ]
  },
  {
   "cell_type": "markdown",
   "metadata": {},
   "source": [
    "where file.py is the file that contains an instantiated OpenMDAO Problem.\n",
    "\n",
    "## An example of an N2 of a Dymos model\n",
    "\n",
    "Coming soon\n",
    "\n",
    "## Using `debug_print`\n",
    "\n",
    "Coming soon\n",
    "\n"
   ]
  }
 ],
 "metadata": {
  "celltoolbar": "Tags",
  "jupytext": {
   "cell_metadata_filter": "-all",
   "notebook_metadata_filter": "-all",
   "text_representation": {
    "extension": ".md",
    "format_name": "markdown"
   }
  },
  "kernelspec": {
   "display_name": "Python 3",
   "language": "python",
   "name": "python3"
  },
  "language_info": {
   "codemirror_mode": {
    "name": "ipython",
    "version": 3
   },
   "file_extension": ".py",
   "mimetype": "text/x-python",
   "name": "python",
   "nbconvert_exporter": "python",
   "pygments_lexer": "ipython3",
   "version": "3.8.1"
  }
 },
 "nbformat": 4,
 "nbformat_minor": 4
}
