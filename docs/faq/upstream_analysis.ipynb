{
 "cells": [
  {
   "cell_type": "code",
   "execution_count": null,
   "metadata": {
    "tags": [
     "active-ipynb",
     "remove-input",
     "remove-output"
    ]
   },
   "outputs": [],
   "source": [
    "try:\n",
    "    import openmdao.api as om\n",
    "    import dymos as dm\n",
    "except ImportError:\n",
    "    !python -m pip install openmdao[notebooks]\n",
    "    !python -m pip install dymos[docs]\n",
    "    import openmdao.api as om\n",
    "    import dymos as dm"
   ]
  },
  {
   "cell_type": "markdown",
   "metadata": {},
   "source": [
    "# How do connect the outputs of an upstream analysis as inputs to Dymos?\n",
    "\n",
    "One of the design goals of Dymos is to allow the trajectory to be a part of a larger multidisciplinary optimization problem.\n",
    "Sometimes, you may want to take the results of some upstream design and use them as an input to a Dymos trajectory.\n",
    "There are different ways of doing this depending on what is being connected from the upstream source.\n",
    "\n",
    "## Upstream outputs as parameters\n",
    "\n",
    "If an upstream component performs some calculations to compute an output that is static through the trajectory, this is a use-case for parameters.\n",
    "For instance, we might use an upstream analysis to compute a wing area, spacecraft dry mass, or rotor radius."
   ]
  },
  {
   "cell_type": "markdown",
   "metadata": {},
   "source": [
    "Example:  [Multi-phase cannonball](../examples/multi_phase_cannonball/multi_phase_cannonball.ipynb)"
   ]
  },
  {
   "cell_type": "markdown",
   "metadata": {},
   "source": [
    "The [multi-phase cannonball example](../examples/multi_phase_cannonball/multi_phase_cannonball.ipynb) uses an upstream analysis to compute the aerodynamic reference area and mass of a cannonball based on its radius.\n",
    "The problem then seeks to find the radius which provides the maximum range for a given initial muzzle energy.\n",
    "If the cannonball is too large, it will be heavy and have lower initial velocity given the fixed initial energy.\n",
    "If the cannonball is too small, its ballistic coefficient will be low and it will not maintain velocity in the presence of drag.\n",
    "\n",
    "## Upstream outputs as controls\n",
    "\n",
    "It is possible to connect a control time history as inputs to a phase.\n",
    "This is somewhat more complex compared to static parameters because we now need to know the points in time at which the control input values are needed.\n",
    "When the controls in a phase are not optimized (`opt=False`) in the control specification, the controls exist as an input that can accept a connection.\n",
    "\n",
    "Example: [Brachistochrone with upstream controls](../examples/brachistochrone/brachistochrone_upstream_controls.ipynb)\n",
    "\n",
    "In the [Brachistochrone with upstream controls example](../examples/brachistochrone/brachistochrone_upstream_controls.ipynb), an upstream IndepVarComp provides the control input values, rather than the phase itself.\n",
    "Optimization settings have to be applied using the OpenMDAO `add_design_var` method, since these controls are not \"owned\" by the Dymos phase.\n",
    "\n",
    "## Upstream outputs as initial state values\n",
    "\n",
    "States behave a bit differently than controls.\n",
    "Rather than connecting the entire time history at the state input nodes, those are still managed by Dymos.\n",
    "If using `solve_segments=forward`, one can connect the initial value of a state from an external source.\n",
    "When using optimizer-driven collocation (`solve_segments=False`), states should be \"connected\" via constraint.\n",
    "In fact, this is how phases are connected in trajectories...new constraints are added that constrain the value of states at phase junctions.\n",
    "\n",
    "Example: [Brachistochrone with upstream state](../examples/brachistochrone/brachistochrone_upstream_states.ipynb)\n",
    "\n",
    "## Upstream outputs as phase initial time or duration\n",
    "\n",
    "When inputting a phase's initial time and duration, we recommend doing so through `set_time_options`. However, you can also pass those in via an external source as demonstrated in the example below.\n",
    "\n",
    "Example: [Brachistochrone with upstream initial and duration states](../examples/brachistochrone/brachistochrone_upstream_init_duration_states.ipynb)"
   ]
  }
 ],
 "metadata": {
  "jupytext": {
   "cell_metadata_filter": "-all",
   "notebook_metadata_filter": "-all",
   "text_representation": {
    "extension": ".md",
    "format_name": "markdown"
   }
  },
  "kernelspec": {
   "display_name": "Python 3",
   "language": "python",
   "name": "python3"
  },
  "language_info": {
   "codemirror_mode": {
    "name": "ipython",
    "version": 3
   },
   "file_extension": ".py",
   "mimetype": "text/x-python",
   "name": "python",
   "nbconvert_exporter": "python",
   "pygments_lexer": "ipython3",
   "version": "3.8.1"
  }
 },
 "nbformat": 4,
 "nbformat_minor": 4
}
