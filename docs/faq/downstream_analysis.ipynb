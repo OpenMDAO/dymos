{
 "cells": [
  {
   "cell_type": "code",
   "execution_count": null,
   "metadata": {
    "tags": [
     "active-ipynb",
     "remove-input",
     "remove-output"
    ]
   },
   "outputs": [],
   "source": [
    "try:\n",
    "    import openmdao.api as om\n",
    "    import dymos as dm\n",
    "except ImportError:\n",
    "    !python -m pip install openmdao[notebooks]\n",
    "    !python -m pip install dymos[docs]\n",
    "    import openmdao.api as om\n",
    "    import dymos as dm"
   ]
  },
  {
   "cell_type": "markdown",
   "metadata": {},
   "source": [
    "# How do connect the outputs of Dymos to a downstream analysis?\n",
    "\n",
    "One of the design goals of Dymos is to allow the trajectory to be a part of a larger multidisciplinary optimization problem.\n",
    "Sometimes, you may want to take the results from the Dymos trajectory and feed them to some downstream analysis.\n",
    "\n",
    "In the case of only being concerned with the final value of some parameter, this can be accomplished by connecting the relevant output from\n",
    "the timeseries with `src_indices=[-1]`.\n",
    "\n",
    "For example, something like the following might be used to connect the final value of the state `range` to some downstream component.\n",
    "\n",
    "```python\n",
    "problem.model.connect('trajectory.phase0.timeseries.states:range',\n",
    "                      'postprocess.final_range',\n",
    "                      src_indices=[-1])\n",
    "```\n",
    "\n",
    "```{Note}\n",
    "We *highly* recommend you use the phase timeseries outputs to retrieve outputs from Dymos, since it is transcription-indepdendent.\n",
    "```\n",
    "\n",
    "When the downstream analysis requires the entire trajectory, things get slightly more complicated.\n",
    "We need to know the number of nodes in a phase when we're building the problem, so the downstream component knows how many values of a variable to expect.\n",
    "To do this, we can initialize the transcription object and obtain the total number of nodes in the phase using the transcriptions `grid_data.num_nodes` attribute.\n",
    "The [length-constrained brachistochrone example](../examples/length_constrained_brachistochrone/length_constrained_brachistochrone.ipynb) demonstrates how to do this."
   ]
  }
 ],
 "metadata": {
  "jupytext": {
   "cell_metadata_filter": "-all",
   "notebook_metadata_filter": "-all",
   "text_representation": {
    "extension": ".md",
    "format_name": "markdown"
   }
  },
  "kernelspec": {
   "display_name": "Python 3",
   "language": "python",
   "name": "python3"
  },
  "language_info": {
   "codemirror_mode": {
    "name": "ipython",
    "version": 3
   },
   "file_extension": ".py",
   "mimetype": "text/x-python",
   "name": "python",
   "nbconvert_exporter": "python",
   "pygments_lexer": "ipython3",
   "version": "3.8.1"
  }
 },
 "nbformat": 4,
 "nbformat_minor": 4
}
