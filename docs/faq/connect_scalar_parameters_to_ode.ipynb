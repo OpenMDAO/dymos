{
 "cells": [
  {
   "cell_type": "code",
   "execution_count": null,
   "metadata": {
    "tags": [
     "active-ipynb",
     "remove-input",
     "remove-output"
    ]
   },
   "outputs": [],
   "source": [
    "try:\n",
    "    import openmdao.api as om\n",
    "    import dymos as dm\n",
    "except ImportError:\n",
    "    !python -m pip install openmdao[notebooks]\n",
    "    !python -m pip install dymos[docs]\n",
    "    import openmdao.api as om\n",
    "    import dymos as dm"
   ]
  },
  {
   "cell_type": "markdown",
   "metadata": {},
   "source": [
    "# How do I connect a scalar input to the ODE?\n",
    "\n",
    "By default, we recommend that users treat all ODE input variables as if they are _potentially_ dynamic.\n",
    "This allows the user to use the input as either a dynamic control, or as a static design or input parameter.\n",
    "By default, parameters will \"fan\" the value out to all nodes.\n",
    "This allows the partials to be defined in a consistent fashion (generally a diagonal matrix for a scalar input and output) regardless of whether the input is static or dynamic.\n",
    "\n",
    "**But** there are some cases in which the user may know that a variable will never have the potential to change throughout the trajectory.\n",
    "In these cases, we can reduce a bit of the data transfer OpenMDAO needs to perform by defining the input as a scalar in the ODE, rather than sizing it based on the number of nodes.\n",
    "\n",
    "## The Brachistochrone with a static input.\n",
    "\n",
    "The local gravity `g` in the brachistochrone problem makes a good candidate for a static input parameter.\n",
    "The brachistochrone generally won't be in an environment where the local acceleration of gravity is varying by any significant amount."
   ]
  },
  {
   "cell_type": "markdown",
   "metadata": {},
   "source": [
    "In the slightly modified brachistochrone example below, we add a new option to the BrachistochroneODE `static_gravity` that allows us to decide whether gravity is a vectorized input or a scalar input to the ODE."
   ]
  },
  {
   "cell_type": "code",
   "execution_count": null,
   "metadata": {
    "tags": [
     "remove-input"
    ]
   },
   "outputs": [],
   "source": [
    "om.display_source(\"dymos.examples.brachistochrone.brachistochrone_ode\")"
   ]
  },
  {
   "cell_type": "markdown",
   "metadata": {},
   "source": [
    "In the corresponding run script, we pass `{'static_gravity': True}` as one of the `ode_init_kwargs` to the Phase, and declare $g$ as a static design variable using the `dynamic=False` argument."
   ]
  },
  {
   "cell_type": "code",
   "execution_count": null,
   "metadata": {},
   "outputs": [],
   "source": [
    "import openmdao.api as om\n",
    "import dymos as dm\n",
    "import matplotlib.pyplot as plt\n",
    "from dymos.examples.brachistochrone.brachistochrone_ode import BrachistochroneODE\n",
    "\n",
    "#\n",
    "# Initialize the Problem and the optimization driver\n",
    "#\n",
    "p = om.Problem(model=om.Group())\n",
    "p.driver = om.ScipyOptimizeDriver()\n",
    "p.driver.declare_coloring()\n",
    "\n",
    "#\n",
    "# Create a trajectory and add a phase to it\n",
    "#\n",
    "traj = p.model.add_subsystem('traj', dm.Trajectory())\n",
    "\n",
    "phase = traj.add_phase('phase0',\n",
    "                       dm.Phase(ode_class=BrachistochroneODE,\n",
    "                                ode_init_kwargs={'static_gravity': True},\n",
    "                                transcription=dm.GaussLobatto(num_segments=10)))\n",
    "\n",
    "#\n",
    "# Set the variables\n",
    "#\n",
    "phase.set_time_options(fix_initial=True, duration_bounds=(.5, 10))\n",
    "\n",
    "phase.add_state('x', rate_source='xdot',\n",
    "                targets=None,\n",
    "                units='m',\n",
    "                fix_initial=True, fix_final=True, solve_segments=False)\n",
    "\n",
    "phase.add_state('y', rate_source='ydot',\n",
    "                targets=None,\n",
    "                units='m',\n",
    "                fix_initial=True, fix_final=True, solve_segments=False)\n",
    "\n",
    "phase.add_state('v', rate_source='vdot',\n",
    "                targets=['v'],\n",
    "                units='m/s',\n",
    "                fix_initial=True, fix_final=False, solve_segments=False)\n",
    "\n",
    "phase.add_control('theta', targets=['theta'],\n",
    "                  continuity=True, rate_continuity=True,\n",
    "                  units='deg', lower=0.01, upper=179.9)\n",
    "\n",
    "phase.add_parameter('g', targets=['g'], static_target=True, opt=False)\n",
    "\n",
    "#\n",
    "# Minimize time at the end of the phase\n",
    "#\n",
    "phase.add_objective('time', loc='final', scaler=10)\n",
    "\n",
    "#\n",
    "# Setup the Problem\n",
    "#\n",
    "p.setup()\n",
    "\n",
    "#\n",
    "# Set the initial values\n",
    "# The initial time is fixed, and we set that fixed value here.\n",
    "# The optimizer is allowed to modify t_duration, but an initial guess is provided here.\n",
    "#\n",
    "p.set_val('traj.phase0.t_initial', 0.0)\n",
    "p.set_val('traj.phase0.t_duration', 2.0)\n",
    "\n",
    "# Guesses for states are provided at all state_input nodes.\n",
    "# We use the phase.interpolate method to linearly interpolate values onto the state input nodes.\n",
    "# Since fix_initial=True for all states and fix_final=True for x and y, the initial or final\n",
    "# values of the interpolation provided here will not be changed by the optimizer.\n",
    "p.set_val('traj.phase0.states:x', phase.interp('x', [0, 10]))\n",
    "p.set_val('traj.phase0.states:y', phase.interp('y', [10, 5]))\n",
    "p.set_val('traj.phase0.states:v', phase.interp('v', [0, 9.9]))\n",
    "\n",
    "# Guesses for controls are provided at all control_input node.\n",
    "# Here phase.interpolate is used to linearly interpolate values onto the control input nodes.\n",
    "p.set_val('traj.phase0.controls:theta', phase.interp('theta', [5, 100.5]))\n",
    "\n",
    "# Set the value for gravitational acceleration.\n",
    "p.set_val('traj.phase0.parameters:g', 9.80665)\n",
    "\n",
    "#\n",
    "# Solve for the optimal trajectory\n",
    "#\n",
    "dm.run_problem(p, simulate=True)\n",
    "\n",
    "# Generate the explicitly simulated trajectory\n",
    "exp_out = om.CaseReader('dymos_simulation.db').get_case('final')\n",
    "\n",
    "# Extract the timeseries from the implicit solution and the explicit simulation\n",
    "x = p.get_val('traj.phase0.timeseries.states:x')\n",
    "y = p.get_val('traj.phase0.timeseries.states:y')\n",
    "t = p.get_val('traj.phase0.timeseries.time')\n",
    "theta = p.get_val('traj.phase0.timeseries.controls:theta')\n",
    "\n",
    "x_exp = exp_out.get_val('traj.phase0.timeseries.states:x')\n",
    "y_exp = exp_out.get_val('traj.phase0.timeseries.states:y')\n",
    "t_exp = exp_out.get_val('traj.phase0.timeseries.time')\n",
    "theta_exp = exp_out.get_val('traj.phase0.timeseries.controls:theta')\n",
    "\n",
    "fig, axes = plt.subplots(nrows=2, ncols=1)\n",
    "\n",
    "axes[0].plot(x, y, 'o')\n",
    "axes[0].plot(x_exp, y_exp, '-')\n",
    "axes[0].set_xlabel('x (m)')\n",
    "axes[0].set_ylabel('y (m)')\n",
    "\n",
    "axes[1].plot(t, theta, 'o')\n",
    "axes[1].plot(t_exp, theta_exp, '-')\n",
    "axes[1].set_xlabel('time (s)')\n",
    "axes[1].set_ylabel(r'$\\theta$ (deg)')\n",
    "\n",
    "plt.show()"
   ]
  },
  {
   "cell_type": "code",
   "execution_count": null,
   "metadata": {
    "tags": [
     "remove-input",
     "remove-output"
    ]
   },
   "outputs": [],
   "source": [
    "from openmdao.utils.assert_utils import assert_near_equal\n",
    "\n",
    "# Test the results\n",
    "assert_near_equal(p.get_val('traj.phase0.timeseries.time')[-1], 1.8016,\n",
    "                  tolerance=1.0E-3)"
   ]
  }
 ],
 "metadata": {
  "celltoolbar": "Tags",
  "jupytext": {
   "cell_metadata_filter": "-all",
   "notebook_metadata_filter": "-all",
   "text_representation": {
    "extension": ".md",
    "format_name": "markdown"
   }
  },
  "kernelspec": {
   "display_name": "Python 3",
   "language": "python",
   "name": "python3"
  },
  "language_info": {
   "codemirror_mode": {
    "name": "ipython",
    "version": 3
   },
   "file_extension": ".py",
   "mimetype": "text/x-python",
   "name": "python",
   "nbconvert_exporter": "python",
   "pygments_lexer": "ipython3",
   "version": "3.8.3"
  }
 },
 "nbformat": 4,
 "nbformat_minor": 4
}
