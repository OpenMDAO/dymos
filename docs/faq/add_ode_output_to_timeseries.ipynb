{
 "cells": [
  {
   "cell_type": "code",
   "execution_count": null,
   "metadata": {
    "tags": [
     "active-ipynb",
     "remove-input",
     "remove-output"
    ]
   },
   "outputs": [],
   "source": [
    "try:\n",
    "    import openmdao.api as om\n",
    "    import dymos as dm\n",
    "except ImportError:\n",
    "    !python -m pip install openmdao[notebooks]\n",
    "    !python -m pip install dymos[docs]\n",
    "    import openmdao.api as om\n",
    "    import dymos as dm"
   ]
  },
  {
   "cell_type": "markdown",
   "metadata": {},
   "source": [
    "# How do I add an ODE output to the timeseries outputs?\n",
    "\n",
    "The timeseries object in Dymos provides a transcription-independent way to get timeseries output of a variable in a phase.\n",
    "By default, these timeseries outputs include Dymos phase variables (times, states, controls, and parameters).\n",
    "Often, there will be some other intermediate or auxiliary output calculations in the ODE that we want to track over time.\n",
    "These can be added to the timeseries outputs using the `add_timeseries_output` method on Phase.\n",
    "\n",
    "Multiple timeseries outputs can be added at one time by matching a glob pattern.\n",
    "For instance, to add all outputs of the ODE to the timeseries, one can use '*' as the"
   ]
  },
  {
   "cell_type": "markdown",
   "metadata": {},
   "source": [
    "See the [Timeseries documentation](../features/phases/timeseries.ipynb) for more information."
   ]
  },
  {
   "cell_type": "markdown",
   "metadata": {},
   "source": [
    "The [commercial aircraft example](../examples/commercial_aircraft/commercial_aircraft.ipynb) uses the `add_timeseries_output` method to add the lift and drag coefficients to the timeseries outputs."
   ]
  }
 ],
 "metadata": {
  "jupytext": {
   "cell_metadata_filter": "-all",
   "notebook_metadata_filter": "-all",
   "text_representation": {
    "extension": ".md",
    "format_name": "markdown"
   }
  },
  "kernelspec": {
   "display_name": "Python 3",
   "language": "python",
   "name": "python3"
  },
  "language_info": {
   "codemirror_mode": {
    "name": "ipython",
    "version": 3
   },
   "file_extension": ".py",
   "mimetype": "text/x-python",
   "name": "python",
   "nbconvert_exporter": "python",
   "pygments_lexer": "ipython3",
   "version": "3.8.1"
  }
 },
 "nbformat": 4,
 "nbformat_minor": 4
}
