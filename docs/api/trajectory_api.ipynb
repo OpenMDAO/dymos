{
 "cells": [
  {
   "cell_type": "code",
   "execution_count": null,
   "metadata": {
    "tags": [
     "active-ipynb",
     "remove-input",
     "remove-output"
    ]
   },
   "outputs": [],
   "source": [
    "try:\n",
    "    import openmdao.api as om\n",
    "    import dymos as dm\n",
    "except ImportError:\n",
    "    !python -m pip install openmdao[notebooks]\n",
    "    !python -m pip install dymos[docs]\n",
    "    import openmdao.api as om\n",
    "    import dymos as dm"
   ]
  },
  {
   "cell_type": "markdown",
   "metadata": {},
   "source": [
    "# The Trajectory API"
   ]
  },
  {
   "cell_type": "markdown",
   "metadata": {},
   "source": [
    "## add_linkage_constraint\n",
    "```{eval-rst}\n",
    "    .. automethod:: dymos.Trajectory.add_linkage_constraint\n",
    "        :noindex:\n",
    "```\n",
    "\n",
    "## add_parameter\n",
    "```{eval-rst}\n",
    "    .. automethod:: dymos.Trajectory.add_parameter\n",
    "        :noindex:\n",
    "```\n",
    "\n",
    "## add_phase\n",
    "```{eval-rst}\n",
    "    .. automethod:: dymos.Trajectory.add_phase\n",
    "        :noindex:\n",
    "```\n",
    "\n",
    "## link_phases\n",
    "```{eval-rst}\n",
    "    .. automethod:: dymos.Trajectory.link_phases\n",
    "        :noindex:\n",
    "```\n",
    "\n",
    "## simulate\n",
    "```{eval-rst}\n",
    "    .. automethod:: dymos.Trajectory.simulate\n",
    "        :noindex:\n",
    "```"
   ]
  }
 ],
 "metadata": {
  "celltoolbar": "Tags",
  "jupytext": {
   "cell_metadata_filter": "-all",
   "notebook_metadata_filter": "-all",
   "text_representation": {
    "extension": ".md",
    "format_name": "markdown"
   }
  },
  "kernelspec": {
   "display_name": "Python 3 (ipykernel)",
   "language": "python",
   "name": "python3"
  },
  "language_info": {
   "codemirror_mode": {
    "name": "ipython",
    "version": 3
   },
   "file_extension": ".py",
   "mimetype": "text/x-python",
   "name": "python",
   "nbconvert_exporter": "python",
   "pygments_lexer": "ipython3",
   "version": "3.9.7"
  }
 },
 "nbformat": 4,
 "nbformat_minor": 4
}
