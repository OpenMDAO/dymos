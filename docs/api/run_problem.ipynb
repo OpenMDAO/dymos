{
 "cells": [
  {
   "cell_type": "code",
   "execution_count": null,
   "metadata": {
    "tags": [
     "active-ipynb",
     "remove-input",
     "remove-output"
    ]
   },
   "outputs": [],
   "source": [
    "try:\n",
    "    import openmdao.api as om\n",
    "    import dymos as dm\n",
    "except ImportError:\n",
    "    !python -m pip install openmdao[notebooks]\n",
    "    !python -m pip install dymos[docs]\n",
    "    import openmdao.api as om\n",
    "    import dymos as dm"
   ]
  },
  {
   "cell_type": "markdown",
   "metadata": {},
   "source": [
    "# The Dymos run_problem function\n",
    "\n",
    "In the Brachistochrone example we used two methods on the OpenMDAO Problem class to execute the model.\n",
    "\n",
    "**run_model** Takes the current model design variables and runs a single execution of the Problem's model.  \n",
    "Any iterative systems are converged, but no optimization is performed.\n",
    "When using Dymos with an optimizer-driven implicit transcription, `run_model` will **not** produce a physically valid trajectory on output.\n",
    "If using a solver-driven transcription, the collocation defects will be satisfied (if possible) and the resulting outputs will provide a physically valid trajectory (to the extent possible given the collocation grid)."
   ]
  },
  {
   "cell_type": "markdown",
   "metadata": {},
   "source": [
    "**run_driver** Runs a driver wrapped around the model (typically done for optimization) and repeatedly executes `run_model` until the associated optimization problem is satisfied.\n",
    "This approach will provide a physically valid trajectory, to the extent that the grid is sufficient to accurately model the dynamics.\n",
    "But what happens if the grid is not dense enough to accurately capture the physics of the problem.\n",
    "This is the purpose of _grid refinement_.\n",
    "There have been numerous methods of grid refinment posed for implcit optimal control techniques.\n",
    "In general, they follow the following procedure:\n",
    "\n",
    "1. Optimize the trajectory\n",
    "2. Assess errors in the solution\n",
    "3. Propose a new grid to reduce these errors to an acceptable level.\n",
    "4. Repeat until the errors are within some acceptable tolerance.\n",
    "\n",
    "This requires another layer of iteration outside of the OpenMDAO `run_driver` method.\n",
    "This is the original motivation for Dymos' `run_problem` function."
   ]
  },
  {
   "cell_type": "markdown",
   "metadata": {},
   "source": [
    "```{eval-rst}\n",
    "dymos.run_problem.run_problem\n",
    "```"
   ]
  }
 ],
 "metadata": {
  "celltoolbar": "Tags",
  "jupytext": {
   "cell_metadata_filter": "-all",
   "notebook_metadata_filter": "-all",
   "text_representation": {
    "extension": ".md",
    "format_name": "markdown"
   }
  },
  "kernelspec": {
   "display_name": "Python 3",
   "language": "python",
   "name": "python3"
  },
  "language_info": {
   "codemirror_mode": {
    "name": "ipython",
    "version": 3
   },
   "file_extension": ".py",
   "mimetype": "text/x-python",
   "name": "python",
   "nbconvert_exporter": "python",
   "pygments_lexer": "ipython3",
   "version": "3.8.3"
  }
 },
 "nbformat": 4,
 "nbformat_minor": 4
}
