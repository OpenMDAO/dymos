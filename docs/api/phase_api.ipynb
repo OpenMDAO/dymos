{
 "cells": [
  {
   "cell_type": "code",
   "execution_count": null,
   "metadata": {
    "tags": [
     "active-ipynb",
     "remove-input",
     "remove-output"
    ]
   },
   "outputs": [],
   "source": [
    "try:\n",
    "    import openmdao.api as om\n",
    "    import dymos as dm\n",
    "except ImportError:\n",
    "    !python -m pip install openmdao[notebooks]\n",
    "    !python -m pip install dymos[docs]\n",
    "    import openmdao.api as om\n",
    "    import dymos as dm"
   ]
  },
  {
   "cell_type": "markdown",
   "metadata": {},
   "source": [
    "# The Phase API"
   ]
  },
  {
   "cell_type": "markdown",
   "metadata": {},
   "source": [
    "## options"
   ]
  },
  {
   "cell_type": "code",
   "execution_count": null,
   "metadata": {
    "tags": [
     "remove-input"
    ]
   },
   "outputs": [],
   "source": [
    "om.show_options_table('dymos.phase.Phase')"
   ]
  },
  {
   "cell_type": "markdown",
   "metadata": {},
   "source": [
    "The transcription is an instance of one of the [transcriptions](../transcriptions) available in Dymos.\n"
   ]
  },
  {
   "cell_type": "markdown",
   "metadata": {},
   "source": [
    "## set_time_options\n",
    "\n",
    "```{eval-rst}\n",
    "    .. automethod:: dymos.Phase.set_time_options\n",
    "        :noindex:\n",
    "```\n",
    "\n",
    "## add_state\n",
    "```{eval-rst}\n",
    "    .. automethod:: dymos.Phase.add_state\n",
    "        :noindex:\n",
    "```\n",
    "\n",
    "## set_state_options\n",
    "```{eval-rst}\n",
    "    .. automethod:: dymos.Phase.set_state_options\n",
    "        :noindex:\n",
    "```\n",
    "\n",
    "## add_control\n",
    "```{eval-rst}\n",
    "    .. automethod:: dymos.Phase.add_control\n",
    "        :noindex:\n",
    "```\n",
    "\n",
    "## set_control_options\n",
    "```{eval-rst}\n",
    "    .. automethod:: dymos.Phase.set_control_options\n",
    "        :noindex:\n",
    "```\n",
    "\n",
    "## add_polynomial_control\n",
    "```{eval-rst}\n",
    "    .. automethod:: dymos.Phase.add_polynomial_control\n",
    "        :noindex:\n",
    "```\n",
    "\n",
    "## set_polynomial_control_options\n",
    "```{eval-rst}\n",
    "    .. automethod:: dymos.Phase.set_polynomial_control_options\n",
    "        :noindex:\n",
    "```\n",
    "\n",
    "## add_parameter\n",
    "```{eval-rst}\n",
    "    .. automethod:: dymos.Phase.add_parameter\n",
    "        :noindex:\n",
    "```\n",
    "\n",
    "## set_parameter_options\n",
    "```{eval-rst}\n",
    "    .. automethod:: dymos.Phase.set_parameter_options\n",
    "        :noindex:\n",
    "```\n",
    "\n",
    "## add_timeseries\n",
    "```{eval-rst}\n",
    "    .. automethod:: dymos.Phase.add_timeseries\n",
    "        :noindex:\n",
    "```\n",
    "\n",
    "## add_timeseries_output\n",
    "```{eval-rst}\n",
    "    .. automethod:: dymos.Phase.add_timeseries_output\n",
    "        :noindex:\n",
    "```\n",
    "\n",
    "## add_boundary_constraint\n",
    "```{eval-rst}\n",
    "    .. automethod:: dymos.Phase.add_boundary_constraint\n",
    "        :noindex:\n",
    "```\n",
    "\n",
    "## add_path_constraint\n",
    "```{eval-rst}\n",
    "    .. automethod:: dymos.Phase.add_path_constraint\n",
    "        :noindex:\n",
    "```\n",
    "\n",
    "## simulate\n",
    "```{eval-rst}\n",
    "    .. automethod:: dymos.Phase.simulate\n",
    "        :noindex:\n",
    "```\n",
    "\n",
    "## set_refine_options\n",
    "```{eval-rst}\n",
    "    .. automethod:: dymos.Phase.set_refine_options\n",
    "        :noindex:\n",
    "```\n",
    "\n",
    "## interpolate\n",
    "```{eval-rst}\n",
    "    .. automethod:: dymos.Phase.interpolate\n",
    "        :noindex:\n",
    "```"
   ]
  }
 ],
 "metadata": {
  "celltoolbar": "Tags",
  "jupytext": {
   "cell_metadata_filter": "-all",
   "notebook_metadata_filter": "-all",
   "text_representation": {
    "extension": ".md",
    "format_name": "markdown"
   }
  },
  "kernelspec": {
   "display_name": "Python 3 (ipykernel)",
   "language": "python",
   "name": "python3"
  },
  "language_info": {
   "codemirror_mode": {
    "name": "ipython",
    "version": 3
   },
   "file_extension": ".py",
   "mimetype": "text/x-python",
   "name": "python",
   "nbconvert_exporter": "python",
   "pygments_lexer": "ipython3",
   "version": "3.9.7"
  }
 },
 "nbformat": 4,
 "nbformat_minor": 4
}
