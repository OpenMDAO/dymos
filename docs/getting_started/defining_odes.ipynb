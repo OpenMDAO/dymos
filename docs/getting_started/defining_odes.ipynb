{
 "cells": [
  {
   "cell_type": "code",
   "execution_count": null,
   "metadata": {
    "tags": [
     "active-ipynb",
     "remove-input",
     "remove-output"
    ]
   },
   "outputs": [],
   "source": [
    "try:\n",
    "    import openmdao.api as om\n",
    "    import dymos as dm\n",
    "except ImportError:\n",
    "    !python -m pip install openmdao[notebooks]\n",
    "    !python -m pip install dymos[docs]\n",
    "    import openmdao.api as om\n",
    "    import dymos as dm"
   ]
  },
  {
   "cell_type": "markdown",
   "metadata": {},
   "source": [
    "# Defining ODEs\n",
    "\n",
    "Optimal control problems contain ordinary differential equations (ODE) or differential algebraic equations (DAE) that dictate the evolution of the state of the system.\n",
    "Typically this evolution occurs in time, and the ODE represents equations of motion (EOM).\n",
    "The equations of motion can define a variety of systems, not just mechanical ones.\n",
    "In other fields they are sometimes referred to as *process equations*.\n",
    "\n",
    "\\begin{align}\n",
    "    \\dot{\\bar{x}} = f_{ode}(\\bar{x},t,\\bar{u},\\bar{d})\n",
    "\\end{align}\n",
    "\n",
    "To represent EOM, Dymos uses a standard OpenMDAO System (a Group or Component).\n",
    "This System takes some set of variables as input and computes outputs that include the time-derivatives of the state variables $\\bar{x}$.\n",
    "The ODE may also be a function of the current time $t$.\n",
    "\n",
    "Finally, the dynamics may be subject to some set of controllable parameters.\n",
    "In Dymos these are broken into the dynamic controls $\\bar{u}$ and the static parameters $\\bar{d}$.\n",
    "\n",
    "##  System Options\n",
    "\n",
    "ODE Systems in Dymos need to provide values at numerous points in time we call nodes.\n",
    "For performance reasons, it's best if it can do so using vectorized mathematical operations to compute the values simultaneously rather than using the loop to perform the calculation at each node.\n",
    "Different optimal control transcriptions will need to have computed ODE values at different numbers of nodes, so each ODE system in Dymos is required to support the option `num_nodes`, which is defined in the `initialize` method.\n",
    "\n",
    "ODE systems may define initial options as well.\n",
    "Since these options in OpenMDAO are typically provided as arguments to the instantiation of the ODE system, the user has the ability to provide additional input keyword arguments using the `ode_init_kwargs` option on Phase.\n",
    "\n",
    "## Variables of the Optimal Control Problem\n",
    "\n",
    "Dymos needs to know how state, time, and control variables are to be connected to the System, and needs to know which outputs to use as state time-derivatives.\n",
    "\n",
    "### Time\n",
    "\n",
    "The following time options can be set via the `set_time_options` method of Phase:"
   ]
  },
  {
   "cell_type": "code",
   "execution_count": null,
   "metadata": {
    "tags": [
     "remove-input"
    ]
   },
   "outputs": [],
   "source": [
    "from IPython.display import display, HTML, IFrame, Code\n",
    "from dymos.phase.options import TimeOptionsDictionary\n",
    "obj = TimeOptionsDictionary()\n",
    "display(HTML(obj.to_table(fmt='html')))"
   ]
  },
  {
   "cell_type": "markdown",
   "metadata": {},
   "source": [
    "### States\n",
    "\n",
    "States have the following options set via the `add_state` and `set_state_options` methods of Phase:"
   ]
  },
  {
   "cell_type": "code",
   "execution_count": null,
   "metadata": {
    "tags": [
     "remove-input"
    ]
   },
   "outputs": [],
   "source": [
    "from dymos.phase.options import StateOptionsDictionary\n",
    "obj = StateOptionsDictionary()\n",
    "display(HTML(obj.to_table(fmt='html')))"
   ]
  },
  {
   "cell_type": "markdown",
   "metadata": {},
   "source": [
    "###  Controls\n",
    "\n",
    "Inputs to the ODE which are to be dynamic controls are added via the `add_control` and `set_control_options` methods of Phase. The available options are as follows:"
   ]
  },
  {
   "cell_type": "code",
   "execution_count": null,
   "metadata": {
    "tags": [
     "remove-input"
    ]
   },
   "outputs": [],
   "source": [
    "from dymos.phase.options import ControlOptionsDictionary\n",
    "obj = ControlOptionsDictionary()\n",
    "display(HTML(obj.to_table(fmt='html')))"
   ]
  },
  {
   "cell_type": "markdown",
   "metadata": {},
   "source": [
    "###  Parameters\n",
    "\n",
    "Inputs to the ODE which are non-time-varying can be specified using the `add_parameter` method of Phase.\n",
    "Parameters may be used as design variables (by setting `opt = True`), or they may be connected to an output external to the Phase or Trajectory.\n",
    "The available options are as follows:"
   ]
  },
  {
   "cell_type": "code",
   "execution_count": null,
   "metadata": {
    "tags": [
     "remove-input"
    ]
   },
   "outputs": [],
   "source": [
    "from dymos.phase.options import ParameterOptionsDictionary\n",
    "obj = ParameterOptionsDictionary()\n",
    "display(HTML(obj.to_table(fmt='html')))"
   ]
  },
  {
   "cell_type": "markdown",
   "metadata": {},
   "source": [
    "By default, Dymos assumes that the ODE is defined such that a value of the parameter is provided at each node.\n",
    "This makes it easier to define the partials for the ODE in a way such that some inputs may be used interchangeably as either controls or parameters.\n",
    "If an ODE input is only to be used as a static variable (and not sized as `num_nodes` in the first dimension), then the user may specify option `static_target = True` to override this behavior.\n",
    "\n",
    "### Tagging Variables\n",
    "\n",
    "Dymos will also automatically find and add any states that have been declared in components in the ODE. The syntax\n",
    "for declaring them is as follows."
   ]
  },
  {
   "cell_type": "markdown",
   "metadata": {},
   "source": [
    "```python\n",
    "self.add_output('vdot', val=np.zeros(nn), desc='acceleration magnitude', units='m/s**2',\n",
    "                tags=['dymos.state_rate_source:v', 'dymos.state_units:m/s'])\n",
    "```"
   ]
  },
  {
   "cell_type": "markdown",
   "metadata": {},
   "source": [
    "The state is defined by adding tags to the state rate's output.\n",
    "The tag 'dymos.state_rate_source:v' declares that 'v' is the state for which this output ('vdot') is the rate source.\n",
    "You can also optionally use a tag in the format 'dymos.state_units:m/s' to define units for that state.\n",
    "If you need to set any other options, then use `set_state_options` at the phase level.\n",
    "\n",
    "Inputs which are sized as 'static' in the ODE (the first dimension is _not_ the number of nodes), must be made known to Dymos when using them as parameters.\n",
    "This is normally accomplished with the 'static_target=True' option when calling add_parameter.\n",
    "To avoid repetitive use of this option, users can add the tag 'dymos.static_target' to any input which should always be considered static.\n",
    "When connecting to multiple targets, a 'dymos.static_target' tag on one of them will result in all of them being considered static.\n",
    "Inputs tagged with 'dymos.static_target' cannot be used as controls or polynomial controls.\n",
    "\n",
    "| Tag                                  | Applies to | Description                                                                                                                                                                                                                 |\n",
    "|--------------------------------------|------------|-----------------------------------------------------------------------------------------------------------------------------------------------------------------------------------------------------------------------------|\n",
    "| dymos.state_rate_source:{state_name} | Outputs    | Specifies that the tagged output provides the rate used to integrate the state of the given name.                                                                                                                           |\n",
    "| dymos.state_units:{units}            | Outputs    | Specifies the default units to be used for the state whose rate is provided by the tagged output. May only be used on outputs also tagged with 'dymos.state_rate_source:{state_name}'.                                      |\n",
    "| dymos.static_target                  | Inputs     | Specifies that the input is _not_ shaped with num_nodes as the first dimension. This effects the way in which parameters are connected to the input. Inputs tagged with 'dymos.static_target' cannot be used as controls.   |\n",
    "\n",
    "## Automatic target detection\n",
    "\n",
    "Dymos will attempt to automatically connect variables to targets in the same name if those targets\n",
    "exist at the top-level of the ODE and have the same name as the state, control, parameter, or 'time'.\n",
    "\n",
    "## Vectorizing the ODE\n",
    "\n",
    "In addition to specifying the ODE Options, a system used as an ODE is required to have a metadata\n",
    "entry called `num_nodes`.  When evaluating the dynamics, these systems will receive time, states,\n",
    "controls, and other inputs as *vectorized* values, where item in the vector represents the variable\n",
    "value at a discrete time in the trajectory.\n",
    "\n",
    "The nodes are discretization or collocation locations in the polynomials which represent\n",
    "each segment.  The number of nodes in a given phase (to be evaluated by the ODE system) is determined\n",
    "by the number of segments in the phase and the polynomial order in each segment.  When Dymos instantiates\n",
    "the ODE system it provides the total number of nodes at which evaluation is required to the ODE system.\n",
    "Thus, at a minimum, the `initialize` method of components for an ODE system typically look something\n",
    "like this:"
   ]
  },
  {
   "cell_type": "code",
   "execution_count": null,
   "metadata": {},
   "outputs": [],
   "source": [
    "class MyODESystem(om.ExplicitComponent):\n",
    "\n",
    "    def initialize(self):\n",
    "        self.metadata.declare('num_nodes', types=int)"
   ]
  },
  {
   "cell_type": "markdown",
   "metadata": {},
   "source": [
    "The inputs and outputs of the system are expected to provide a scalar or dimensioned\n",
    "value *at each node*.  Vectorization of the component via numpy adds a significant performance increase\n",
    "compared to using a for loop to cycle through calculations at each node.  It's important to remember\n",
    "that vectorized data is going to be coming in, this is especially important for defining partials.\n",
    "From the perspective of the ODE system, the outputs at some time `t` only depend on the values\n",
    "of the input variables at time `t`.  When the output variables are scalar at any given time, this\n",
    "results in components whose Jacobian matrices are diagonal.  This large degree of sparsity leads\n",
    "to computational advantages when using sparse-aware optimizers like SNOPT.  Users should declare\n",
    "the partial derivatives of their components to be sparse (by specifying nonzero rows and columns)\n",
    "whenever possible.\n",
    "\n",
    "For example, if `MyODEComponent` is to compute the linear function $y = a * x + b$ then the\n",
    "setup, compute, and compute partials methods might look like this:"
   ]
  },
  {
   "cell_type": "code",
   "execution_count": null,
   "metadata": {},
   "outputs": [],
   "source": [
    "def setup(self):\n",
    "    nn = self.metadata['num_nodes']\n",
    "\n",
    "    self.add_input('a', shape=(nn,), units='m')\n",
    "    self.add_input('x', shape=(nn,), units='1/s')\n",
    "    self.add_input('b', shape=(nn,), units='m/s')\n",
    "\n",
    "    self.add_output('y', shape=(nn,), units='m/s')\n",
    "\n",
    "    r = c = np.arange(nn)\n",
    "    self.declare_partials(of='y', wrt='a', rows=r, cols=c)\n",
    "    self.declare_partials(of='y', wrt='x', rows=r, cols=c)\n",
    "    self.declare_partials(of='y', wrt='b', rows=r, cols=c, val=1.0)\n",
    "\n",
    "def compute(self, inputs, outputs):\n",
    "    a = inputs['a']\n",
    "    x = inputs['x']\n",
    "    b = inputs['b']\n",
    "\n",
    "    outputs['y'] = a * x + b\n",
    "\n",
    "def compute_partials(self, inputs, outputs, partials):\n",
    "    a = inputs['a']\n",
    "    x = inputs['x']\n",
    "    b = inputs['b']\n",
    "\n",
    "    partials['y', 'a'] = x\n",
    "    partials['y', 'x'] = a"
   ]
  },
  {
   "cell_type": "markdown",
   "metadata": {},
   "source": [
    "A few things to note here.  We can use the `shape` or `val` argument of `add_input` and `add_output`\n",
    "to dimension each variable.  In this case each variable is assumed to be a scalar at each point in\n",
    "time (each node).  We use the `rows` and `cols` arguments of `declare_partials` to provide the sparsity.\n",
    "Here using `arange(nn)` for both gives us a diagonal jacobian with `nn` rows and `nn` columns.  Since\n",
    "the number of nonzero values in the jacobian is `nn`, we only need to provide `nn` values in the\n",
    "`compute_partials` method.  It will automatically fill them into the sparse jacobian matrix, in\n",
    "row-major order.\n",
    "\n",
    "In this example, the partial of `y` with respect to `b` is linear, so we can simply provide it in\n",
    "the `declare_partials` call rather than reassigning it every time `compute_partials` is called.\n",
    "The provided scalar value of `1.0` is broadcast to all `nn` values of the Jacobian matrix.\n",
    "\n",
    "## Dimensioned Inputs and Outputs\n",
    "\n",
    "The above example assumes all inputs and outputs are scalar at each node.  Sometimes the user may\n",
    "encounter a situation in which the inputs and/or outputs are vectors, matrices, or tensors at\n",
    "each node.  In this case the dimension of the variable is `num_nodes`, with the dimension of the\n",
    "variable at a single node filling out the remaining indices. A 3-vector is thus dimensioned\n",
    "`(num_nodes, 3)`, while a 3 x 3 matrix would be sized `(num_nodes, 3, 3)`.\n",
    "\n",
    "##  Non-Vector Inputs\n",
    "\n",
    "Declaring inputs as vectors means that they have the potential to be used either as parameters or as dynamic controls which can assume a different value at each node.\n",
    "For some quantities, such as gravitational acceleration in the Brachistochrone example, we can assume that the value will never need to be dynamic.\n",
    "To accommodate this, parameters can be declared static with the argument `static_target=True`.\n",
    "This prevents Dymos from \"fanning out\" the static value to the *n* nodes in the ODE system.\n",
    "\n",
    "##  Providing the ODE to the Phase\n",
    "\n",
    "Phases in Dymos are instantiated with both the `ode_class` and the `transcription` to be used.\n",
    "Internally, Dymos needs to instantiate the ODE multiple times.\n",
    "This instantiation takes the form:"
   ]
  },
  {
   "cell_type": "markdown",
   "metadata": {},
   "source": [
    "```python\n",
    "ode_instance = ode_class(num_nodes=<int>, **ode_init_kwargs)\n",
    "```"
   ]
  },
  {
   "cell_type": "markdown",
   "metadata": {},
   "source": [
    "This allows an OpenMDAO ExecComp to be used as an ODE via a lambda.\n",
    "For instance, the brachistochrone ODE can be written as:"
   ]
  },
  {
   "cell_type": "code",
   "execution_count": null,
   "metadata": {},
   "outputs": [],
   "source": [
    "ode = lambda num_nodes: om.ExecComp(['vdot = g * cos(theta)',\n",
    "                                     'xdot = v * sin(theta)',\n",
    "                                     'ydot = -v * cos(theta)'],\n",
    "                                    g={'value': 9.80665, 'units': 'm/s**2'},\n",
    "                                    v={'shape': (num_nodes,), 'units': 'm/s'},\n",
    "                                    theta={'shape': (num_nodes,), 'units': 'rad'},\n",
    "                                    vdot={'shape': (num_nodes,),\n",
    "                                          'units': 'm/s**2',\n",
    "                                          'tags': ['state_rate_source:v']},\n",
    "                                    xdot={'shape': (num_nodes,),\n",
    "                                          'units': 'm/s',\n",
    "                                          'tags': ['state_rate_source:v']},\n",
    "                                    ydot={'shape': (num_nodes,),\n",
    "                                          'units': 'm/s',\n",
    "                                          'tags': ['state_rate_source:v']},\n",
    "                                    has_diag_partials=True)\n",
    "\n",
    "t = dm.Radau(num_segments=10, order=3)\n",
    "phase = dm.Phase(ode_class=ode, transcription=t)"
   ]
  },
  {
   "cell_type": "markdown",
   "metadata": {},
   "source": [
    "Note the use of `has_diag_partials=True` to provide more efficient graph coloring for the derivatives.\n",
    "\n",
    "In theory, this also means you can implement Python's `__call__` method for an ODE.\n",
    "The following code will return a copy of the brachistochrone ODE with the appropriate number of nodes.\n",
    "Note that the implementation below does not deal with any options provided via the `ode_init_kwargs`."
   ]
  },
  {
   "cell_type": "code",
   "execution_count": null,
   "metadata": {},
   "outputs": [],
   "source": [
    "class CallableBrachistochroneODE(om.ExplicitComponent):\n",
    "\n",
    "    def initialize(self):\n",
    "        self.options.declare('num_nodes', types=int)\n",
    "\n",
    "    def __call__(self, num_nodes, **kwargs):\n",
    "        from copy import deepcopy\n",
    "        ret = deepcopy(self)\n",
    "        ret.options['num_nodes'] = num_nodes\n",
    "        return ret\n",
    "\n",
    "    def setup(self):\n",
    "        nn = self.options['num_nodes']\n",
    "\n",
    "        # Inputs\n",
    "        self.add_input('v', val=np.zeros(nn), desc='velocity', units='m/s')\n",
    "\n",
    "        self.add_input('g', val=9.80665, desc='grav. acceleration', units='m/s/s')\n",
    "\n",
    "        self.add_input('theta', val=np.ones(nn), desc='angle of wire', units='rad')\n",
    "\n",
    "        # Outputs\n",
    "        self.add_output('xdot', val=np.zeros(nn), desc='velocity component in x', units='m/s',\n",
    "                        tags=['state_rate_source:x', 'state_units:m'])\n",
    "\n",
    "        self.add_output('ydot', val=np.zeros(nn), desc='velocity component in y', units='m/s',\n",
    "                        tags=['state_rate_source:y', 'state_units:m'])\n",
    "\n",
    "        self.add_output('vdot', val=np.zeros(nn), desc='acceleration magnitude', units='m/s**2',\n",
    "                        tags=['state_rate_source:v', 'state_units:m/s'])\n",
    "\n",
    "        # Derivatives\n",
    "        self.declare_partials(of='*', wrt='*', method='cs')\n",
    "        self.declare_coloring(wrt='*', tol=1.0E-12)"
   ]
  },
  {
   "cell_type": "markdown",
   "metadata": {},
   "source": [
    "An instance of the above ODE can then be provided to the phase upon instantiation."
   ]
  },
  {
   "cell_type": "code",
   "execution_count": null,
   "metadata": {},
   "outputs": [],
   "source": [
    "ode = CallableBrachistochroneODE(num_nodes=1)\n",
    "t = dm.Radau(num_segments=10, order=3)\n",
    "phase = dm.Phase(ode_class=ode, transcription=t)"
   ]
  },
  {
   "cell_type": "markdown",
   "metadata": {},
   "source": [
    "This can potentially lead to unintended behavior if multiple copeis of the ODE are intended to share data.\n",
    "See [the Python docs](https://docs.python.org/3/library/copy.html) for some of the limitations of deepcopy.\n"
   ]
  }
 ],
 "metadata": {
  "celltoolbar": "Tags",
  "jupytext": {
   "cell_metadata_filter": "-all",
   "notebook_metadata_filter": "-all",
   "text_representation": {
    "extension": ".md",
    "format_name": "markdown"
   }
  },
  "kernelspec": {
   "display_name": "Python 3",
   "language": "python",
   "name": "python3"
  },
  "language_info": {
   "codemirror_mode": {
    "name": "ipython",
    "version": 3
   },
   "file_extension": ".py",
   "mimetype": "text/x-python",
   "name": "python",
   "nbconvert_exporter": "python",
   "pygments_lexer": "ipython3",
   "version": "3.7.3"
  }
 },
 "nbformat": 4,
 "nbformat_minor": 4
}
