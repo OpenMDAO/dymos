{
 "cells": [
  {
   "cell_type": "code",
   "execution_count": null,
   "metadata": {
    "tags": [
     "active-ipynb",
     "remove-input",
     "remove-output"
    ]
   },
   "outputs": [],
   "source": [
    "try:\n",
    "    import openmdao.api as om\n",
    "    import dymos as dm\n",
    "except ImportError:\n",
    "    !python -m pip install openmdao[notebooks]\n",
    "    !python -m pip install dymos[docs]\n",
    "    import openmdao.api as om\n",
    "    import dymos as dm"
   ]
  },
  {
   "cell_type": "markdown",
   "metadata": {},
   "source": [
    "# Double Integrator\n",
    "\n",
    "In the double integrator problem, we seek to maximize the distance\n",
    "traveled by a block (that starts and ends at rest) sliding without\n",
    "friction along a horizontal surface, with acceleration as the control.\n",
    "\n",
    "We minimize the final time, $t_f$, by varying the dynamic control,\n",
    "$u$, subject to the dynamics:\n",
    "\n",
    "\\begin{align}\n",
    "  \\frac{dx}{dt} &= v \\\\\n",
    "  \\frac{dv}{dt} &= u\n",
    "\\end{align}\n",
    "\n",
    "The initial conditions are\n",
    "\n",
    "\\begin{align}\n",
    "  x_0 &= 0 \\\\\n",
    "  v_0 &= 0\n",
    "\\end{align}\n",
    "\n",
    "and the final conditions are\n",
    "\n",
    "\\begin{align}\n",
    "  x_f &= \\rm{free} \\\\\n",
    "  v_f &= 0\n",
    "\\end{align}\n",
    "\n",
    "The control $u$ is constrained to fall between -1 and 1. Due to the fact\n",
    "that the control appears linearly in the equations of motion, we should\n",
    "expect _bang-bang_ behavior in the control (alternation between its extreme values).\n",
    "\n",
    "## The ODE System: double\\_integrator\\_ode.py\n",
    "\n",
    "This problem is unique in that we do not actually have to calculate\n",
    "anything in the Dymos formulation of the ODE. We create an\n",
    "_ExplicitComponent_ and provide it with the _num\\_nodes_\n",
    "option, but it has no inputs and no outputs. The rates for the states\n",
    "are entirely provided by the other states and controls."
   ]
  },
  {
   "cell_type": "code",
   "execution_count": null,
   "metadata": {},
   "outputs": [],
   "source": [
    "class DoubleIntegratorODE(om.ExplicitComponent):\n",
    "    \"\"\"\n",
    "    The double integrator is a special case where the state rates are all set to other states\n",
    "    or parameters.  Since we aren't computing any other outputs, the ODE doesn't actually\n",
    "    need to compute anything.  OpenMDAO will warn us that the component has no outputs, but\n",
    "    Dymos will solve the problem just fine.\n",
    "\n",
    "    Note we still have to declare the num_nodes option in initialize so that Dymos can instantiate\n",
    "    the ODE.\n",
    "\n",
    "    Also note that neither time, states, nor parameters have targets, since there are no inputs\n",
    "    in the ODE system.\n",
    "    \"\"\"\n",
    "\n",
    "    def initialize(self):\n",
    "        self.options.declare('num_nodes', types=int)"
   ]
  },
  {
   "cell_type": "markdown",
   "metadata": {},
   "source": [
    "## Building and running the problem\n",
    "\n",
    "In order to facilitate the bang-bang behavior in the control, we disable\n",
    "continuity and rate continuity in the control value."
   ]
  },
  {
   "cell_type": "code",
   "execution_count": null,
   "metadata": {
    "tags": [
     "remove-input",
     "hide-output"
    ]
   },
   "outputs": [],
   "source": [
    "om.display_source(\"dymos.examples.double_integrator.double_integrator_ode\")"
   ]
  },
  {
   "cell_type": "code",
   "execution_count": null,
   "metadata": {
    "scrolled": true,
    "tags": [
     "output_scroll"
    ]
   },
   "outputs": [],
   "source": [
    "import matplotlib.pyplot as plt\n",
    "import openmdao.api as om\n",
    "import dymos as dm\n",
    "from dymos.examples.plotting import plot_results\n",
    "from dymos.examples.double_integrator.double_integrator_ode import DoubleIntegratorODE\n",
    "\n",
    "# Initialize the problem and assign the driver\n",
    "p = om.Problem(model=om.Group())\n",
    "p.driver = om.pyOptSparseDriver()\n",
    "p.driver.options['optimizer'] = 'SLSQP'\n",
    "p.driver.declare_coloring()\n",
    "\n",
    "# Setup the trajectory and its phase\n",
    "traj = p.model.add_subsystem('traj', dm.Trajectory())\n",
    "\n",
    "transcription = dm.Radau(num_segments=30, order=3, compressed=False)\n",
    "\n",
    "phase = traj.add_phase('phase0',\n",
    "                       dm.Phase(ode_class=DoubleIntegratorODE, transcription=transcription))\n",
    "\n",
    "#\n",
    "# Set the options for our variables.\n",
    "#\n",
    "phase.set_time_options(fix_initial=True, fix_duration=True, units='s')\n",
    "phase.add_state('v', fix_initial=True, fix_final=True, rate_source='u', units='m/s')\n",
    "phase.add_state('x', fix_initial=True, rate_source='v', units='m')\n",
    "\n",
    "phase.add_control('u', units='m/s**2', scaler=0.01, continuity=False, rate_continuity=False,\n",
    "                  rate2_continuity=False, shape=(1, ), lower=-1.0, upper=1.0)\n",
    "\n",
    "#\n",
    "# Maximize distance travelled.\n",
    "#\n",
    "phase.add_objective('x', loc='final', scaler=-1)\n",
    "\n",
    "p.model.linear_solver = om.DirectSolver()\n",
    "\n",
    "#\n",
    "# Setup the problem and set our initial values.\n",
    "#\n",
    "p.setup(check=True)\n",
    "\n",
    "p['traj.phase0.t_initial'] = 0.0\n",
    "p['traj.phase0.t_duration'] = 1.0\n",
    "\n",
    "p.set_val('traj.phase0.states:x', phase.interp('x', ys=[0, 0.25]))\n",
    "p.set_val('traj.phase0.states:v', phase.interp('v', ys=[0, 0]))\n",
    "p.set_val('traj.phase0.controls:u', phase.interp('u', ys=[1, -1]))\n",
    "\n",
    "#\n",
    "# Solve the problem.\n",
    "#\n",
    "dm.run_problem(p)\n",
    "\n",
    "#\n",
    "# Verify that the results are correct.\n",
    "#\n",
    "x = p.get_val('traj.phase0.timeseries.states:x')\n",
    "v = p.get_val('traj.phase0.timeseries.states:v')\n",
    "\n",
    "\n",
    "#\n",
    "# Simulate the explicit solution and plot the results.\n",
    "#\n",
    "exp_out = traj.simulate()\n",
    "\n",
    "plot_results([('traj.phase0.timeseries.time', 'traj.phase0.timeseries.states:x',\n",
    "               'time (s)', 'x $(m)$'),\n",
    "              ('traj.phase0.timeseries.time', 'traj.phase0.timeseries.states:v',\n",
    "               'time (s)', 'v $(m/s)$'),\n",
    "              ('traj.phase0.timeseries.time', 'traj.phase0.timeseries.controls:u',\n",
    "               'time (s)', 'u $(m/s^2)$')],\n",
    "             title='Double Integrator Solution\\nRadau Pseudospectral Method',\n",
    "             p_sol=p, p_sim=exp_out)\n",
    "\n",
    "plt.show()"
   ]
  },
  {
   "cell_type": "code",
   "execution_count": null,
   "metadata": {
    "tags": [
     "remove-input",
     "remove-output"
    ]
   },
   "outputs": [],
   "source": [
    "from openmdao.utils.assert_utils import assert_near_equal\n",
    "\n",
    "assert_near_equal(x[0], 0.0, tolerance=1.0E-4)\n",
    "assert_near_equal(x[-1], 0.25, tolerance=1.0E-4)\n",
    "\n",
    "assert_near_equal(v[0], 0.0, tolerance=1.0E-4)\n",
    "assert_near_equal(v[-1], 0.0, tolerance=1.0E-4)"
   ]
  }
 ],
 "metadata": {
  "celltoolbar": "Tags",
  "jupytext": {
   "cell_metadata_filter": "-all",
   "notebook_metadata_filter": "-all",
   "text_representation": {
    "extension": ".md",
    "format_name": "markdown"
   }
  },
  "kernelspec": {
   "display_name": "Python 3",
   "language": "python",
   "name": "python3"
  },
  "language_info": {
   "codemirror_mode": {
    "name": "ipython",
    "version": 3
   },
   "file_extension": ".py",
   "mimetype": "text/x-python",
   "name": "python",
   "nbconvert_exporter": "python",
   "pygments_lexer": "ipython3",
   "version": "3.8.3"
  }
 },
 "nbformat": 4,
 "nbformat_minor": 4
}
