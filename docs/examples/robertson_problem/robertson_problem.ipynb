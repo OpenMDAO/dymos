{
 "cells": [
  {
   "cell_type": "code",
   "execution_count": null,
   "metadata": {
    "tags": [
     "active-ipynb",
     "remove-input",
     "remove-output"
    ]
   },
   "outputs": [],
   "source": [
    "try:\n",
    "    import openmdao.api as om\n",
    "    import dymos as dm\n",
    "except ImportError:\n",
    "    !python -m pip install openmdao[notebooks]\n",
    "    !python -m pip install dymos[docs]\n",
    "    import openmdao.api as om\n",
    "    import dymos as dm"
   ]
  },
  {
   "cell_type": "markdown",
   "metadata": {},
   "source": [
    "(examples:the_robertson_problem)=\n",
    "\n",
    "# The Robertson Problem\n",
    "\n",
    "The [Robertson Problem](https://en.wikipedia.org/w/index.php?title=Stiff_equation&oldid=1017928453#Motivating_example) is a famous example for a [stiff ODE](https://en.wikipedia.org/w/index.php?title=Stiff_equation&oldid=1017928453). Solving stiff ODEs with [explicit integration methods](https://en.wikipedia.org/w/index.php?title=Explicit_and_implicit_methods&oldid=1036001392) leads to unstable behaviour unless an extremly small step size is choosen. [Implicit methods](https://en.wikipedia.org/w/index.php?title=Explicit_and_implicit_methods&oldid=1036001392) such as the [Radau](https://en.wikipedia.org/w/index.php?title=Runge%E2%80%93Kutta_methods&oldid=1052924118#Implicit_Runge%E2%80%93Kutta_methods), [BDF](https://en.wikipedia.org/w/index.php?title=Backward_differentiation_formula&oldid=1027943694) and LSODA methods can help solve such problems. The following example shows how to solve the Robertson Problem using [SciPys LSODA method](https://docs.scipy.org/doc/scipy/reference/generated/scipy.integrate.solve_ivp.html#scipy.integrate.solve_ivp) and Dymos. \n",
    "\n",
    "### The ODE system\n",
    "\n",
    "The ODE of the Robertson Problem is\n",
    "\n",
    "\\begin{align}\n",
    "    \\dot x = &        - 0.04 x + 10^4 y \\cdot z &                          \\\\\n",
    "    \\dot y = & \\;\\;\\;\\: 0.04 x - 10^4 y \\cdot z &        - 3\\cdot 10^7 y^2 \\\\\n",
    "    \\dot z = &                                  & \\;\\;\\;\\: 3\\cdot 10^7 y^2 \\\\\n",
    "\\end{align}\n",
    "\n",
    "where $x$, $y$ and $z$ are arbitrary states. The initial conditions are\n",
    "\n",
    "\\begin{align}\n",
    "    x_0 &= 1 \\\\\n",
    "    y_0 &= z_0 = 0.\n",
    "\\end{align}\n",
    "\n",
    "The problem is solved for the time interval $t\\in[0,40)$. There are no controls and constraints."
   ]
  },
  {
   "cell_type": "code",
   "execution_count": null,
   "metadata": {},
   "outputs": [],
   "source": [
    "import numpy as np\n",
    "import openmdao.api as om\n",
    "\n",
    "class RobertsonODE(om.ExplicitComponent):\n",
    "    \"\"\"example for a stiff ODE from Robertson.\n",
    "    \"\"\"\n",
    "\n",
    "    def initialize(self):\n",
    "        self.options.declare('num_nodes', types=int)\n",
    "\n",
    "    def setup(self):\n",
    "        nn = self.options['num_nodes']\n",
    "\n",
    "        # input: state\n",
    "        self.add_input('x', shape=nn, desc=\"state x\", units=None)\n",
    "        self.add_input('y', shape=nn, desc=\"state y\", units=None)\n",
    "        self.add_input('z', shape=nn, desc=\"state z\", units=None)\n",
    "        \n",
    "        # output: derivative of state\n",
    "        self.add_output('xdot', shape=nn, desc='derivative of x', units=\"1/s\")\n",
    "        self.add_output('ydot', shape=nn, desc='derivative of y', units=\"1/s\")\n",
    "        self.add_output('zdot', shape=nn, desc='derivative of z', units=\"1/s\")\n",
    "\n",
    "        r = np.arange(0, nn)\n",
    "        self.declare_partials(of='*', wrt='*', method='exact',  rows=r, cols=r)\n",
    "\n",
    "    def compute(self, inputs, outputs):\n",
    "\n",
    "        x = inputs['x']\n",
    "        y = inputs['y']\n",
    "        z = inputs['z']\n",
    "\n",
    "        xdot = -0.04 * x + 1e4 * y * z\n",
    "        zdot = 3e7 * y ** 2\n",
    "        ydot = - ( xdot + zdot )\n",
    "        \n",
    "        outputs['xdot'] = xdot\n",
    "        outputs['ydot'] = ydot\n",
    "        outputs['zdot'] = zdot\n",
    "        \n",
    "\n",
    "    def compute_partials(self, inputs, jacobian):\n",
    "\n",
    "        x = inputs['x']\n",
    "        y = inputs['y']\n",
    "        z = inputs['z']\n",
    "\n",
    "        xdot_y = 1e4 * z\n",
    "        xdot_z = 1e4 * y\n",
    "\n",
    "        zdot_y = 6e7 * y\n",
    "\n",
    "\n",
    "        jacobian['xdot', 'x'] = -0.04\n",
    "        jacobian['xdot', 'y'] = xdot_y\n",
    "        jacobian['xdot', 'z'] = xdot_z\n",
    "\n",
    "        jacobian['ydot', 'x'] = 0.04\n",
    "        jacobian['ydot', 'y'] = - ( xdot_y + zdot_y )\n",
    "        jacobian['ydot', 'z'] = - xdot_z\n",
    "\n",
    "        jacobian['zdot', 'x'] = 0.0\n",
    "        jacobian['zdot', 'y'] = zdot_y\n",
    "        jacobian['zdot', 'z'] = 0.0\n",
    "\n"
   ]
  },
  {
   "cell_type": "code",
   "execution_count": null,
   "metadata": {
    "tags": [
     "remove-input",
     "remove-output"
    ]
   },
   "outputs": [],
   "source": [
    "num_nodes = 3\n",
    "\n",
    "p = om.Problem(model=om.Group())\n",
    "\n",
    "p.model.add_subsystem('ode', RobertsonODE(num_nodes=num_nodes), promotes=['*'])\n",
    "\n",
    "p.setup(force_alloc_complex=True)\n",
    "\n",
    "p.set_val('x', [10., 100., 1000.])\n",
    "p.set_val('y', [1, 0.1, 0.01])\n",
    "p.set_val('z', [1., 2., 3.])\n",
    "\n",
    "p.run_model()\n",
    "cpd = p.check_partials(method='cs', compact_print=True)"
   ]
  },
  {
   "cell_type": "code",
   "execution_count": null,
   "metadata": {
    "tags": [
     "remove-input",
     "remove-output"
    ]
   },
   "outputs": [],
   "source": [
    "from dymos.utils.testing_utils import assert_check_partials\n",
    "\n",
    "assert_check_partials(cpd)"
   ]
  },
  {
   "cell_type": "code",
   "execution_count": null,
   "metadata": {
    "scrolled": true,
    "tags": [
     "remove-input",
     "remove-output"
    ]
   },
   "outputs": [],
   "source": [
    "from openmdao.utils.assert_utils import assert_near_equal\n",
    "\n",
    "assert_near_equal(p.get_val('xdot'), [9999.6, 1996., 260.])"
   ]
  },
  {
   "cell_type": "code",
   "execution_count": null,
   "metadata": {
    "scrolled": false,
    "tags": [
     "remove-input",
     "remove-output"
    ]
   },
   "outputs": [],
   "source": [
    "from openmdao.utils.assert_utils import assert_near_equal\n",
    "\n",
    "assert_near_equal(p.get_val('ydot'), [-3.00099996E7, -3.01996E5, -3.26E3])"
   ]
  },
  {
   "cell_type": "code",
   "execution_count": null,
   "metadata": {
    "tags": [
     "remove-input",
     "remove-output"
    ]
   },
   "outputs": [],
   "source": [
    "from openmdao.utils.assert_utils import assert_near_equal\n",
    "\n",
    "assert_near_equal(p.get_val('zdot'), [3.0E7, 3.0E5, 3.0E3])"
   ]
  },
  {
   "cell_type": "markdown",
   "metadata": {},
   "source": [
    "## Building and running the problem"
   ]
  },
  {
   "cell_type": "code",
   "execution_count": null,
   "metadata": {},
   "outputs": [],
   "source": [
    "import openmdao.api as om\n",
    "import dymos as dm\n",
    "\n",
    "def robertson_problem(t_final=1.):\n",
    "    #\n",
    "    # Initialize the Problem\n",
    "    #\n",
    "    p = om.Problem(model=om.Group())\n",
    "    \n",
    "    #\n",
    "    # Create a trajectory and add a phase to it\n",
    "    #\n",
    "    traj = p.model.add_subsystem('traj', dm.Trajectory())\n",
    "\n",
    "    phase = traj.add_phase('phase0',\n",
    "                           dm.Phase(ode_class=RobertsonODE,\n",
    "                                    transcription=dm.GaussLobatto(num_segments=50)\n",
    "                                   ))\n",
    "\n",
    "    #\n",
    "    # Set the variables\n",
    "    #\n",
    "    phase.set_time_options(fix_initial=True, fix_duration=True)\n",
    "\n",
    "    phase.add_state('x0', fix_initial=True, fix_final=False, rate_source='xdot', targets='x')\n",
    "    phase.add_state('y0', fix_initial=True, fix_final=False, rate_source='ydot', targets='y')\n",
    "    phase.add_state('z0', fix_initial=True, fix_final=False, rate_source='zdot', targets='z')\n",
    "\n",
    "    #\n",
    "    # Setup the Problem\n",
    "    #\n",
    "    p.setup(check=True)\n",
    "\n",
    "    #\n",
    "    # Set the initial values\n",
    "    #\n",
    "    p['traj.phase0.t_initial'] = 0.0\n",
    "    p['traj.phase0.t_duration'] = t_final\n",
    "\n",
    "    p.set_val('traj.phase0.states:x0', phase.interp('x0', ys=[1.0, 0.7]))\n",
    "    p.set_val('traj.phase0.states:y0', phase.interp('y0', ys=[0.0, 1e-5]))\n",
    "    p.set_val('traj.phase0.states:z0', phase.interp('z0', ys=[0.0, 0.3]))\n",
    "\n",
    "    return p\n"
   ]
  },
  {
   "cell_type": "code",
   "execution_count": null,
   "metadata": {
    "tags": [
     "output_scroll"
    ]
   },
   "outputs": [],
   "source": [
    "# just set up the problem, test it elsewhere\n",
    "p = robertson_problem(t_final=40)\n",
    "\n",
    "p.run_model()\n",
    "\n",
    "p_sim = p.model.traj.simulate(method='LSODA')"
   ]
  },
  {
   "cell_type": "code",
   "execution_count": null,
   "metadata": {
    "tags": [
     "remove-input",
     "remove-output"
    ]
   },
   "outputs": [],
   "source": [
    "from openmdao.utils.assert_utils import assert_near_equal\n",
    "\n",
    "assert_near_equal(p_sim.get_val('traj.phase0.timeseries.states:x0')[-1], 0.71583161, tolerance=1E-5)"
   ]
  },
  {
   "cell_type": "code",
   "execution_count": null,
   "metadata": {
    "tags": [
     "remove-input",
     "remove-output"
    ]
   },
   "outputs": [],
   "source": [
    "from openmdao.utils.assert_utils import assert_near_equal\n",
    "\n",
    "assert_near_equal(p_sim.get_val('traj.phase0.timeseries.states:y0')[-1], 9.18571144e-06, tolerance=1E-1)"
   ]
  },
  {
   "cell_type": "code",
   "execution_count": null,
   "metadata": {
    "tags": [
     "remove-input",
     "remove-output"
    ]
   },
   "outputs": [],
   "source": [
    "from openmdao.utils.assert_utils import assert_near_equal\n",
    "\n",
    "assert_near_equal(p_sim.get_val('traj.phase0.timeseries.states:z0')[-1], 0.2841592, tolerance=1E-5)"
   ]
  },
  {
   "cell_type": "code",
   "execution_count": null,
   "metadata": {},
   "outputs": [],
   "source": [
    "import matplotlib.pyplot as plt\n",
    "\n",
    "t_sim = p_sim.get_val('traj.phase0.timeseries.time')\n",
    "\n",
    "states = ['x0', 'y0', 'z0']\n",
    "fig, axes = plt.subplots(len(states), 1)\n",
    "for i, state in enumerate(states):\n",
    "    axes[i].plot(t_sim, p_sim.get_val(f'traj.phase0.timeseries.states:{state}'), '-')\n",
    "    axes[i].set_ylabel(state[0])\n",
    "axes[-1].set_xlabel('time (s)')\n",
    "plt.tight_layout()\n",
    "plt.show()"
   ]
  }
 ],
 "metadata": {
  "celltoolbar": "Tags",
  "jupytext": {
   "cell_metadata_filter": "-all",
   "notebook_metadata_filter": "-all",
   "text_representation": {
    "extension": ".md",
    "format_name": "markdown"
   }
  },
  "kernelspec": {
   "display_name": "Python 3 (ipykernel)",
   "language": "python",
   "name": "python3"
  },
  "language_info": {
   "codemirror_mode": {
    "name": "ipython",
    "version": 3
   },
   "file_extension": ".py",
   "mimetype": "text/x-python",
   "name": "python",
   "nbconvert_exporter": "python",
   "pygments_lexer": "ipython3",
   "version": "3.9.7"
  }
 },
 "nbformat": 4,
 "nbformat_minor": 4
}
