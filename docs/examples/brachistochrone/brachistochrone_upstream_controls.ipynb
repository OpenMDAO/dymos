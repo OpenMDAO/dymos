{
 "cells": [
  {
   "cell_type": "code",
   "execution_count": null,
   "metadata": {
    "tags": [
     "active-ipynb",
     "remove-input",
     "remove-output"
    ]
   },
   "outputs": [],
   "source": [
    "try:\n",
    "    import openmdao.api as om\n",
    "    import dymos as dm\n",
    "except ImportError:\n",
    "    !python -m pip install openmdao[notebooks]\n",
    "    !python -m pip install dymos[docs]\n",
    "    import openmdao.api as om\n",
    "    import dymos as dm"
   ]
  },
  {
   "cell_type": "markdown",
   "metadata": {},
   "source": [
    "# The Brachistochrone with Externally-Sourced Controls\n",
    "\n",
    "```{admonition} Things you'll learn through this example\n",
    "- How to provide trajectory control values from an external source.\n",
    "```\n",
    "\n",
    "This example is the same as the other brachistochrone example with one exception:  the control values come from an external source upstream of the trajectory.\n",
    "\n",
    "The following script fully defines the brachistochrone problem with Dymos and solves it.\n",
    "A new `IndepVarComp` is added before the trajectory.\n",
    "The transcription used in the relevant phase is defined first so that we can obtain the number of control input nodes.\n",
    "The IndepVarComp then provides the control $\\theta$ at the correct number of nodes, and sends them to the trajectory.\n",
    "Since the control values are no longer managed by Dymos, they are added as design variables using the OpenMDAO `add_design_var` method."
   ]
  },
  {
   "cell_type": "code",
   "execution_count": null,
   "metadata": {
    "tags": [
     "remove-input",
     "hide-output"
    ]
   },
   "outputs": [],
   "source": [
    "om.display_source(\"dymos.examples.brachistochrone.doc.brachistochrone_ode\")"
   ]
  },
  {
   "cell_type": "code",
   "execution_count": null,
   "metadata": {},
   "outputs": [],
   "source": [
    "import numpy as np\n",
    "import openmdao.api as om\n",
    "import dymos as dm\n",
    "\n",
    "import matplotlib.pyplot as plt\n",
    "from dymos.examples.brachistochrone.brachistochrone_ode import BrachistochroneODE\n",
    "\n",
    "#\n",
    "# Define the OpenMDAO problem\n",
    "#\n",
    "p = om.Problem(model=om.Group())\n",
    "\n",
    "# Instantiate the transcription so we can get the number of nodes from it while\n",
    "# building the problem.\n",
    "tx = dm.GaussLobatto(num_segments=10, order=3)\n",
    "\n",
    "# Add an indep var comp to provide the external control values\n",
    "ivc = p.model.add_subsystem('control_ivc', om.IndepVarComp(), promotes_outputs=['*'])\n",
    "\n",
    "# Add the output to provide the values of theta at the control input nodes of the transcription.\n",
    "ivc.add_output('theta', shape=(tx.grid_data.subset_num_nodes['control_input']), units='rad')\n",
    "\n",
    "# Add this external control as a design variable\n",
    "p.model.add_design_var('theta', units='rad', lower=1.0E-5, upper=np.pi)\n",
    "# Connect this to controls:theta in the appropriate phase.\n",
    "# connect calls are cached, so we can do this before we actually add the trajectory to the problem.\n",
    "p.model.connect('theta', 'traj.phase0.controls:theta')\n",
    "\n",
    "#\n",
    "# Define a Trajectory object\n",
    "#\n",
    "traj = dm.Trajectory()\n",
    "\n",
    "p.model.add_subsystem('traj', subsys=traj)\n",
    "\n",
    "#\n",
    "# Define a Dymos Phase object with GaussLobatto Transcription\n",
    "#\n",
    "phase = dm.Phase(ode_class=BrachistochroneODE,\n",
    "                 transcription=tx)\n",
    "\n",
    "traj.add_phase(name='phase0', phase=phase)\n",
    "\n",
    "#\n",
    "# Set the time options\n",
    "# Time has no targets in our ODE.\n",
    "# We fix the initial time so that the it is not a design variable in the optimization.\n",
    "# The duration of the phase is allowed to be optimized, but is bounded on [0.5, 10].\n",
    "#\n",
    "phase.set_time_options(fix_initial=True, duration_bounds=(0.5, 10.0), units='s')\n",
    "\n",
    "#\n",
    "# Set the time options\n",
    "# Initial values of positions and velocity are all fixed.\n",
    "# The final value of position are fixed, but the final velocity is a free variable.\n",
    "# The equations of motion are not functions of position, so 'x' and 'y' have no targets.\n",
    "# The rate source points to the output in the ODE which provides the time derivative of the\n",
    "# given state.\n",
    "phase.add_state('x', fix_initial=True, fix_final=True, units='m', rate_source='xdot')\n",
    "phase.add_state('y', fix_initial=True, fix_final=True, units='m', rate_source='ydot')\n",
    "phase.add_state('v', fix_initial=True, fix_final=False, units='m/s',\n",
    "                rate_source='vdot', targets=['v'])\n",
    "\n",
    "# Define theta as a control.\n",
    "# Use opt=False to allow it to be connected to an external source.\n",
    "# Arguments lower and upper are no longer valid for an input control.\n",
    "phase.add_control(name='theta', targets=['theta'], opt=False)\n",
    "\n",
    "# Minimize final time.\n",
    "phase.add_objective('time', loc='final')\n",
    "\n",
    "# Set the driver.\n",
    "p.driver = om.ScipyOptimizeDriver()\n",
    "\n",
    "# Allow OpenMDAO to automatically determine our sparsity pattern.\n",
    "# Doing so can significant speed up the execution of Dymos.\n",
    "p.driver.declare_coloring()\n",
    "\n",
    "# Setup the problem\n",
    "p.setup(check=True)\n",
    "\n",
    "# Now that the OpenMDAO problem is setup, we can set the values of the states and controls.\n",
    "p.set_val('traj.phase0.states:x', phase.interp('x', [0, 10]), units='m')\n",
    "\n",
    "p.set_val('traj.phase0.states:y', phase.interp('y', [10, 5]), units='m')\n",
    "\n",
    "p.set_val('traj.phase0.states:v', phase.interp('v', [0, 5]), units='m/s')\n",
    "\n",
    "p.set_val('traj.phase0.controls:theta', phase.interp('theta', [90, 90]), units='deg')\n",
    "\n",
    "# Run the driver to solve the problem\n",
    "p.run_driver()\n",
    "\n",
    "# Test the results\n",
    "print(p.get_val('traj.phase0.timeseries.time')[-1])\n",
    "\n",
    "# Check the validity of our results by using scipy.integrate.solve_ivp to\n",
    "# integrate the solution.\n",
    "sim_out = traj.simulate()\n",
    "\n",
    "# Plot the results\n",
    "fig, axes = plt.subplots(nrows=1, ncols=2, figsize=(12, 4.5))\n",
    "\n",
    "axes[0].plot(p.get_val('traj.phase0.timeseries.states:x'),\n",
    "             p.get_val('traj.phase0.timeseries.states:y'),\n",
    "             'ro', label='solution')\n",
    "\n",
    "axes[0].plot(sim_out.get_val('traj.phase0.timeseries.states:x'),\n",
    "             sim_out.get_val('traj.phase0.timeseries.states:y'),\n",
    "             'b-', label='simulation')\n",
    "\n",
    "axes[0].set_xlabel('x (m)')\n",
    "axes[0].set_ylabel('y (m/s)')\n",
    "axes[0].legend()\n",
    "axes[0].grid()\n",
    "\n",
    "axes[1].plot(p.get_val('traj.phase0.timeseries.time'),\n",
    "             p.get_val('traj.phase0.timeseries.controls:theta', units='deg'),\n",
    "             'ro', label='solution')\n",
    "\n",
    "axes[1].plot(sim_out.get_val('traj.phase0.timeseries.time'),\n",
    "             sim_out.get_val('traj.phase0.timeseries.controls:theta', units='deg'),\n",
    "             'b-', label='simulation')\n",
    "\n",
    "axes[1].set_xlabel('time (s)')\n",
    "axes[1].set_ylabel(r'$\\theta$ (deg)')\n",
    "axes[1].legend()\n",
    "axes[1].grid()\n",
    "\n",
    "plt.show()"
   ]
  },
  {
   "cell_type": "code",
   "execution_count": null,
   "metadata": {
    "orphan": true,
    "tags": [
     "remove-input",
     "remove-output"
    ]
   },
   "outputs": [],
   "source": [
    "from openmdao.utils.assert_utils import assert_near_equal\n",
    "\n",
    "assert_near_equal(p.get_val('traj.phase0.timeseries.time')[-1], 1.8016,\n",
    "                  tolerance=1.0E-3)"
   ]
  }
 ],
 "metadata": {
  "celltoolbar": "Tags",
  "jupytext": {
   "cell_metadata_filter": "-all",
   "notebook_metadata_filter": "-all",
   "text_representation": {
    "extension": ".md",
    "format_name": "markdown"
   }
  },
  "kernelspec": {
   "display_name": "Python 3",
   "language": "python",
   "name": "python3"
  },
  "language_info": {
   "codemirror_mode": {
    "name": "ipython",
    "version": 3
   },
   "file_extension": ".py",
   "mimetype": "text/x-python",
   "name": "python",
   "nbconvert_exporter": "python",
   "pygments_lexer": "ipython3",
   "version": "3.8.3"
  },
  "orphan": true
 },
 "nbformat": 4,
 "nbformat_minor": 4
}
