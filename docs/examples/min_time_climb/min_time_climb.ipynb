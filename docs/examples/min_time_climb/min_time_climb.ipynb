{
 "cells": [
  {
   "cell_type": "code",
   "execution_count": null,
   "metadata": {
    "tags": [
     "active-ipynb",
     "remove-input",
     "remove-output"
    ]
   },
   "outputs": [],
   "source": [
    "try:\n",
    "    import openmdao.api as om\n",
    "    import dymos as dm\n",
    "except ImportError:\n",
    "    !python -m pip install openmdao[notebooks]\n",
    "    !python -m pip install dymos[docs]\n",
    "    import openmdao.api as om\n",
    "    import dymos as dm"
   ]
  },
  {
   "cell_type": "markdown",
   "metadata": {},
   "source": [
    "(examples:minimium_time_climb)=\n",
    "# Supersonic Interceptor Minimum Time Climb\n",
    "\n",
    "This example is based on the _A/C Min Time to Climb_ example given in\n",
    "chapter 4 of Bryson {cite}`bryson1999dynamic`. It finds the\n",
    "angle-of-attack history required to accelerate a supersonic interceptor\n",
    "from near ground level, Mach 0.4 to an altitude of 20 km and Mach 1.0.\n",
    "\n",
    "![The free-body-diagram of the min-time-climb problem.](min_time_climb_fbd.png)\n",
    "\n",
    "The vehicle dynamics are given by\n",
    "\n",
    "\\begin{align}\n",
    "  \\frac{dv}{dt} &= \\frac{T}{m} \\cos \\alpha - \\frac{D}{m} - g \\sin \\gamma \\\\\n",
    "  \\frac{d\\gamma}{dt} &= \\frac{T}{m v} \\sin \\alpha + \\frac{L}{m v} - \\frac{g \\cos \\gamma}{v} \\\\\n",
    "  \\frac{dh}{dt} &= v \\sin \\gamma \\\\\n",
    "  \\frac{dr}{dt} &= v \\cos \\gamma \\\\\n",
    "  \\frac{dm}{dt} &= - \\frac{T}{g I_{sp}}\n",
    "\\end{align}\n",
    "\n",
    "The initial conditions are\n",
    "\n",
    "\\begin{align}\n",
    "  r_0 &= 0 \\rm{\\,m} \\\\\n",
    "  h_0 &= 100 \\rm{\\,m} \\\\\n",
    "  v_0 &= 135.964 \\rm{\\,m/s} \\\\\n",
    "  \\gamma_0 &= 0 \\rm{\\,deg} \\\\\n",
    "  m_0 &= 19030.468 \\rm{\\,kg}\n",
    "\\end{align}\n",
    "\n",
    "and the final conditions are\n",
    "\n",
    "\\begin{align}\n",
    "  h_f &= 20000 \\rm{\\,m} \\\\\n",
    "  M_f &= 1.0 \\\\\n",
    "  \\gamma_0 &= 0 \\rm{\\,deg}\n",
    "\\end{align}\n",
    "\n",
    "## The ODE System: min_time_climb_ode.py\n",
    "\n",
    "The top level ODE definition is a _Group_ that connects several subsystems."
   ]
  },
  {
   "cell_type": "code",
   "execution_count": null,
   "metadata": {
    "tags": [
     "hide-output",
     "remove-input"
    ]
   },
   "outputs": [],
   "source": [
    "om.display_source(\"dymos.examples.min_time_climb.doc.aero_partial_coloring\")"
   ]
  },
  {
   "cell_type": "code",
   "execution_count": null,
   "metadata": {},
   "outputs": [],
   "source": [
    "import openmdao.api as om\n",
    "from dymos.models.eom import FlightPathEOM2D\n",
    "from dymos.examples.min_time_climb.prop import PropGroup\n",
    "from dymos.models.atmosphere import USatm1976Comp\n",
    "from dymos.examples.min_time_climb.doc.aero_partial_coloring import AeroGroup\n",
    "\n",
    "class MinTimeClimbODE(om.Group):\n",
    "\n",
    "    def initialize(self):\n",
    "        self.options.declare('num_nodes', types=int)\n",
    "        self.options.declare('fd', types=bool, default=False, desc='If True, use fd for partials')\n",
    "        self.options.declare('partial_coloring', types=bool, default=False,\n",
    "                             desc='If True and fd is True, color the approximated partials')\n",
    "\n",
    "    def setup(self):\n",
    "        nn = self.options['num_nodes']\n",
    "\n",
    "        self.add_subsystem(name='atmos',\n",
    "                           subsys=USatm1976Comp(num_nodes=nn),\n",
    "                           promotes_inputs=['h'])\n",
    "\n",
    "        self.add_subsystem(name='aero',\n",
    "                           subsys=AeroGroup(num_nodes=nn,\n",
    "                                            fd=self.options['fd'],\n",
    "                                            partial_coloring=self.options['partial_coloring']),\n",
    "                           promotes_inputs=['v', 'alpha', 'S'])\n",
    "\n",
    "        self.connect('atmos.sos', 'aero.sos')\n",
    "        self.connect('atmos.rho', 'aero.rho')\n",
    "\n",
    "        self.add_subsystem(name='prop',\n",
    "                           subsys=PropGroup(num_nodes=nn),\n",
    "                           promotes_inputs=['h', 'Isp', 'throttle'])\n",
    "\n",
    "        self.connect('aero.mach', 'prop.mach')\n",
    "\n",
    "        self.add_subsystem(name='flight_dynamics',\n",
    "                           subsys=FlightPathEOM2D(num_nodes=nn),\n",
    "                           promotes_inputs=['m', 'v', 'gam', 'alpha'])\n",
    "\n",
    "        self.connect('aero.f_drag', 'flight_dynamics.D')\n",
    "        self.connect('aero.f_lift', 'flight_dynamics.L')\n",
    "        self.connect('prop.thrust', 'flight_dynamics.T')\n"
   ]
  },
  {
   "cell_type": "markdown",
   "metadata": {},
   "source": [
    "## Building and running the problem\n",
    "\n",
    "In the following code we follow the following process to solve the\n",
    "problem:"
   ]
  },
  {
   "cell_type": "code",
   "execution_count": null,
   "metadata": {
    "tags": [
     "output_scroll"
    ]
   },
   "outputs": [],
   "source": [
    "import matplotlib.pyplot as plt\n",
    "\n",
    "import openmdao.api as om\n",
    "\n",
    "import dymos as dm\n",
    "from dymos.examples.plotting import plot_results\n",
    "\n",
    "#\n",
    "# Instantiate the problem and configure the optimization driver\n",
    "#\n",
    "p = om.Problem(model=om.Group())\n",
    "\n",
    "p.driver = om.pyOptSparseDriver()\n",
    "p.driver.options['optimizer'] = 'SLSQP'\n",
    "p.driver.declare_coloring()\n",
    "\n",
    "#\n",
    "# Instantiate the trajectory and phase\n",
    "#\n",
    "traj = dm.Trajectory()\n",
    "\n",
    "phase = dm.Phase(ode_class=MinTimeClimbODE,\n",
    "                 transcription=dm.GaussLobatto(num_segments=15, compressed=False))\n",
    "\n",
    "traj.add_phase('phase0', phase)\n",
    "\n",
    "p.model.add_subsystem('traj', traj)\n",
    "\n",
    "#\n",
    "# Set the options on the optimization variables\n",
    "# Note the use of explicit state units here since much of the ODE uses imperial units\n",
    "# and we prefer to solve this problem using metric units.\n",
    "#\n",
    "phase.set_time_options(fix_initial=True, duration_bounds=(50, 400),\n",
    "                       duration_ref=100.0)\n",
    "\n",
    "phase.add_state('r', fix_initial=True, lower=0, upper=1.0E6, units='m',\n",
    "                ref=1.0E3, defect_ref=1.0E3,\n",
    "                rate_source='flight_dynamics.r_dot')\n",
    "\n",
    "phase.add_state('h', fix_initial=True, lower=0, upper=20000.0, units='m',\n",
    "                ref=1.0E2, defect_ref=1.0E2,\n",
    "                rate_source='flight_dynamics.h_dot')\n",
    "\n",
    "phase.add_state('v', fix_initial=True, lower=10.0, units='m/s',\n",
    "                ref=1.0E2, defect_ref=1.0E2,\n",
    "                rate_source='flight_dynamics.v_dot')\n",
    "\n",
    "phase.add_state('gam', fix_initial=True, lower=-1.5, upper=1.5, units='rad',\n",
    "                ref=1.0, defect_ref=1.0,\n",
    "                rate_source='flight_dynamics.gam_dot')\n",
    "\n",
    "phase.add_state('m', fix_initial=True, lower=10.0, upper=1.0E5, units='kg',\n",
    "                ref=1.0E3, defect_ref=1.0E3,\n",
    "                rate_source='prop.m_dot')\n",
    "\n",
    "phase.add_control('alpha', units='deg', lower=-8.0, upper=8.0, scaler=1.0,\n",
    "                  rate_continuity=True, rate_continuity_scaler=100.0,\n",
    "                  rate2_continuity=False)\n",
    "\n",
    "phase.add_parameter('S', val=49.2386, units='m**2', opt=False, targets=['S'])\n",
    "phase.add_parameter('Isp', val=1600.0, units='s', opt=False, targets=['Isp'])\n",
    "phase.add_parameter('throttle', val=1.0, opt=False, targets=['throttle'])\n",
    "\n",
    "#\n",
    "# Setup the boundary and path constraints\n",
    "#\n",
    "phase.add_boundary_constraint('h', loc='final', equals=20000, scaler=1.0E-3)\n",
    "phase.add_boundary_constraint('aero.mach', loc='final', equals=1.0)\n",
    "phase.add_boundary_constraint('gam', loc='final', equals=0.0)\n",
    "\n",
    "phase.add_path_constraint(name='h', lower=100.0, upper=20000, ref=20000)\n",
    "phase.add_path_constraint(name='aero.mach', lower=0.1, upper=1.8)\n",
    "\n",
    "# Minimize time at the end of the phase\n",
    "phase.add_objective('time', loc='final', ref=1.0)\n",
    "\n",
    "p.model.linear_solver = om.DirectSolver()\n",
    "\n",
    "#\n",
    "# Setup the problem and set the initial guess\n",
    "#\n",
    "p.setup(check=True)\n",
    "\n",
    "p['traj.phase0.t_initial'] = 0.0\n",
    "p['traj.phase0.t_duration'] = 500\n",
    "\n",
    "p.set_val('traj.phase0.states:r', phase.interp('r', [0.0, 50000.0]))\n",
    "p.set_val('traj.phase0.states:h', phase.interp('h', [100.0, 20000.0]))\n",
    "p.set_val('traj.phase0.states:v', phase.interp('v', [135.964, 283.159]))\n",
    "p.set_val('traj.phase0.states:gam', phase.interp('gam', [0.0, 0.0]))\n",
    "p.set_val('traj.phase0.states:m', phase.interp('m', [19030.468, 10000.]))\n",
    "p.set_val('traj.phase0.controls:alpha', phase.interp('alpha', [0.0, 0.0]))\n",
    "\n",
    "#\n",
    "# Solve for the optimal trajectory\n",
    "#\n",
    "dm.run_problem(p)\n",
    "\n",
    "#\n",
    "# Get the explicitly simulated solution and plot the results\n",
    "#\n",
    "exp_out = traj.simulate()\n",
    "\n",
    "plot_results([('traj.phase0.timeseries.time', 'traj.phase0.timeseries.states:h',\n",
    "               'time (s)', 'altitude (m)'),\n",
    "              ('traj.phase0.timeseries.time', 'traj.phase0.timeseries.controls:alpha',\n",
    "               'time (s)', 'alpha (deg)')],\n",
    "             title='Supersonic Minimum Time-to-Climb Solution',\n",
    "             p_sol=p, p_sim=exp_out)\n",
    "\n",
    "plt.show()"
   ]
  },
  {
   "cell_type": "code",
   "execution_count": null,
   "metadata": {
    "tags": [
     "remove-input",
     "remove-output"
    ]
   },
   "outputs": [],
   "source": [
    "from openmdao.utils.assert_utils import assert_near_equal\n",
    "\n",
    "assert_near_equal(p.get_val('traj.phase0.t_duration'), 321.0, tolerance=1.0E-1)"
   ]
  },
  {
   "cell_type": "markdown",
   "metadata": {},
   "source": [
    "## References\n",
    "\n",
    "```{bibliography}\n",
    ":filter: docname in docnames\n",
    "```"
   ]
  }
 ],
 "metadata": {
  "celltoolbar": "Tags",
  "jupytext": {
   "cell_metadata_filter": "-all",
   "notebook_metadata_filter": "-all",
   "text_representation": {
    "extension": ".md",
    "format_name": "markdown"
   }
  },
  "kernelspec": {
   "display_name": "Python 3 (ipykernel)",
   "language": "python",
   "name": "python3"
  },
  "language_info": {
   "codemirror_mode": {
    "name": "ipython",
    "version": 3
   },
   "file_extension": ".py",
   "mimetype": "text/x-python",
   "name": "python",
   "nbconvert_exporter": "python",
   "pygments_lexer": "ipython3",
   "version": "3.9.7"
  }
 },
 "nbformat": 4,
 "nbformat_minor": 4
}
