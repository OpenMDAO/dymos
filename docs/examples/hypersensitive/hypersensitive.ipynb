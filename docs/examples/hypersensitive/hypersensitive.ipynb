{
 "cells": [
  {
   "cell_type": "code",
   "execution_count": null,
   "metadata": {
    "tags": [
     "active-ipynb",
     "remove-input",
     "remove-output"
    ]
   },
   "outputs": [],
   "source": [
    "try:\n",
    "    import openmdao.api as om\n",
    "    import dymos as dm\n",
    "except ImportError:\n",
    "    !python -m pip install openmdao[notebooks]\n",
    "    !python -m pip install dymos[docs]\n",
    "    import openmdao.api as om\n",
    "    import dymos as dm"
   ]
  },
  {
   "cell_type": "markdown",
   "metadata": {},
   "source": [
    "# Hyper-Sensitive Problem\n",
    "\n",
    "This example is based on the Hyper-Sensitive problem given in\n",
    "Patterson {cite}`patterson2015ph`. In this problem we seek to minimize both\n",
    "the distance traveled when moving between fixed boundary conditions and\n",
    "also to minimize the control $u$ used. The cost function to be minimized is:\n",
    "\n",
    "\\begin{align}\n",
    "    J &= \\frac{1}{2} \\int_{0}^{t_f} (x^2 + u^2) dt\n",
    "\\end{align}\n",
    "\n",
    "The system is subject to the dynamic constraints:\n",
    "\n",
    "\\begin{align}\n",
    "    \\frac{dx}{dt} &= -x + u\n",
    "\\end{align}\n",
    "\n",
    "The boundary conditions are:\n",
    "\n",
    "\\begin{align}\n",
    "    x(t_0) &= 1.5 \\\\\n",
    "    x(t_f) &= 1\n",
    "\\end{align}\n",
    "\n",
    "The control $u$ is unconstrained while the final time $t_f$ is fixed.\n",
    "\n",
    "Due to the nature of dynamics, for sufficiently large values of $t_f$,\n",
    "the problem exhibits a _dive_, _cruise_, and _resurface_ type\n",
    "structure, where the all interesting behavior occurs at the beginning and\n",
    "end while remaining relatively constant in the middle.\n",
    "\n",
    "This problem has a known analytic optimal solution:\n",
    "\n",
    "\\begin{align}\n",
    "    x^*(t) &= c_1 e^{\\sqrt{2} t} + c_2 e^{-\\sqrt{2} t} \\\\\n",
    "      u^*(t) &= \\dot{x}^*(t) + x^*(t)\n",
    "\\end{align}\n",
    "\n",
    "where:\n",
    "\n",
    "\\begin{align}\n",
    "    c_1 &= \\frac{1.5 e^{-\\sqrt{2} t_f} - 1}{e^{-\\sqrt{2} t_f} - e^{\\sqrt{2} t_f}} \\\\\n",
    "    c_2 &= \\frac{1 - 1.5 e^{\\sqrt{2} t_f}}{e^{-\\sqrt{2} t_f} - e^{\\sqrt{2} t_f}}\n",
    "\\end{align}\n",
    "\n",
    "## The ODE System: hyper\\_sensitive\\_ode.py"
   ]
  },
  {
   "cell_type": "code",
   "execution_count": null,
   "metadata": {},
   "outputs": [],
   "source": [
    "import numpy as np\n",
    "import openmdao.api as om\n",
    "\n",
    "\n",
    "class HyperSensitiveODE(om.ExplicitComponent):\n",
    "    states = {'x': {'rate_source': 'x_dot'},\n",
    "              'xL': {'rate_source': 'L'}}\n",
    "\n",
    "    parameters = {'u': {'targets': 'u'}}\n",
    "\n",
    "    def initialize(self):\n",
    "        self.options.declare('num_nodes', types=int)\n",
    "\n",
    "    def setup(self):\n",
    "        nn = self.options['num_nodes']\n",
    "\n",
    "        # inputs\n",
    "        self.add_input('x', val=np.zeros(nn), desc='state')\n",
    "        self.add_input('xL', val=np.zeros(nn), desc='cost_state')\n",
    "\n",
    "        self.add_input('u', val=np.zeros(nn), desc='control')\n",
    "\n",
    "        self.add_output('x_dot', val=np.zeros(nn), desc='state rate', units='1/s')\n",
    "        self.add_output('L', val=np.zeros(nn), desc='Lagrangian', units='1/s')\n",
    "\n",
    "        # Setup partials\n",
    "        self.declare_partials(of='x_dot', wrt='x', rows=np.arange(nn), cols=np.arange(nn), val=-1)\n",
    "        self.declare_partials(of='x_dot', wrt='u', rows=np.arange(nn), cols=np.arange(nn), val=1)\n",
    "\n",
    "        self.declare_partials(of='L', wrt='x', rows=np.arange(nn), cols=np.arange(nn))\n",
    "        self.declare_partials(of='L', wrt='u', rows=np.arange(nn), cols=np.arange(nn))\n",
    "\n",
    "    def compute(self, inputs, outputs):\n",
    "        x = inputs['x']\n",
    "        u = inputs['u']\n",
    "\n",
    "        outputs['x_dot'] = -x + u\n",
    "        outputs['L'] = (x ** 2 + u ** 2) / 2\n",
    "\n",
    "    def compute_partials(self, inputs, jacobian):\n",
    "        x = inputs['x']\n",
    "        u = inputs['u']\n",
    "\n",
    "        jacobian['L', 'x'] = x\n",
    "        jacobian['L', 'u'] = u"
   ]
  },
  {
   "cell_type": "markdown",
   "metadata": {},
   "source": [
    "## Building and running the problem\n",
    "\n",
    "The following code shows the procedure for solving the problem"
   ]
  },
  {
   "cell_type": "code",
   "execution_count": null,
   "metadata": {
    "tags": [
     "remove-input",
     "remove-output"
    ]
   },
   "outputs": [],
   "source": [
    "import numpy as np\n",
    "tf = np.float128(10)\n",
    "\n",
    "\n",
    "def solution():\n",
    "    sqrt_two = np.sqrt(2)\n",
    "    val = sqrt_two * tf\n",
    "    c1 = (1.5 * np.exp(-val) - 1) / (np.exp(-val) - np.exp(val))\n",
    "    c2 = (1 - 1.5 * np.exp(val)) / (np.exp(-val) - np.exp(val))\n",
    "\n",
    "    ui = c1 * (1 + sqrt_two) + c2 * (1 - sqrt_two)\n",
    "    uf = c1 * (1 + sqrt_two) * np.exp(val) + c2 * (1 - sqrt_two) * np.exp(-val)\n",
    "    J = 0.5 * (c1 ** 2 * (1 + sqrt_two) * np.exp(2 * val) + c2 ** 2 * (1 - sqrt_two) * np.exp(-2 * val) -\n",
    "               (1 + sqrt_two) * c1 ** 2 - (1 - sqrt_two) * c2 ** 2)\n",
    "    return ui, uf, J"
   ]
  },
  {
   "cell_type": "code",
   "execution_count": null,
   "metadata": {
    "tags": [
     "output_scroll"
    ]
   },
   "outputs": [],
   "source": [
    "import matplotlib.pyplot as plt\n",
    "import openmdao.api as om\n",
    "import dymos as dm\n",
    "from dymos.examples.plotting import plot_results\n",
    "\n",
    "# Initialize the problem and assign the driver\n",
    "p = om.Problem(model=om.Group())\n",
    "p.driver = om.pyOptSparseDriver()\n",
    "p.driver.options['optimizer'] = 'SLSQP'\n",
    "p.driver.declare_coloring()\n",
    "\n",
    "# Setup the trajectory and its phase\n",
    "traj = p.model.add_subsystem('traj', dm.Trajectory())\n",
    "\n",
    "transcription = dm.Radau(num_segments=30, order=3, compressed=False)\n",
    "\n",
    "phase = traj.add_phase('phase0',\n",
    "                       dm.Phase(ode_class=HyperSensitiveODE, transcription=transcription))\n",
    "\n",
    "phase.set_time_options(fix_initial=True, fix_duration=True)\n",
    "phase.add_state('x', fix_initial=True, fix_final=False, rate_source='x_dot', targets=['x'])\n",
    "phase.add_state('xL', fix_initial=True, fix_final=False, rate_source='L', targets=['xL'])\n",
    "phase.add_control('u', opt=True, targets=['u'])\n",
    "\n",
    "phase.add_boundary_constraint('x', loc='final', equals=1)\n",
    "\n",
    "phase.add_objective('xL', loc='final')\n",
    "\n",
    "p.setup(check=True)\n",
    "\n",
    "p.set_val('traj.phase0.states:x', phase.interp('x', [1.5, 1]))\n",
    "p.set_val('traj.phase0.states:xL', phase.interp('xL', [0, 1]))\n",
    "p.set_val('traj.phase0.t_initial', 0)\n",
    "p.set_val('traj.phase0.t_duration', tf)\n",
    "p.set_val('traj.phase0.controls:u', phase.interp('u', [-0.6, 2.4]))\n",
    "\n",
    "#\n",
    "# Solve the problem.\n",
    "#\n",
    "dm.run_problem(p)\n",
    "\n",
    "#\n",
    "# Verify that the results are correct.\n",
    "#\n",
    "ui, uf, J = solution()\n",
    "\n",
    "#\n",
    "# Simulate the explicit solution and plot the results.\n",
    "#\n",
    "exp_out = traj.simulate()\n",
    "\n",
    "plot_results([('traj.phase0.timeseries.time', 'traj.phase0.timeseries.states:x',\n",
    "               'time (s)', 'x $(m)$'),\n",
    "              ('traj.phase0.timeseries.time', 'traj.phase0.timeseries.controls:u',\n",
    "               'time (s)', 'u $(m/s^2)$')],\n",
    "             title='Hyper Sensitive Problem Solution\\nRadau Pseudospectral Method',\n",
    "             p_sol=p, p_sim=exp_out)\n",
    "\n",
    "plt.show()"
   ]
  },
  {
   "cell_type": "code",
   "execution_count": null,
   "metadata": {
    "tags": [
     "remove-input",
     "remove-output"
    ]
   },
   "outputs": [],
   "source": [
    "from openmdao.utils.assert_utils import assert_near_equal\n",
    "\n",
    "assert_near_equal(p.get_val('traj.phase0.timeseries.controls:u')[0],\n",
    "                  ui,\n",
    "                  tolerance=1.5e-2)\n",
    "\n",
    "assert_near_equal(p.get_val('traj.phase0.timeseries.controls:u')[-1],\n",
    "                  uf,\n",
    "                  tolerance=1.5e-2)\n",
    "\n",
    "assert_near_equal(p.get_val('traj.phase0.timeseries.states:xL')[-1],\n",
    "                  J,\n",
    "                  tolerance=1e-2)"
   ]
  },
  {
   "cell_type": "markdown",
   "metadata": {},
   "source": [
    "## References\n",
    "\n",
    "```{bibliography}\n",
    ":filter: docname in docnames\n",
    "```"
   ]
  }
 ],
 "metadata": {
  "celltoolbar": "Tags",
  "jupytext": {
   "cell_metadata_filter": "-all",
   "notebook_metadata_filter": "-all",
   "text_representation": {
    "extension": ".md",
    "format_name": "markdown"
   }
  },
  "kernelspec": {
   "display_name": "Python 3",
   "language": "python",
   "name": "python3"
  },
  "language_info": {
   "codemirror_mode": {
    "name": "ipython",
    "version": 3
   },
   "file_extension": ".py",
   "mimetype": "text/x-python",
   "name": "python",
   "nbconvert_exporter": "python",
   "pygments_lexer": "ipython3",
   "version": "3.8.3"
  }
 },
 "nbformat": 4,
 "nbformat_minor": 4
}
