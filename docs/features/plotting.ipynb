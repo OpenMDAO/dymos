{
 "cells": [
  {
   "cell_type": "code",
   "execution_count": null,
   "metadata": {
    "tags": [
     "active-ipynb",
     "remove-input",
     "remove-output"
    ]
   },
   "outputs": [],
   "source": [
    "try:\n",
    "    import openmdao.api as om\n",
    "    import dymos as dm\n",
    "except ImportError:\n",
    "    !python -m pip install openmdao[notebooks]\n",
    "    !python -m pip install dymos[docs]\n",
    "    import openmdao.api as om\n",
    "    import dymos as dm"
   ]
  },
  {
   "cell_type": "markdown",
   "metadata": {},
   "source": [
    "# Plotting Timeseries\n",
    "\n",
    "Dymos provides a simple function to plot timeseries,"
   ]
  },
  {
   "cell_type": "markdown",
   "metadata": {},
   "source": [
    "`timeseries_plots(solution_recorder_filename, simulation_record_file=None, plot_dir=\"plots\")`\n",
    "\n",
    "A separate plot file will be created for each timeseries variable. The plots will be saved and not \n",
    "displayed. The user has to manually open the plot files for them to be displayed.\n",
    "\n",
    "The only required argument, `solution_recorder_filename`, is the file path to the case recorder file \n",
    "containing the solution results.\n",
    "\n",
    "If the optional argument, `simulation_record_file`, is given, then that will be used to get data for\n",
    "plotting the timeseries of the simulation. \n",
    "\n",
    "Finally, the optional argument, `plot_dir`, can be set to indicate to what directory the plot files will be saved.\n",
    "\n",
    "Here is an example of the kind of plot that is created.\n",
    "\n",
    "![Timeseries Plot](figures/timeseries_plot.png)"
   ]
  }
 ],
 "metadata": {
  "jupytext": {
   "cell_metadata_filter": "-all",
   "notebook_metadata_filter": "-all",
   "text_representation": {
    "extension": ".md",
    "format_name": "markdown"
   }
  },
  "kernelspec": {
   "display_name": "Python 3",
   "language": "python",
   "name": "python3"
  },
  "language_info": {
   "codemirror_mode": {
    "name": "ipython",
    "version": 3
   },
   "file_extension": ".py",
   "mimetype": "text/x-python",
   "name": "python",
   "nbconvert_exporter": "python",
   "pygments_lexer": "ipython3",
   "version": "3.8.3"
  }
 },
 "nbformat": 4,
 "nbformat_minor": 4
}
