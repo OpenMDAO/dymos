{
 "cells": [
  {
   "cell_type": "code",
   "execution_count": null,
   "metadata": {
    "tags": [
     "active-ipynb",
     "remove-input",
     "remove-output"
    ]
   },
   "outputs": [],
   "source": [
    "try:\n",
    "    import openmdao.api as om\n",
    "    import dymos as dm\n",
    "except ImportError:\n",
    "    !python -m pip install openmdao[notebooks]\n",
    "    !python -m pip install dymos[docs]\n",
    "    import openmdao.api as om\n",
    "    import dymos as dm"
   ]
  },
  {
   "cell_type": "markdown",
   "metadata": {},
   "source": [
    "# Segments\n",
    "\n",
    "All phases in Dymos are decomposed into one or more *segments* in time.  These segments\n",
    "serve the following purposes:\n",
    "\n",
    "- Gauss-Lobatto collocation and the Radau Pseudospectral method model each state variable as a polynomial segment in nondimensional time within each segment.\n",
    "- Each control is modeled as a polynomial in nondimensional time within each segment.\n",
    "\n",
    "The order of the *state* polynomial segment is given by the phase argument `transcription_order`.\n",
    "In Dymos the minimum supported transcription order is 3.\n",
    "\n",
    "State-time histories within a segment are modelled as a Lagrange polynomial.\n",
    "Continuity in state value may be enforced via linear constraints at the segment boundaries (the default behavior) or by specifying a *compressed* transcription whereby the state value at a segment boundary is provided as a single value.\n",
    "The default *compressed* transcription yields an optimization problem with fewer variables, but in some situations using uncompressed transcription can result in more robust convergence."
   ]
  }
 ],
 "metadata": {
  "jupytext": {
   "cell_metadata_filter": "-all",
   "notebook_metadata_filter": "-all",
   "text_representation": {
    "extension": ".md",
    "format_name": "markdown"
   }
  },
  "kernelspec": {
   "display_name": "Python 3",
   "language": "python",
   "name": "python3"
  },
  "language_info": {
   "codemirror_mode": {
    "name": "ipython",
    "version": 3
   },
   "file_extension": ".py",
   "mimetype": "text/x-python",
   "name": "python",
   "nbconvert_exporter": "python",
   "pygments_lexer": "ipython3",
   "version": "3.8.1"
  }
 },
 "nbformat": 4,
 "nbformat_minor": 4
}
