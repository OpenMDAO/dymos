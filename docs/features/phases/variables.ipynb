{
 "cells": [
  {
   "cell_type": "code",
   "execution_count": null,
   "metadata": {
    "tags": [
     "active-ipynb",
     "remove-input",
     "remove-output"
    ]
   },
   "outputs": [],
   "source": [
    "try:\n",
    "    import openmdao.api as om\n",
    "    import dymos as dm\n",
    "except ImportError:\n",
    "    !python -m pip install openmdao[notebooks]\n",
    "    !python -m pip install dymos[docs]\n",
    "    import openmdao.api as om\n",
    "    import dymos as dm"
   ]
  },
  {
   "cell_type": "markdown",
   "metadata": {},
   "source": [
    "# Variables\n",
    "\n",
    "An Optimal Control problem in Dymos consists of the following variable types.\n",
    "\n",
    "## Time\n",
    "\n",
    "Optimal control problems in Dymos assume a system that is evolving in time.  State variables\n",
    "typically obey some ordinary differential equation that provides the derivative of the states\n",
    "w.r.t. time.\n",
    "\n",
    "Users can specify various options relating to time with the `set_time_options` method of Phase.\n",
    "\n",
    "In Dymos, the phase time is controlled by two inputs:\n",
    "\n",
    "- `t_initial` - The initial time of the phase\n",
    "- `t_duration` - The duration of the phase\n",
    "\n",
    "The bounds, scaling, and units of these variables may be set using `set_time_options`.  In addition,\n",
    "the user can specify that the initial time or duration of a phase is to be connected to some\n",
    "external output by specifying `input_initial = True` or `input_duration = True`.  In the case of\n",
    "fixed initial time or duration, or input initial time or duration, the optimization-related options\n",
    "have no effect and a warning will be raised if they are used.\n",
    "\n",
    "The variables `t_initial` and `t_duration` are converted to time values at the nodes within the phase.\n",
    "Dymos computes the following time values, which can be used inside the ODE:\n",
    "\n",
    "- `time` - The canonical time. At the start of the phase `time = t_initial`, and `time = t_initial + t_duration` at the end of the phase.\n",
    "- `time_phase` - The elapsed time since the beginning of the phase.  `time_phase = time - t_initial`\n",
    "- `t_initial` - The initial time of the current phase (this value is the same at all nodes within the phase).\n",
    "- `t_duration` - The phase time duration of the current phase (this value is the same at all nodes within the phase).\n",
    "\n",
    "### Options for Time Variables"
   ]
  },
  {
   "cell_type": "code",
   "execution_count": null,
   "metadata": {},
   "outputs": [],
   "source": [
    "om.show_options_table(\"dymos.phase.options.TimeOptionsDictionary\")"
   ]
  },
  {
   "cell_type": "markdown",
   "metadata": {},
   "source": [
    "## States\n",
    "\n",
    "States are variables that define the current condition of the system.  For instance, in trajectory\n",
    "optimization they are typically coordinates that define the position and velocity of the vehicle.\n",
    "They can also be things like component bulk temperatures or battery state-of-charge.  In most\n",
    "dynamic systems, states obey some ordinary differential equation.  As such, these are defined\n",
    "in an `ODE` object.\n",
    "\n",
    "At the phase level, we assume that states evolve continuously such that they can be modeled as a\n",
    "series of one or more polynomials.  The phase duration is broken into one or more *segments* on\n",
    "which each state (and each dynamic control) is modeled as a polynomial.  The order of the\n",
    "polynomial is specified using the *transcription_order* method.  **In Dymos, the minimum state\n",
    "transcription order is 3.**\n",
    "\n",
    "Users can specify bounds and scaling of the state variables with the phase method `add_state`.\n",
    "The units and shape arguments are not required, as dymos will pull that information from the rate_source when\n",
    "possible. You may still add units if you would like the driver or the timeseries to see a different unit than\n",
    "what is defined in the rate source. There are two exceptions:\n",
    " - If the rate_source references a control that has no targets, shape is required.\n",
    " - If the rate_source is another state, that state needs to be declared first. If the relationship is circular, shape is required.\n",
    "\n",
    "Settings on a previously-added state variable may be changed using the `set_state_options` method.\n",
    "The following options are valid:\n",
    "\n",
    "### Options for State Variables"
   ]
  },
  {
   "cell_type": "code",
   "execution_count": null,
   "metadata": {},
   "outputs": [],
   "source": [
    "om.show_options_table(\"dymos.phase.options.StateOptionsDictionary\")"
   ]
  },
  {
   "cell_type": "markdown",
   "metadata": {},
   "source": [
    "The Radau Pseudospectral and Gauss Lobatto phases types in Dymos use differential defects to\n",
    "approximate the evolution of the state variables with respect to time.  In addition to scaling\n",
    "the state values, scaling the defect constraints correctly is important to good performance of\n",
    "the collocation algorithms.  This is accomplished with the `defect_scaler` or `defect_ref` options.\n",
    "As the name implies, `defect_scaler` is multiplied by the defect value to provide the defect\n",
    "constraint value to the optimizer.  Alternatively, the user can specify `defect_ref`.  If provided,\n",
    "`defect_ref` overrides `defect_scaler` and is the value of the defect seen as `1` by the optimizer.\n",
    "\n",
    "If the ODE is explicitly depending on a state's value (for example, the brachistochrone ODE is a function of the bead's speed), then the user specifies those inputs in the ODE to which the state is to be connected using the `targets` option.\n",
    "It can take the following values:\n",
    "\n",
    "- (default)\n",
    "    If left unspecified, targets assumes a special `dymos.utils.misc._unspecified` value.\n",
    "    In this case, dymos will attempt to connect to an input of the same name at the top of the ODE (either promoted there, or there because the ODE is a single component).\n",
    "\n",
    "- None\n",
    "    The state is explicitly not connected to any inputs in the ODE.\n",
    "- str or sequence of str\n",
    "    The state values are connected to inputs of the given name or names in the ODE.\n",
    "    These targets are specified by their path relative to the top level of the ODE.\n",
    "\n",
    "To simplify state specifications, using the first option (not specifying targets) and promoting targets of the state to inputs of the same name at the top-level of the ODE."
   ]
  },
  {
   "cell_type": "markdown",
   "metadata": {},
   "source": [
    "## Controls\n",
    "\n",
    "Typically, an ODE will have inputs that impact its values but, unlike states, don't define the\n",
    "system itself.  Such inputs include things like throttle level, elevator deflection angle,\n",
    "or spring constants.  In Dymos, dynamic inputs are referred to as controls, while\n",
    "static inputs are called parameters.\n",
    "\n",
    "Dynamic controls are values which we might expect to vary continuously throughout a trajectory, like an elevator deflection angle for instance.\n",
    "The value of these controls are often determined by an optimizer.\n",
    "\n",
    "```{Note}\n",
    "    The order of a dynamic control polynomial in a segment is one less than the state\n",
    "    transcription order (i.e. a dynamic control in a phase with `transcription_order=3` will\n",
    "    be represented by a second-order polynomial.\n",
    "```\n",
    "\n",
    "### Options for Control Variables"
   ]
  },
  {
   "cell_type": "code",
   "execution_count": null,
   "metadata": {},
   "outputs": [],
   "source": [
    "om.show_options_table(\"dymos.phase.options.ControlOptionsDictionary\")"
   ]
  },
  {
   "cell_type": "markdown",
   "metadata": {},
   "source": [
    "Control values are connected to the ODE using the `targets` argument.\n",
    "The values of this argument obey the same rules as those for states.\n",
    "\n",
    "The control first and second derivatives w.r.t. time may also be connected to the ODE.\n",
    "First derivatives of controls in Dymos assume the name `<control_name>_rate`.\n",
    "Second derivatives of controls in Dymos assume the name `<control_name>_rate2`.\n",
    "Control rates are automatically connected if a top-level input of the ODE is named `<control_name>_rate` or `<control_name>_rate2`.\n",
    "These variables are available in the timeseries output as `timeseries.control_rates.<control_name>_rate` and `timeseries.control_rates.<control_name>_rate2`, respectively."
   ]
  },
  {
   "cell_type": "markdown",
   "metadata": {},
   "source": [
    "## Polynomial Controls\n",
    "\n",
    "Sometimes it can be easier to optimize a problem by reducing the freedom in the controls.\n",
    "For instance, one might want the control to be linearly or quadratically varying throughout a phase, rather than having a different value specified at each node.\n",
    "In Dymos, this role is filled by the PolynomialControl.\n",
    "Polynomial controls are specified at some limited number of points throughout a _phase_, and then have their values interpolated to each node in each segment.\n",
    "\n",
    "### Options for Polynomial Control Variables"
   ]
  },
  {
   "cell_type": "code",
   "execution_count": null,
   "metadata": {},
   "outputs": [],
   "source": [
    "om.show_options_table(\"dymos.phase.options.PolynomialControlOptionsDictionary\")"
   ]
  },
  {
   "cell_type": "markdown",
   "metadata": {},
   "source": [
    "Polynomial values are connected to the ODE using the `targets` argument.\n",
    "The values of this argument obey the same rules as those for states.\n",
    "\n",
    "The polynomial control first and second derivatives w.r.t. time may also be connected to the ODE.\n",
    "First derivatives of controls in Dymos assume the name `<control_name>_rate`.\n",
    "Second derivatives of controls in Dymos assume the name `<control_name>_rate2`.\n",
    "Control rates are automatically connected if a top-level input of the ODE is named `<control_name>_rate` or `<control_name>_rate2`.\n",
    "These variables are available in the timeseries output as `timeseries.polynomial_control_rates.<control_name>_rate` and `timeseries.polynomial_control_rates.<control_name>_rate2`, respectively."
   ]
  },
  {
   "cell_type": "markdown",
   "metadata": {},
   "source": [
    "## Parameters\n",
    "\n",
    "Some inputs impact the system but have one set value throughout the trajectory.\n",
    "We refer to these non-time-varying inputs as *parameters*, since they typically involve parameters which define a system.\n",
    "Parameters could include things like the wingspan of a vehicle or the mass of a heatsink.\n",
    "In Dymos, parameters can be optimized (by providing argument `opt = True`).\n",
    "If not optimized they can be targets for connections from outside of the Phase or Trajectory.\n",
    "\n",
    "### Options for Parameters"
   ]
  },
  {
   "cell_type": "code",
   "execution_count": null,
   "metadata": {},
   "outputs": [],
   "source": [
    "om.show_options_table(\"dymos.phase.options.ParameterOptionsDictionary\")"
   ]
  },
  {
   "cell_type": "markdown",
   "metadata": {},
   "source": [
    "Parameters can have their values determined by the optimizer, or they can be passed in from an external source.\n",
    "\n",
    "Parameters obey the same connection rules as other variables, if targets is left unspecified.\n",
    "\n",
    "Parameters are available in the timeseries output as `timeseries.parameters.<parameter_name>`.\n",
    "Since parameters are constant throughout a trajectory, some users may want to prevent them from inclusion in the timeseries.\n",
    "This can be done by specifying `include_timeseries = False` in the parameter options."
   ]
  }
 ],
 "metadata": {
  "jupytext": {
   "cell_metadata_filter": "-all",
   "notebook_metadata_filter": "-all",
   "text_representation": {
    "extension": ".md",
    "format_name": "markdown"
   }
  },
  "kernelspec": {
   "display_name": "Python 3",
   "language": "python",
   "name": "python3"
  },
  "language_info": {
   "codemirror_mode": {
    "name": "ipython",
    "version": 3
   },
   "file_extension": ".py",
   "mimetype": "text/x-python",
   "name": "python",
   "nbconvert_exporter": "python",
   "pygments_lexer": "ipython3",
   "version": "3.8.1"
  }
 },
 "nbformat": 4,
 "nbformat_minor": 4
}
