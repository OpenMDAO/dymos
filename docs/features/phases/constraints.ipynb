{
 "cells": [
  {
   "cell_type": "code",
   "execution_count": null,
   "metadata": {
    "tags": [
     "active-ipynb",
     "remove-input",
     "remove-output"
    ]
   },
   "outputs": [],
   "source": [
    "try:\n",
    "    import openmdao.api as om\n",
    "    import dymos as dm\n",
    "except ImportError:\n",
    "    !python -m pip install openmdao[notebooks]\n",
    "    !python -m pip install dymos[docs]\n",
    "    import openmdao.api as om\n",
    "    import dymos as dm"
   ]
  },
  {
   "cell_type": "markdown",
   "metadata": {},
   "source": [
    "# Constraints\n",
    "\n",
    "Now that we've shown how to add degrees of freedom to a system with variables in the form of\n",
    "time, states, and controls, we need to look at how to constrain the system.  In optimal control,\n",
    "constraints typically come in two flavors:  boundary constraints and path constraints.\n",
    "\n",
    "As OpenMDAO components, outputs of Dymos Phases can be constrained using OpenMDAO's `add_constraint` method, but Dymos Phases provide their own methods to make defining these constraints somewhat simpler.\n",
    "\n",
    "##  Boundary Constraints\n",
    "\n",
    "Boundary constraints are constraints on a variable value at the start or end of a phase.  There\n",
    "are a few different ways to impose these in Dymos, each with slightly different behavior.\n",
    "\n",
    "Let's consider that we want to solve for the elevation angle that results in the maximum possible\n",
    "range flown by a cannonball.  In this situation we have some set of initial conditions that are\n",
    "fixed.\n",
    "\n",
    "\\begin{align}\n",
    "    t_0 &= 0 \\, \\mathrm{s} \\\\\n",
    "    x_0 &= 0 \\, \\mathrm{m} \\\\\n",
    "    y_0 &= 0 \\, \\mathrm{m} \\\\\n",
    "    v_0 &= 100 \\, \\frac{\\mathrm{m}}{\\mathrm{s}}\n",
    "\\end{align}\n",
    "\n",
    "The first, most obvious way to constrain fixed values is to remove them from the optimization problem altogether.\n",
    "\n",
    "For time, this is done using the `fix_initial` or `fix_duration` arguments to `set_time_options`.\n",
    "This also allows `t_initial` and `t_duration` to be provided from an external source via connection, if so desired.\n",
    "\n",
    "For states and controls, the situation is slightly different.\n",
    "Rather than providing initial and final values, similar to the way time is handled, the implicit simulation techniques must\n",
    "be provided state values at the state discretization nodes and control values at *all* nodes.\n",
    "Instead, for states and controls, the user specifies `fix_initial=True` or `fix_final=True`.\n",
    "\n",
    "Removing constrained values from the optimization has the following pros and cons.\n",
    "On the pro side, we're making the optimization problem smaller by omitting them.\n",
    "On the con side, the optimizer has absolutely no freedom to move these values around even a little.\n",
    "This can sometimes lead to failure modes that aren't necessarily obvious, especially to new users.\n",
    "\n",
    "The following example solves the brachistochrone problem by omitting the initial time and initial state, as well as the final position state from the optimization.\n",
    "\n",
    "The second method for bounding initial/final time, states, or controls is to leave them in the\n",
    "optimization problem but to constrain only their initial or final values.  For time, this is\n",
    "accomplished with the options `initial_bounds` and `duration_bounds`.  Each of these takes a tuple\n",
    "of `(lower, upper)` values that the optimizer must obey when providing new variable values.  Note\n",
    "that since states and controls may be vector valued, lower and upper may themselves be iterable.\n",
    "To *pin* the value of a state, time, or control to a value just set lower and upper to the same\n",
    "value.\n",
    "\n",
    "As for the pros and cons of this technique, its largely similar to that for the first technique,\n",
    "but it's somewhat optimizer dependent.  Some optimizers *may* allow bounds on design variables to\n",
    "be violated slightly (to some small tolerance).  In theory this could alleviate some of the issues\n",
    "with omitting a design variable altogether, but in practice that's unlikely.\n",
    "\n",
    "The first two options work by imposing bounds (or by not providing a variable to the optimizer\n",
    "altogether).  The third option is to pose bound constraints as actual constraints on the NLP.\n",
    "This is accomplished with the `add_boundary_constraint` method on Phases.\n",
    "\n",
    "The downside of this technique is that it makes the NLP problem larger, though not by much.  On\n",
    "the plus side, this method allows the user to constrain any output within the ODE.  If the user\n",
    "needs to constrain an auxiliary output, this is the only option.  It may also behave somewhat better\n",
    "in certain circumstances.  Depending on scaling, the NLP may ensure that collocation defects are\n",
    "satisfied before forcing an infeasible boundary constraint to be satisfied, for instance.\n",
    "\n",
    "In conclusion, while using `fix_initial=True` for problems with fixed initial conditions is not a bad solution, the generality of `add_boundary_constraint`, especially for terminal constraints that risk being over-constrained, makes it a good first-choice in those situations.\n",
    "In forward-shooting phases (`solve_segments='forward'`) only the initial values of the states are design variables for the optimizer.\n",
    "As such, simple bounds on final state values are not possible in those situations, and `add_boundary_constraint` must be used instead.\n",
    "\n",
    "##  Path Constraints\n",
    "\n",
    "The second class of constraints supported by Dymos are *path* constraints, so called because they are imposed throughout the entire phase.\n",
    "Like bound constraints, path constraints can be imposed on design variables using simple bounds.\n",
    "This is accomplished using the `lower` and `upper` arguments to `add_state`, `add_control`, and `add_parameter`.\n",
    "(Since time is monotonically increasing or decreasing the notion of a path constraint is irrelevant for it).\n",
    "\n",
    "For vector-valued states and controls, lower/upper should be dimensioned the same as state or control.\n",
    "If given as a scalar, it will be applied to all values in the state or control.\n",
    "\n",
    "```{Note}\n",
    "Bounds on states in Gauss-Lobatto Phases are **not** equivalent to path constraints.\n",
    "The values of states in Gauss-Lobatto phases are provided at only the state-transcription nodes and then interpolated to the collocation nodes.\n",
    "Therefore, the bounds will have no impact on these interpolated values which therefore may not satisfy the bounds, as one might expect.\n",
    "``` \n",
    "\n",
    "Phases also support the `add_path_constraint` method, which imposes path constraints as constraints in the NLP problem.\n",
    "As with `add_bound_constraint`, the `add_path_constraint` method is the only option for path constraining an output of the ODE.\n",
    "\n",
    "The downside of path constraints is that they add a considerable number of constraints to the NLP problem and thus may negatively impact performance, although this is generally minor for many problems.\n"
   ]
  }
 ],
 "metadata": {
  "jupytext": {
   "cell_metadata_filter": "-all",
   "notebook_metadata_filter": "-all",
   "text_representation": {
    "extension": ".md",
    "format_name": "markdown"
   }
  },
  "kernelspec": {
   "display_name": "Python 3",
   "language": "python",
   "name": "python3"
  },
  "language_info": {
   "codemirror_mode": {
    "name": "ipython",
    "version": 3
   },
   "file_extension": ".py",
   "mimetype": "text/x-python",
   "name": "python",
   "nbconvert_exporter": "python",
   "pygments_lexer": "ipython3",
   "version": "3.8.1"
  }
 },
 "nbformat": 4,
 "nbformat_minor": 4
}
