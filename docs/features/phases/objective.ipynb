{
 "cells": [
  {
   "cell_type": "code",
   "execution_count": null,
   "metadata": {
    "tags": [
     "active-ipynb",
     "remove-input",
     "remove-output"
    ]
   },
   "outputs": [],
   "source": [
    "try:\n",
    "    import openmdao.api as om\n",
    "    import dymos as dm\n",
    "except ImportError:\n",
    "    !python -m pip install openmdao[notebooks]\n",
    "    !python -m pip install dymos[docs]\n",
    "    import openmdao.api as om\n",
    "    import dymos as dm"
   ]
  },
  {
   "cell_type": "markdown",
   "metadata": {},
   "source": [
    "# Objective\n",
    "\n",
    "Optimal control problems in Dymos are posed within the context of *phases*.\n",
    "\n",
    "When using an optimizer-based transcription, (Gauss-Lobatto or Radau *without* `solve_segments=forward`), the user is **required** to provide an objective somewhere in the problem, even for a simple initial value problem.\n",
    "\n",
    "To support objectives, phases use an overridden version of OpenMDAO's `add_objective` method.\n",
    "This method handles a few complexities that would be involved in the standard OpenMDAO\n",
    "`add_objective` method.\n",
    "\n",
    "First, since the path to a variable within the phase might depend on the transcription used, the\n",
    "`add_objective` method uses the same name-detection capability as other phase methods like\n",
    "`add_boundary_constraint` and `add_path_constraint`.  The name provided should be one of\n",
    "\n",
    "- `time`\n",
    "- the name of a state variable\n",
    "- the name of a control variable\n",
    "- the name of a control rate or rate2 (second derivative)\n",
    "- the path of an output in the ODE relative to the top level of the ODE\n",
    "\n",
    "Dymos will find the full path of the given variable and add it to the problem as an objective.\n",
    "\n",
    "```{Note}\n",
    "Many optimizers do not support multiple objective functions.  When constructing a composite objective you may need to form the objective as an output of a component in your ODE system.\n",
    "```\n",
    "\n",
    "Second, unlike typical OpenMDAO problems where the `index` can be used to effectively specify\n",
    "the first or last value of a variable, optimal control problems have two competing notions of index:\n",
    "the first is the location in time where the objective is to be measured, and the second is the index of a\n",
    "vector valued variable that is to be considered the objective value, which must be scalar.\n",
    "\n",
    "To remove this ambiguity, the `add_objective` method on phase has an argument `loc`, which may\n",
    "have value `initial` or `final`, specifying whether the objective is to be quantified at the\n",
    "start or end of the phase.  The `index` option gives the index into a non-scalar variable value\n",
    "to be used as the objective, which must be scalar.\n",
    "\n",
    "##  Example: Minimizing Final Time\n",
    "\n",
    "```python\n",
    "phase.add_objective('time', loc='final')\n",
    "```\n",
    "\n",
    "## Example: Maximizing Final Mass\n",
    "\n",
    "This example assumes that the phase has a state variable named *mass*.\n",
    "\n",
    "```python\n",
    "phase.add_objective('mass', loc='final', scaler=-1)\n",
    "```"
   ]
  }
 ],
 "metadata": {
  "jupytext": {
   "cell_metadata_filter": "-all",
   "notebook_metadata_filter": "-all",
   "text_representation": {
    "extension": ".md",
    "format_name": "markdown"
   }
  },
  "kernelspec": {
   "display_name": "Python 3",
   "language": "python",
   "name": "python3"
  },
  "language_info": {
   "codemirror_mode": {
    "name": "ipython",
    "version": 3
   },
   "file_extension": ".py",
   "mimetype": "text/x-python",
   "name": "python",
   "nbconvert_exporter": "python",
   "pygments_lexer": "ipython3",
   "version": "3.8.1"
  }
 },
 "nbformat": 4,
 "nbformat_minor": 4
}
