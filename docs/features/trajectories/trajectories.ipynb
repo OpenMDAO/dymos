{
 "cells": [
  {
   "cell_type": "code",
   "execution_count": null,
   "metadata": {
    "tags": [
     "active-ipynb",
     "remove-input",
     "remove-output"
    ]
   },
   "outputs": [],
   "source": [
    "try:\n",
    "    import openmdao.api as om\n",
    "    import dymos as dm\n",
    "except ImportError:\n",
    "    !python -m pip install openmdao[notebooks]\n",
    "    !python -m pip install dymos[docs]\n",
    "    import openmdao.api as om\n",
    "    import dymos as dm"
   ]
  },
  {
   "cell_type": "markdown",
   "metadata": {},
   "source": [
    "# Organizing Phases into Trajectories\n",
    "\n",
    "The majority of real-world use cases of optimal control involve complex trajectories that cannot be modeled with a single phase.\n",
    "For instance, different phases of a trajectory may have different equations of motion, different control parameterizations, or different path constraints.\n",
    "Phases are also necessary if the user wishes to impose intermediate constraints upon some variable, by imposing them as boundary constraints at a phase junction.\n",
    "\n",
    "The *Trajectory* class in Dymos is intended to simplify the development of multi-phase problems.\n",
    "It serves as a Group which contains the various phases belonging to the trajectory, and it provides linkage constraints that dictate how phases are linked together.\n",
    "This enables trajectories that are not only a sequence of phases in time, but may include branching behavior, allowing us to do things like track/constrain the path of a jettisoned rocket stage.\n",
    "\n",
    "It supports a `get_values` method similar to that of Phases that allows the user to retrieve the value of a variable within the trajectory.\n",
    "When verifying an answer with explicit simulation, the `simulate` method of Trajectory can simulate all of its member phases in parallel, providing a significant performance improvement for some cases.\n",
    "\n",
    "## Instantiating a Trajectory\n",
    "\n",
    "Instantiating a Trajectory is simple.  Simply invoke `Trajectory()`.  The trajectory object\n",
    "itself is an OpenMDAO `Group` which serves as a container for its constituent Phases.\n",
    "\n",
    "- phases\n",
    "    An OpenMDAO `Group` or `ParallelGroup` holding the member phases\n",
    "- linkages\n",
    "    A Dymos `PhaseLinkageComp` that manages all of the linkage constraints that dictate how the phases are connected.\n",
    "\n",
    "## Adding Phases\n",
    "\n",
    "Phases are added to a Trajectory using the `add_phase` method.\n",
    "\n",
    "```{eval-rst}\n",
    "    .. automethod:: dymos.Trajectory.add_phase\n",
    "        :noindex:\n",
    "```\n",
    "\n",
    "##  Defining Phase Linkages\n",
    "\n",
    "Having added phases to the Trajectory, they now exist as independent Groups within the OpenMDAO model.\n",
    "In order to enforce continuity among certain variables across phases, the user must declare which variables are to be continuous in value at each phase boundary.\n",
    "There are two methods in dymos which provide this functionality.\n",
    "The `add_linkage_constraint` method provides a very general way of coupling two phases together.\n",
    "It does so by generating a constraint of the following form:\n",
    "\n",
    "\\begin{align}\n",
    "    c = \\mathrm{sign}_a \\mathrm{var}_a + \\mathrm{sign}_b \\mathrm{var}_b\n",
    "\\end{align}\n",
    "\n",
    "Method `add_linkage_constraint` lets the user specify the variables and phases to be compared for this constraint, as well as the location of the variable in each phase (either 'initial' or 'final')\n",
    "By default this method is setup to provide continuity in a variable between two phases:\n",
    "- the sign of variable `a` is +1 while the sign of variable `b` is -1.\n",
    "- the location of variable `a` is 'final' while the location of variable `b` is 'initial'.\n",
    "- the default value of the constrained quantity is 0.0.\n",
    "\n",
    "In this way, the default behavior constrains the final value of some variable in phase `a` to be the same as the initial value of some variable in phase `b`.\n",
    "Other values for these options can provide other functionality.\n",
    "For instance, to simulate a mass jettison, we could require that the initial value of `mass` in phase `b` be 1000 kg less than the value of mass at the end of phase `a`.\n",
    "Providing arguments `equals = 1000, units='kg` would achieve this.\n",
    "\n",
    "Similarly, specifying other values for the locations of the variables in each phase can be used to ensure that two phases start or end at the same condition - such as the case in a branching trajectory or a rendezvous.\n",
    "\n",
    "While `add_linkage_constraint` gives the user a powerful capability, providing simple state and time continuity across multiple phases would be a very verbose undertaking using this method.\n",
    "The `link_phases` method is intended to simplify this process.\n",
    "In the finite-burn orbit raising example, there are three phases:  `burn1`, `coast`, `burn2`.\n",
    "This case is somewhat unusual in that the thrust acceleration is modeled as a state variable.  \n",
    "The acceleration needs to be zero in the coast phase, but continuous between `burn1` and `burn2`, assuming no mass was jettisoned during the coast and that the thrust magnitude doesn't change.\n",
    "\n",
    "### add_linkage_constraint\n",
    "\n",
    "```{eval-rst}\n",
    "    .. automethod:: dymos.Trajectory.add_linkage_constraint\n",
    "        :noindex:\n",
    "```\n",
    "\n",
    "### link_phases\n",
    "\n",
    "```{eval-rst}\n",
    "    .. automethod:: dymos.Trajectory.link_phases\n",
    "        :noindex:\n",
    "```"
   ]
  },
  {
   "cell_type": "markdown",
   "metadata": {},
   "source": [
    "## Examples of using the `link_phases` method\n",
    "\n",
    "**Typical Phase Linkage Sequence**\n",
    "\n",
    "A typical phase linkage sequence, where all phases use the same ODE (and therefore have\n",
    "the same states), are simply linked sequentially in time."
   ]
  },
  {
   "cell_type": "markdown",
   "metadata": {},
   "source": [
    "```python\n",
    "t.link_phases(['phase1', 'phase2', 'phase3'])\n",
    "```"
   ]
  },
  {
   "cell_type": "markdown",
   "metadata": {},
   "source": [
    "**Adding an Additional Linkage**\n",
    "\n",
    "If the user wants some control variable, `u`, to be continuous in value between `phase2` and\n",
    "`phase3` only, they could indicate that with the following code:"
   ]
  },
  {
   "cell_type": "markdown",
   "metadata": {},
   "source": [
    "```python\n",
    "t.link_phases(['phase2', 'phase3'], vars=['u'])\n",
    "```"
   ]
  },
  {
   "cell_type": "markdown",
   "metadata": {},
   "source": [
    "**Branching Trajectories**\n",
    "\n",
    "For a more complex example, consider the case where there are two phases which branch off\n",
    "from the same point, such as the case of a jettisoned stage.  The nominal trajectory\n",
    "consists of the phase sequence `['a', 'b', 'c']`.  Let phase `['d']` be the phase that tracks\n",
    "the jettisoned component to its impact with the ground.  The linkages in this case\n",
    "would be defined as:"
   ]
  },
  {
   "cell_type": "markdown",
   "metadata": {},
   "source": [
    "```python\n",
    "t.link_phases(['a', 'b', 'c'])\n",
    "t.link_phases(['b', 'd'])\n",
    "```"
   ]
  },
  {
   "cell_type": "markdown",
   "metadata": {},
   "source": [
    "**Specifying Linkage Locations**\n",
    "\n",
    "Phase linkages assume that, for each pair, the state/control values at the end (`'final'`)\n",
    "of the first phase are linked to the state/control values at the start of the second phase\n",
    "(`'initial'`).\n",
    "\n",
    "The user can override this behavior, but they must specify a pair of location strings for\n",
    "each pair given in `phases`.  For instance, in the following example phases `a` and `b`\n",
    "have the same initial time and state, but phase `c` follows phase `b`.  Note since there\n",
    "are three phases provided, there are two linkages and thus two pairs of location\n",
    "specifiers given."
   ]
  },
  {
   "cell_type": "markdown",
   "metadata": {},
   "source": [
    "```python\n",
    "t.link_phases(['a', 'b', 'c'], locs=[('initial', 'initial'), ('final', 'initial')])\n",
    "```"
   ]
  },
  {
   "cell_type": "markdown",
   "metadata": {},
   "source": [
    "##  Trajectory-Level Parameters\n",
    "\n",
    "Often times, there are parameters which apply to the entirety of a trajectory that potentially need to be optimized.\n",
    "If we implemented these as parameters within each phase individually, we would need some constraints to ensure that they held the same value within each phase.\n",
    "To avoid this complexity, Dymos Trajectory objects support their own Parameters.\n",
    "\n",
    "Like their Phase-based counterparts, Trajectory parameters produce may be design variables for the problem or used as inputs to the trajectory from external sources.\n",
    "\n",
    "When using Trajectory parameters, their values are connected to each phase as an Input Parameter within the Phase.\n",
    "Because ODEs in different phases may have different names for parameters (e.g. 'mass', 'm', 'm_total', etc) Dymos allows the user to specify the targeted ODE parameters on a phase-by-phase basis using the `targets` and `target_params` option.\n",
    "It can take on the following values.\n",
    "\n",
    "*  If `targets` is `None` the trajectory parameter will be connected to the phase input parameter of the same name in each phase, if it exists (otherwise it is not connected to that phase).\n",
    "\n",
    "*  Otherwise targets should be specified as a dictionary. And the behavior depends on the value associated with each phase name:\n",
    "\n",
    "    * If the phase name is not in the given dictionary, attempt to connect to an existing parameter of the same name in that phase.\n",
    "\n",
    "    * If the associated value is None, explicitly omit a connection to that phase.\n",
    "\n",
    "    * If the associated value is a string, connect to an existing input parameter whose name is given by the string in that phase.\n",
    "\n",
    "    * If the associated value is a Sequence, create an input parameter in that phase connected to the ODE targets given by the Sequence.\n",
    "\n",
    "## Explicit Simulation of Trajectories\n",
    "\n",
    "The `simulate` method on Trajectory is similar to that of the `simulate` method of Phases.  When\n",
    "invoked, it will perform a simulation of each Phase in the trajectory."
   ]
  }
 ],
 "metadata": {
  "jupytext": {
   "cell_metadata_filter": "-all",
   "notebook_metadata_filter": "-all",
   "text_representation": {
    "extension": ".md",
    "format_name": "markdown"
   }
  },
  "kernelspec": {
   "display_name": "Python 3",
   "language": "python",
   "name": "python3"
  },
  "language_info": {
   "codemirror_mode": {
    "name": "ipython",
    "version": 3
   },
   "file_extension": ".py",
   "mimetype": "text/x-python",
   "name": "python",
   "nbconvert_exporter": "python",
   "pygments_lexer": "ipython3",
   "version": "3.8.1"
  }
 },
 "nbformat": 4,
 "nbformat_minor": 4
}
