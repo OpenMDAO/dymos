{
 "cells": [
  {
   "cell_type": "code",
   "execution_count": null,
   "metadata": {
    "tags": [
     "active-ipynb",
     "remove-input",
     "remove-output"
    ]
   },
   "outputs": [],
   "source": [
    "# This cell is mandatory in all Dymos documentation notebooks.\n",
    "missing_packages = []\n",
    "try:\n",
    "    import openmdao.api as om  # noqa: F401\n",
    "except ImportError:\n",
    "    if 'google.colab' in str(get_ipython()):\n",
    "        !python -m pip install openmdao[notebooks]\n",
    "    else:\n",
    "        missing_packages.append('openmdao')\n",
    "try:\n",
    "    import dymos as dm  # noqa: F401\n",
    "except ImportError:\n",
    "    if 'google.colab' in str(get_ipython()):\n",
    "        !python -m pip install dymos\n",
    "    else:\n",
    "        missing_packages.append('dymos')\n",
    "try:\n",
    "    import pyoptsparse  # noqa: F401\n",
    "except ImportError:\n",
    "    if 'google.colab' in str(get_ipython()):\n",
    "        !pip install -q condacolab\n",
    "        import condacolab\n",
    "        condacolab.install_miniconda()\n",
    "        !conda install -c conda-forge pyoptsparse\n",
    "    else:\n",
    "        missing_packages.append('pyoptsparse')\n",
    "if missing_packages:\n",
    "    raise EnvironmentError('This notebook requires the following packages '\n",
    "                           'please install them and restart this notebook\\'s runtime: {\",\".join(missing_packages)}')"
   ]
  },
  {
   "cell_type": "markdown",
   "metadata": {},
   "source": [
    "# Phase Options"
   ]
  },
  {
   "cell_type": "markdown",
   "metadata": {},
   "source": [
    "## Phase.options\n",
    "General options available to all dymos Phases."
   ]
  },
  {
   "cell_type": "code",
   "execution_count": null,
   "metadata": {
    "tags": [
     "remove-input"
    ]
   },
   "outputs": [],
   "source": [
    "import dymos\n",
    "phase = dymos.Phase()\n",
    "\n",
    "om.show_options_table(phase)"
   ]
  },
  {
   "cell_type": "markdown",
   "metadata": {},
   "source": [
    "The transcription is an instance of one of the [transcriptions](./transcriptions_api) available in Dymos.\n",
    "\n",
    "\n",
    "Other options listed below control the behavior of various aspects of Phases.\n",
    "While most have corresponding phase methods for setting these values, users may now use the `set` method of OpenMDAO's OptionsDictionary to set the values of these options."
   ]
  },
  {
   "cell_type": "markdown",
   "metadata": {},
   "source": [
    "## Phase.timeseries_options\n",
    "\n",
    "These options control the behavior of timeseries within a Phase."
   ]
  },
  {
   "cell_type": "code",
   "execution_count": null,
   "metadata": {
    "scrolled": true,
    "tags": [
     "remove-input"
    ]
   },
   "outputs": [],
   "source": [
    "om.show_options_table(phase.timeseries_options)"
   ]
  },
  {
   "cell_type": "markdown",
   "metadata": {},
   "source": [
    "## Phase.refine_options\n",
    "These options control grid refinement within each Phase."
   ]
  },
  {
   "cell_type": "code",
   "execution_count": null,
   "metadata": {
    "scrolled": true,
    "tags": [
     "remove-input"
    ]
   },
   "outputs": [],
   "source": [
    "om.show_options_table(phase.refine_options)"
   ]
  },
  {
   "cell_type": "markdown",
   "metadata": {},
   "source": [
    "## Phase.simulate_options\n",
    "These options control the behavior of phase explicit simulation."
   ]
  },
  {
   "cell_type": "code",
   "execution_count": null,
   "metadata": {
    "scrolled": true,
    "tags": [
     "remove-input"
    ]
   },
   "outputs": [],
   "source": [
    "om.show_options_table(phase.simulate_options)"
   ]
  },
  {
   "cell_type": "markdown",
   "metadata": {},
   "source": [
    "# Phase Methods"
   ]
  },
  {
   "cell_type": "markdown",
   "metadata": {},
   "source": [
    "## set_time_options\n",
    "\n",
    "```{eval-rst}\n",
    "    .. automethod:: dymos.Phase.set_time_options\n",
    "        :noindex:\n",
    "```\n",
    "\n",
    "## set_time_val\n",
    "\n",
    "```{eval-rst}\n",
    "    .. automethod:: dymos.Phase.set_time_val\n",
    "        :noindex:\n",
    "```\n",
    "\n",
    "\n",
    "## add_state\n",
    "```{eval-rst}\n",
    "    .. automethod:: dymos.Phase.add_state\n",
    "        :noindex:\n",
    "```\n",
    "\n",
    "## set_state_options\n",
    "```{eval-rst}\n",
    "    .. automethod:: dymos.Phase.set_state_options\n",
    "        :noindex:\n",
    "```\n",
    "\n",
    "## set_state_val\n",
    "```{eval-rst}\n",
    "    .. automethod:: dymos.Phase.set_state_val\n",
    "        :noindex:\n",
    "```\n",
    "\n",
    "## add_control\n",
    "```{eval-rst}\n",
    "    .. automethod:: dymos.Phase.add_control\n",
    "        :noindex:\n",
    "```\n",
    "\n",
    "## set_control_options\n",
    "```{eval-rst}\n",
    "    .. automethod:: dymos.Phase.set_control_options\n",
    "        :noindex:\n",
    "```\n",
    "\n",
    "## set_control_val\n",
    "```{eval-rst}\n",
    "    .. automethod:: dymos.Phase.set_control_val\n",
    "        :noindex:\n",
    "```\n",
    "\n",
    "## add_polynomial_control\n",
    "```{eval-rst}\n",
    "    .. automethod:: dymos.Phase.add_polynomial_control\n",
    "        :noindex:\n",
    "```\n",
    "\n",
    "## set_polynomial_control_options\n",
    "```{eval-rst}\n",
    "    .. automethod:: dymos.Phase.set_polynomial_control_options\n",
    "        :noindex:\n",
    "```\n",
    "\n",
    "## set_polynomial_control_val\n",
    "```{eval-rst}\n",
    "    .. automethod:: dymos.Phase.set_polynomial_control_val\n",
    "        :noindex:\n",
    "```\n",
    "\n",
    "## add_parameter\n",
    "```{eval-rst}\n",
    "    .. automethod:: dymos.Phase.add_parameter\n",
    "        :noindex:\n",
    "```\n",
    "\n",
    "## set_parameter_options\n",
    "```{eval-rst}\n",
    "    .. automethod:: dymos.Phase.set_parameter_options\n",
    "        :noindex:\n",
    "```\n",
    "\n",
    "## set_parameter_val\n",
    "```{eval-rst}\n",
    "    .. automethod:: dymos.Phase.set_parameter_val\n",
    "        :noindex:\n",
    "```\n",
    "\n",
    "## add_timeseries\n",
    "```{eval-rst}\n",
    "    .. automethod:: dymos.Phase.add_timeseries\n",
    "        :noindex:\n",
    "```\n",
    "\n",
    "## add_timeseries_output\n",
    "```{eval-rst}\n",
    "    .. automethod:: dymos.Phase.add_timeseries_output\n",
    "        :noindex:\n",
    "```\n",
    "\n",
    "## add_boundary_constraint\n",
    "```{eval-rst}\n",
    "    .. automethod:: dymos.Phase.add_boundary_constraint\n",
    "        :noindex:\n",
    "```\n",
    "\n",
    "## add_path_constraint\n",
    "```{eval-rst}\n",
    "    .. automethod:: dymos.Phase.add_path_constraint\n",
    "        :noindex:\n",
    "```\n",
    "\n",
    "## simulate\n",
    "```{eval-rst}\n",
    "    .. automethod:: dymos.Phase.simulate\n",
    "        :noindex:\n",
    "```\n",
    "\n",
    "## duplicate\n",
    "```{eval-rst}\n",
    "    .. automethod:: dymos.Phase.duplicate\n",
    "        :noindex:\n",
    "```\n",
    "\n",
    "## set_refine_options\n",
    "```{eval-rst}\n",
    "    .. automethod:: dymos.Phase.set_refine_options\n",
    "        :noindex:\n",
    "```\n",
    "\n",
    "## interp\n",
    "```{eval-rst}\n",
    "    .. automethod:: dymos.Phase.interp\n",
    "        :noindex:\n",
    "```"
   ]
  },
  {
   "cell_type": "code",
   "execution_count": null,
   "metadata": {},
   "outputs": [],
   "source": []
  }
 ],
 "metadata": {
  "celltoolbar": "Tags",
  "jupytext": {
   "cell_metadata_filter": "-all",
   "notebook_metadata_filter": "-all",
   "text_representation": {
    "extension": ".md",
    "format_name": "markdown"
   }
  },
  "kernelspec": {
   "display_name": "Python 3 (ipykernel)",
   "language": "python",
   "name": "python3"
  },
  "language_info": {
   "codemirror_mode": {
    "name": "ipython",
    "version": 3
   },
   "file_extension": ".py",
   "mimetype": "text/x-python",
   "name": "python",
   "nbconvert_exporter": "python",
   "pygments_lexer": "ipython3",
   "version": "3.11.0"
  }
 },
 "nbformat": 4,
 "nbformat_minor": 4
}
